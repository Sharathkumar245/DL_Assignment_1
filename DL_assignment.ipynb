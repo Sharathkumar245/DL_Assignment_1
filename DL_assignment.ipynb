{
  "nbformat": 4,
  "nbformat_minor": 0,
  "metadata": {
    "colab": {
      "provenance": [],
      "authorship_tag": "ABX9TyOekc8aP2yNO0okitCMM/+C"
    },
    "kernelspec": {
      "name": "python3",
      "display_name": "Python 3"
    },
    "language_info": {
      "name": "python"
    },
    "widgets": {
      "application/vnd.jupyter.widget-state+json": {
        "bd72f9010e4f4239879ec14ed0a195d4": {
          "model_module": "@jupyter-widgets/controls",
          "model_name": "VBoxModel",
          "model_module_version": "1.5.0",
          "state": {
            "_dom_classes": [],
            "_model_module": "@jupyter-widgets/controls",
            "_model_module_version": "1.5.0",
            "_model_name": "VBoxModel",
            "_view_count": null,
            "_view_module": "@jupyter-widgets/controls",
            "_view_module_version": "1.5.0",
            "_view_name": "VBoxView",
            "box_style": "",
            "children": [
              "IPY_MODEL_fdcaf342ec364648871bf3e6d5c20ad8",
              "IPY_MODEL_6e9a37ce0dff415b932c1cdd6197b8b8"
            ],
            "layout": "IPY_MODEL_62e46595db834eafbeaab6f8fe4c58c4"
          }
        },
        "fdcaf342ec364648871bf3e6d5c20ad8": {
          "model_module": "@jupyter-widgets/controls",
          "model_name": "LabelModel",
          "model_module_version": "1.5.0",
          "state": {
            "_dom_classes": [],
            "_model_module": "@jupyter-widgets/controls",
            "_model_module_version": "1.5.0",
            "_model_name": "LabelModel",
            "_view_count": null,
            "_view_module": "@jupyter-widgets/controls",
            "_view_module_version": "1.5.0",
            "_view_name": "LabelView",
            "description": "",
            "description_tooltip": null,
            "layout": "IPY_MODEL_c49497cb8ab5457ea6edcb09dc3133b7",
            "placeholder": "​",
            "style": "IPY_MODEL_96c588b828d24ca2b964621e60d76310",
            "value": "0.011 MB of 0.011 MB uploaded\r"
          }
        },
        "6e9a37ce0dff415b932c1cdd6197b8b8": {
          "model_module": "@jupyter-widgets/controls",
          "model_name": "FloatProgressModel",
          "model_module_version": "1.5.0",
          "state": {
            "_dom_classes": [],
            "_model_module": "@jupyter-widgets/controls",
            "_model_module_version": "1.5.0",
            "_model_name": "FloatProgressModel",
            "_view_count": null,
            "_view_module": "@jupyter-widgets/controls",
            "_view_module_version": "1.5.0",
            "_view_name": "ProgressView",
            "bar_style": "",
            "description": "",
            "description_tooltip": null,
            "layout": "IPY_MODEL_b60352be5934496f9ef86c77687c895c",
            "max": 1,
            "min": 0,
            "orientation": "horizontal",
            "style": "IPY_MODEL_6d765d0c31b845968ca216e5e9c50432",
            "value": 1
          }
        },
        "62e46595db834eafbeaab6f8fe4c58c4": {
          "model_module": "@jupyter-widgets/base",
          "model_name": "LayoutModel",
          "model_module_version": "1.2.0",
          "state": {
            "_model_module": "@jupyter-widgets/base",
            "_model_module_version": "1.2.0",
            "_model_name": "LayoutModel",
            "_view_count": null,
            "_view_module": "@jupyter-widgets/base",
            "_view_module_version": "1.2.0",
            "_view_name": "LayoutView",
            "align_content": null,
            "align_items": null,
            "align_self": null,
            "border": null,
            "bottom": null,
            "display": null,
            "flex": null,
            "flex_flow": null,
            "grid_area": null,
            "grid_auto_columns": null,
            "grid_auto_flow": null,
            "grid_auto_rows": null,
            "grid_column": null,
            "grid_gap": null,
            "grid_row": null,
            "grid_template_areas": null,
            "grid_template_columns": null,
            "grid_template_rows": null,
            "height": null,
            "justify_content": null,
            "justify_items": null,
            "left": null,
            "margin": null,
            "max_height": null,
            "max_width": null,
            "min_height": null,
            "min_width": null,
            "object_fit": null,
            "object_position": null,
            "order": null,
            "overflow": null,
            "overflow_x": null,
            "overflow_y": null,
            "padding": null,
            "right": null,
            "top": null,
            "visibility": null,
            "width": null
          }
        },
        "c49497cb8ab5457ea6edcb09dc3133b7": {
          "model_module": "@jupyter-widgets/base",
          "model_name": "LayoutModel",
          "model_module_version": "1.2.0",
          "state": {
            "_model_module": "@jupyter-widgets/base",
            "_model_module_version": "1.2.0",
            "_model_name": "LayoutModel",
            "_view_count": null,
            "_view_module": "@jupyter-widgets/base",
            "_view_module_version": "1.2.0",
            "_view_name": "LayoutView",
            "align_content": null,
            "align_items": null,
            "align_self": null,
            "border": null,
            "bottom": null,
            "display": null,
            "flex": null,
            "flex_flow": null,
            "grid_area": null,
            "grid_auto_columns": null,
            "grid_auto_flow": null,
            "grid_auto_rows": null,
            "grid_column": null,
            "grid_gap": null,
            "grid_row": null,
            "grid_template_areas": null,
            "grid_template_columns": null,
            "grid_template_rows": null,
            "height": null,
            "justify_content": null,
            "justify_items": null,
            "left": null,
            "margin": null,
            "max_height": null,
            "max_width": null,
            "min_height": null,
            "min_width": null,
            "object_fit": null,
            "object_position": null,
            "order": null,
            "overflow": null,
            "overflow_x": null,
            "overflow_y": null,
            "padding": null,
            "right": null,
            "top": null,
            "visibility": null,
            "width": null
          }
        },
        "96c588b828d24ca2b964621e60d76310": {
          "model_module": "@jupyter-widgets/controls",
          "model_name": "DescriptionStyleModel",
          "model_module_version": "1.5.0",
          "state": {
            "_model_module": "@jupyter-widgets/controls",
            "_model_module_version": "1.5.0",
            "_model_name": "DescriptionStyleModel",
            "_view_count": null,
            "_view_module": "@jupyter-widgets/base",
            "_view_module_version": "1.2.0",
            "_view_name": "StyleView",
            "description_width": ""
          }
        },
        "b60352be5934496f9ef86c77687c895c": {
          "model_module": "@jupyter-widgets/base",
          "model_name": "LayoutModel",
          "model_module_version": "1.2.0",
          "state": {
            "_model_module": "@jupyter-widgets/base",
            "_model_module_version": "1.2.0",
            "_model_name": "LayoutModel",
            "_view_count": null,
            "_view_module": "@jupyter-widgets/base",
            "_view_module_version": "1.2.0",
            "_view_name": "LayoutView",
            "align_content": null,
            "align_items": null,
            "align_self": null,
            "border": null,
            "bottom": null,
            "display": null,
            "flex": null,
            "flex_flow": null,
            "grid_area": null,
            "grid_auto_columns": null,
            "grid_auto_flow": null,
            "grid_auto_rows": null,
            "grid_column": null,
            "grid_gap": null,
            "grid_row": null,
            "grid_template_areas": null,
            "grid_template_columns": null,
            "grid_template_rows": null,
            "height": null,
            "justify_content": null,
            "justify_items": null,
            "left": null,
            "margin": null,
            "max_height": null,
            "max_width": null,
            "min_height": null,
            "min_width": null,
            "object_fit": null,
            "object_position": null,
            "order": null,
            "overflow": null,
            "overflow_x": null,
            "overflow_y": null,
            "padding": null,
            "right": null,
            "top": null,
            "visibility": null,
            "width": null
          }
        },
        "6d765d0c31b845968ca216e5e9c50432": {
          "model_module": "@jupyter-widgets/controls",
          "model_name": "ProgressStyleModel",
          "model_module_version": "1.5.0",
          "state": {
            "_model_module": "@jupyter-widgets/controls",
            "_model_module_version": "1.5.0",
            "_model_name": "ProgressStyleModel",
            "_view_count": null,
            "_view_module": "@jupyter-widgets/base",
            "_view_module_version": "1.2.0",
            "_view_name": "StyleView",
            "bar_color": null,
            "description_width": ""
          }
        },
        "df1b1f19cf5b4b979ebf8dfa0d1ded2c": {
          "model_module": "@jupyter-widgets/controls",
          "model_name": "VBoxModel",
          "model_module_version": "1.5.0",
          "state": {
            "_dom_classes": [],
            "_model_module": "@jupyter-widgets/controls",
            "_model_module_version": "1.5.0",
            "_model_name": "VBoxModel",
            "_view_count": null,
            "_view_module": "@jupyter-widgets/controls",
            "_view_module_version": "1.5.0",
            "_view_name": "VBoxView",
            "box_style": "",
            "children": [
              "IPY_MODEL_533c458bc264455888f54d6b9ad7fc7a",
              "IPY_MODEL_05a3abe40acb483ca8ae784099edfe3e"
            ],
            "layout": "IPY_MODEL_07131f84c2494b9889c203a1356ba254"
          }
        },
        "533c458bc264455888f54d6b9ad7fc7a": {
          "model_module": "@jupyter-widgets/controls",
          "model_name": "LabelModel",
          "model_module_version": "1.5.0",
          "state": {
            "_dom_classes": [],
            "_model_module": "@jupyter-widgets/controls",
            "_model_module_version": "1.5.0",
            "_model_name": "LabelModel",
            "_view_count": null,
            "_view_module": "@jupyter-widgets/controls",
            "_view_module_version": "1.5.0",
            "_view_name": "LabelView",
            "description": "",
            "description_tooltip": null,
            "layout": "IPY_MODEL_bb2605611474452998fbea0f084373c0",
            "placeholder": "​",
            "style": "IPY_MODEL_2bf61179cde34285bc138d58c4bdb47b",
            "value": "0.012 MB of 0.012 MB uploaded\r"
          }
        },
        "05a3abe40acb483ca8ae784099edfe3e": {
          "model_module": "@jupyter-widgets/controls",
          "model_name": "FloatProgressModel",
          "model_module_version": "1.5.0",
          "state": {
            "_dom_classes": [],
            "_model_module": "@jupyter-widgets/controls",
            "_model_module_version": "1.5.0",
            "_model_name": "FloatProgressModel",
            "_view_count": null,
            "_view_module": "@jupyter-widgets/controls",
            "_view_module_version": "1.5.0",
            "_view_name": "ProgressView",
            "bar_style": "",
            "description": "",
            "description_tooltip": null,
            "layout": "IPY_MODEL_b80b8795dc7d4ec3b0d794a75b3fa860",
            "max": 1,
            "min": 0,
            "orientation": "horizontal",
            "style": "IPY_MODEL_6d2c9d71aef8494c9b381bda309b7d9d",
            "value": 1
          }
        },
        "07131f84c2494b9889c203a1356ba254": {
          "model_module": "@jupyter-widgets/base",
          "model_name": "LayoutModel",
          "model_module_version": "1.2.0",
          "state": {
            "_model_module": "@jupyter-widgets/base",
            "_model_module_version": "1.2.0",
            "_model_name": "LayoutModel",
            "_view_count": null,
            "_view_module": "@jupyter-widgets/base",
            "_view_module_version": "1.2.0",
            "_view_name": "LayoutView",
            "align_content": null,
            "align_items": null,
            "align_self": null,
            "border": null,
            "bottom": null,
            "display": null,
            "flex": null,
            "flex_flow": null,
            "grid_area": null,
            "grid_auto_columns": null,
            "grid_auto_flow": null,
            "grid_auto_rows": null,
            "grid_column": null,
            "grid_gap": null,
            "grid_row": null,
            "grid_template_areas": null,
            "grid_template_columns": null,
            "grid_template_rows": null,
            "height": null,
            "justify_content": null,
            "justify_items": null,
            "left": null,
            "margin": null,
            "max_height": null,
            "max_width": null,
            "min_height": null,
            "min_width": null,
            "object_fit": null,
            "object_position": null,
            "order": null,
            "overflow": null,
            "overflow_x": null,
            "overflow_y": null,
            "padding": null,
            "right": null,
            "top": null,
            "visibility": null,
            "width": null
          }
        },
        "bb2605611474452998fbea0f084373c0": {
          "model_module": "@jupyter-widgets/base",
          "model_name": "LayoutModel",
          "model_module_version": "1.2.0",
          "state": {
            "_model_module": "@jupyter-widgets/base",
            "_model_module_version": "1.2.0",
            "_model_name": "LayoutModel",
            "_view_count": null,
            "_view_module": "@jupyter-widgets/base",
            "_view_module_version": "1.2.0",
            "_view_name": "LayoutView",
            "align_content": null,
            "align_items": null,
            "align_self": null,
            "border": null,
            "bottom": null,
            "display": null,
            "flex": null,
            "flex_flow": null,
            "grid_area": null,
            "grid_auto_columns": null,
            "grid_auto_flow": null,
            "grid_auto_rows": null,
            "grid_column": null,
            "grid_gap": null,
            "grid_row": null,
            "grid_template_areas": null,
            "grid_template_columns": null,
            "grid_template_rows": null,
            "height": null,
            "justify_content": null,
            "justify_items": null,
            "left": null,
            "margin": null,
            "max_height": null,
            "max_width": null,
            "min_height": null,
            "min_width": null,
            "object_fit": null,
            "object_position": null,
            "order": null,
            "overflow": null,
            "overflow_x": null,
            "overflow_y": null,
            "padding": null,
            "right": null,
            "top": null,
            "visibility": null,
            "width": null
          }
        },
        "2bf61179cde34285bc138d58c4bdb47b": {
          "model_module": "@jupyter-widgets/controls",
          "model_name": "DescriptionStyleModel",
          "model_module_version": "1.5.0",
          "state": {
            "_model_module": "@jupyter-widgets/controls",
            "_model_module_version": "1.5.0",
            "_model_name": "DescriptionStyleModel",
            "_view_count": null,
            "_view_module": "@jupyter-widgets/base",
            "_view_module_version": "1.2.0",
            "_view_name": "StyleView",
            "description_width": ""
          }
        },
        "b80b8795dc7d4ec3b0d794a75b3fa860": {
          "model_module": "@jupyter-widgets/base",
          "model_name": "LayoutModel",
          "model_module_version": "1.2.0",
          "state": {
            "_model_module": "@jupyter-widgets/base",
            "_model_module_version": "1.2.0",
            "_model_name": "LayoutModel",
            "_view_count": null,
            "_view_module": "@jupyter-widgets/base",
            "_view_module_version": "1.2.0",
            "_view_name": "LayoutView",
            "align_content": null,
            "align_items": null,
            "align_self": null,
            "border": null,
            "bottom": null,
            "display": null,
            "flex": null,
            "flex_flow": null,
            "grid_area": null,
            "grid_auto_columns": null,
            "grid_auto_flow": null,
            "grid_auto_rows": null,
            "grid_column": null,
            "grid_gap": null,
            "grid_row": null,
            "grid_template_areas": null,
            "grid_template_columns": null,
            "grid_template_rows": null,
            "height": null,
            "justify_content": null,
            "justify_items": null,
            "left": null,
            "margin": null,
            "max_height": null,
            "max_width": null,
            "min_height": null,
            "min_width": null,
            "object_fit": null,
            "object_position": null,
            "order": null,
            "overflow": null,
            "overflow_x": null,
            "overflow_y": null,
            "padding": null,
            "right": null,
            "top": null,
            "visibility": null,
            "width": null
          }
        },
        "6d2c9d71aef8494c9b381bda309b7d9d": {
          "model_module": "@jupyter-widgets/controls",
          "model_name": "ProgressStyleModel",
          "model_module_version": "1.5.0",
          "state": {
            "_model_module": "@jupyter-widgets/controls",
            "_model_module_version": "1.5.0",
            "_model_name": "ProgressStyleModel",
            "_view_count": null,
            "_view_module": "@jupyter-widgets/base",
            "_view_module_version": "1.2.0",
            "_view_name": "StyleView",
            "bar_color": null,
            "description_width": ""
          }
        },
        "ac75524a5b244ff097085ed8dc6752b2": {
          "model_module": "@jupyter-widgets/controls",
          "model_name": "VBoxModel",
          "model_module_version": "1.5.0",
          "state": {
            "_dom_classes": [],
            "_model_module": "@jupyter-widgets/controls",
            "_model_module_version": "1.5.0",
            "_model_name": "VBoxModel",
            "_view_count": null,
            "_view_module": "@jupyter-widgets/controls",
            "_view_module_version": "1.5.0",
            "_view_name": "VBoxView",
            "box_style": "",
            "children": [
              "IPY_MODEL_385ae2cc805d4681993c9501b8c79c16",
              "IPY_MODEL_e744dfd96a324360a44b0aaa6f6a6418"
            ],
            "layout": "IPY_MODEL_aa7202c60fbe426b965ef4cf2e8bc5cd"
          }
        },
        "385ae2cc805d4681993c9501b8c79c16": {
          "model_module": "@jupyter-widgets/controls",
          "model_name": "LabelModel",
          "model_module_version": "1.5.0",
          "state": {
            "_dom_classes": [],
            "_model_module": "@jupyter-widgets/controls",
            "_model_module_version": "1.5.0",
            "_model_name": "LabelModel",
            "_view_count": null,
            "_view_module": "@jupyter-widgets/controls",
            "_view_module_version": "1.5.0",
            "_view_name": "LabelView",
            "description": "",
            "description_tooltip": null,
            "layout": "IPY_MODEL_7df6573ff5ee4285a601b7a2b3df0e8e",
            "placeholder": "​",
            "style": "IPY_MODEL_f9e90b5d2596481eb0e52b66beda40ec",
            "value": "0.011 MB of 0.011 MB uploaded\r"
          }
        },
        "e744dfd96a324360a44b0aaa6f6a6418": {
          "model_module": "@jupyter-widgets/controls",
          "model_name": "FloatProgressModel",
          "model_module_version": "1.5.0",
          "state": {
            "_dom_classes": [],
            "_model_module": "@jupyter-widgets/controls",
            "_model_module_version": "1.5.0",
            "_model_name": "FloatProgressModel",
            "_view_count": null,
            "_view_module": "@jupyter-widgets/controls",
            "_view_module_version": "1.5.0",
            "_view_name": "ProgressView",
            "bar_style": "",
            "description": "",
            "description_tooltip": null,
            "layout": "IPY_MODEL_2bf366e05b654cbbaa40c806d8d9d20c",
            "max": 1,
            "min": 0,
            "orientation": "horizontal",
            "style": "IPY_MODEL_9dd92a49817342f3aa4b7f788d92db44",
            "value": 1
          }
        },
        "aa7202c60fbe426b965ef4cf2e8bc5cd": {
          "model_module": "@jupyter-widgets/base",
          "model_name": "LayoutModel",
          "model_module_version": "1.2.0",
          "state": {
            "_model_module": "@jupyter-widgets/base",
            "_model_module_version": "1.2.0",
            "_model_name": "LayoutModel",
            "_view_count": null,
            "_view_module": "@jupyter-widgets/base",
            "_view_module_version": "1.2.0",
            "_view_name": "LayoutView",
            "align_content": null,
            "align_items": null,
            "align_self": null,
            "border": null,
            "bottom": null,
            "display": null,
            "flex": null,
            "flex_flow": null,
            "grid_area": null,
            "grid_auto_columns": null,
            "grid_auto_flow": null,
            "grid_auto_rows": null,
            "grid_column": null,
            "grid_gap": null,
            "grid_row": null,
            "grid_template_areas": null,
            "grid_template_columns": null,
            "grid_template_rows": null,
            "height": null,
            "justify_content": null,
            "justify_items": null,
            "left": null,
            "margin": null,
            "max_height": null,
            "max_width": null,
            "min_height": null,
            "min_width": null,
            "object_fit": null,
            "object_position": null,
            "order": null,
            "overflow": null,
            "overflow_x": null,
            "overflow_y": null,
            "padding": null,
            "right": null,
            "top": null,
            "visibility": null,
            "width": null
          }
        },
        "7df6573ff5ee4285a601b7a2b3df0e8e": {
          "model_module": "@jupyter-widgets/base",
          "model_name": "LayoutModel",
          "model_module_version": "1.2.0",
          "state": {
            "_model_module": "@jupyter-widgets/base",
            "_model_module_version": "1.2.0",
            "_model_name": "LayoutModel",
            "_view_count": null,
            "_view_module": "@jupyter-widgets/base",
            "_view_module_version": "1.2.0",
            "_view_name": "LayoutView",
            "align_content": null,
            "align_items": null,
            "align_self": null,
            "border": null,
            "bottom": null,
            "display": null,
            "flex": null,
            "flex_flow": null,
            "grid_area": null,
            "grid_auto_columns": null,
            "grid_auto_flow": null,
            "grid_auto_rows": null,
            "grid_column": null,
            "grid_gap": null,
            "grid_row": null,
            "grid_template_areas": null,
            "grid_template_columns": null,
            "grid_template_rows": null,
            "height": null,
            "justify_content": null,
            "justify_items": null,
            "left": null,
            "margin": null,
            "max_height": null,
            "max_width": null,
            "min_height": null,
            "min_width": null,
            "object_fit": null,
            "object_position": null,
            "order": null,
            "overflow": null,
            "overflow_x": null,
            "overflow_y": null,
            "padding": null,
            "right": null,
            "top": null,
            "visibility": null,
            "width": null
          }
        },
        "f9e90b5d2596481eb0e52b66beda40ec": {
          "model_module": "@jupyter-widgets/controls",
          "model_name": "DescriptionStyleModel",
          "model_module_version": "1.5.0",
          "state": {
            "_model_module": "@jupyter-widgets/controls",
            "_model_module_version": "1.5.0",
            "_model_name": "DescriptionStyleModel",
            "_view_count": null,
            "_view_module": "@jupyter-widgets/base",
            "_view_module_version": "1.2.0",
            "_view_name": "StyleView",
            "description_width": ""
          }
        },
        "2bf366e05b654cbbaa40c806d8d9d20c": {
          "model_module": "@jupyter-widgets/base",
          "model_name": "LayoutModel",
          "model_module_version": "1.2.0",
          "state": {
            "_model_module": "@jupyter-widgets/base",
            "_model_module_version": "1.2.0",
            "_model_name": "LayoutModel",
            "_view_count": null,
            "_view_module": "@jupyter-widgets/base",
            "_view_module_version": "1.2.0",
            "_view_name": "LayoutView",
            "align_content": null,
            "align_items": null,
            "align_self": null,
            "border": null,
            "bottom": null,
            "display": null,
            "flex": null,
            "flex_flow": null,
            "grid_area": null,
            "grid_auto_columns": null,
            "grid_auto_flow": null,
            "grid_auto_rows": null,
            "grid_column": null,
            "grid_gap": null,
            "grid_row": null,
            "grid_template_areas": null,
            "grid_template_columns": null,
            "grid_template_rows": null,
            "height": null,
            "justify_content": null,
            "justify_items": null,
            "left": null,
            "margin": null,
            "max_height": null,
            "max_width": null,
            "min_height": null,
            "min_width": null,
            "object_fit": null,
            "object_position": null,
            "order": null,
            "overflow": null,
            "overflow_x": null,
            "overflow_y": null,
            "padding": null,
            "right": null,
            "top": null,
            "visibility": null,
            "width": null
          }
        },
        "9dd92a49817342f3aa4b7f788d92db44": {
          "model_module": "@jupyter-widgets/controls",
          "model_name": "ProgressStyleModel",
          "model_module_version": "1.5.0",
          "state": {
            "_model_module": "@jupyter-widgets/controls",
            "_model_module_version": "1.5.0",
            "_model_name": "ProgressStyleModel",
            "_view_count": null,
            "_view_module": "@jupyter-widgets/base",
            "_view_module_version": "1.2.0",
            "_view_name": "StyleView",
            "bar_color": null,
            "description_width": ""
          }
        },
        "851bfc2599ad4db183b7ab710982c7ba": {
          "model_module": "@jupyter-widgets/controls",
          "model_name": "VBoxModel",
          "model_module_version": "1.5.0",
          "state": {
            "_dom_classes": [],
            "_model_module": "@jupyter-widgets/controls",
            "_model_module_version": "1.5.0",
            "_model_name": "VBoxModel",
            "_view_count": null,
            "_view_module": "@jupyter-widgets/controls",
            "_view_module_version": "1.5.0",
            "_view_name": "VBoxView",
            "box_style": "",
            "children": [
              "IPY_MODEL_004f0d1981ee4f39a180bb2faf5936ba",
              "IPY_MODEL_d77822f3e7fc411fbbebab148cf07188"
            ],
            "layout": "IPY_MODEL_fc63f9bb60c04b97ac5d7184e1d608a5"
          }
        },
        "004f0d1981ee4f39a180bb2faf5936ba": {
          "model_module": "@jupyter-widgets/controls",
          "model_name": "LabelModel",
          "model_module_version": "1.5.0",
          "state": {
            "_dom_classes": [],
            "_model_module": "@jupyter-widgets/controls",
            "_model_module_version": "1.5.0",
            "_model_name": "LabelModel",
            "_view_count": null,
            "_view_module": "@jupyter-widgets/controls",
            "_view_module_version": "1.5.0",
            "_view_name": "LabelView",
            "description": "",
            "description_tooltip": null,
            "layout": "IPY_MODEL_99281f7a98ee428888066e57370645d9",
            "placeholder": "​",
            "style": "IPY_MODEL_2fbd3b266114442a87bd93443686709d",
            "value": "0.011 MB of 0.011 MB uploaded\r"
          }
        },
        "d77822f3e7fc411fbbebab148cf07188": {
          "model_module": "@jupyter-widgets/controls",
          "model_name": "FloatProgressModel",
          "model_module_version": "1.5.0",
          "state": {
            "_dom_classes": [],
            "_model_module": "@jupyter-widgets/controls",
            "_model_module_version": "1.5.0",
            "_model_name": "FloatProgressModel",
            "_view_count": null,
            "_view_module": "@jupyter-widgets/controls",
            "_view_module_version": "1.5.0",
            "_view_name": "ProgressView",
            "bar_style": "",
            "description": "",
            "description_tooltip": null,
            "layout": "IPY_MODEL_fbea68bda70b4d8b9d25e100a9e3f7ee",
            "max": 1,
            "min": 0,
            "orientation": "horizontal",
            "style": "IPY_MODEL_c77afd7a16c54733b709fdcc6c91a8c8",
            "value": 1
          }
        },
        "fc63f9bb60c04b97ac5d7184e1d608a5": {
          "model_module": "@jupyter-widgets/base",
          "model_name": "LayoutModel",
          "model_module_version": "1.2.0",
          "state": {
            "_model_module": "@jupyter-widgets/base",
            "_model_module_version": "1.2.0",
            "_model_name": "LayoutModel",
            "_view_count": null,
            "_view_module": "@jupyter-widgets/base",
            "_view_module_version": "1.2.0",
            "_view_name": "LayoutView",
            "align_content": null,
            "align_items": null,
            "align_self": null,
            "border": null,
            "bottom": null,
            "display": null,
            "flex": null,
            "flex_flow": null,
            "grid_area": null,
            "grid_auto_columns": null,
            "grid_auto_flow": null,
            "grid_auto_rows": null,
            "grid_column": null,
            "grid_gap": null,
            "grid_row": null,
            "grid_template_areas": null,
            "grid_template_columns": null,
            "grid_template_rows": null,
            "height": null,
            "justify_content": null,
            "justify_items": null,
            "left": null,
            "margin": null,
            "max_height": null,
            "max_width": null,
            "min_height": null,
            "min_width": null,
            "object_fit": null,
            "object_position": null,
            "order": null,
            "overflow": null,
            "overflow_x": null,
            "overflow_y": null,
            "padding": null,
            "right": null,
            "top": null,
            "visibility": null,
            "width": null
          }
        },
        "99281f7a98ee428888066e57370645d9": {
          "model_module": "@jupyter-widgets/base",
          "model_name": "LayoutModel",
          "model_module_version": "1.2.0",
          "state": {
            "_model_module": "@jupyter-widgets/base",
            "_model_module_version": "1.2.0",
            "_model_name": "LayoutModel",
            "_view_count": null,
            "_view_module": "@jupyter-widgets/base",
            "_view_module_version": "1.2.0",
            "_view_name": "LayoutView",
            "align_content": null,
            "align_items": null,
            "align_self": null,
            "border": null,
            "bottom": null,
            "display": null,
            "flex": null,
            "flex_flow": null,
            "grid_area": null,
            "grid_auto_columns": null,
            "grid_auto_flow": null,
            "grid_auto_rows": null,
            "grid_column": null,
            "grid_gap": null,
            "grid_row": null,
            "grid_template_areas": null,
            "grid_template_columns": null,
            "grid_template_rows": null,
            "height": null,
            "justify_content": null,
            "justify_items": null,
            "left": null,
            "margin": null,
            "max_height": null,
            "max_width": null,
            "min_height": null,
            "min_width": null,
            "object_fit": null,
            "object_position": null,
            "order": null,
            "overflow": null,
            "overflow_x": null,
            "overflow_y": null,
            "padding": null,
            "right": null,
            "top": null,
            "visibility": null,
            "width": null
          }
        },
        "2fbd3b266114442a87bd93443686709d": {
          "model_module": "@jupyter-widgets/controls",
          "model_name": "DescriptionStyleModel",
          "model_module_version": "1.5.0",
          "state": {
            "_model_module": "@jupyter-widgets/controls",
            "_model_module_version": "1.5.0",
            "_model_name": "DescriptionStyleModel",
            "_view_count": null,
            "_view_module": "@jupyter-widgets/base",
            "_view_module_version": "1.2.0",
            "_view_name": "StyleView",
            "description_width": ""
          }
        },
        "fbea68bda70b4d8b9d25e100a9e3f7ee": {
          "model_module": "@jupyter-widgets/base",
          "model_name": "LayoutModel",
          "model_module_version": "1.2.0",
          "state": {
            "_model_module": "@jupyter-widgets/base",
            "_model_module_version": "1.2.0",
            "_model_name": "LayoutModel",
            "_view_count": null,
            "_view_module": "@jupyter-widgets/base",
            "_view_module_version": "1.2.0",
            "_view_name": "LayoutView",
            "align_content": null,
            "align_items": null,
            "align_self": null,
            "border": null,
            "bottom": null,
            "display": null,
            "flex": null,
            "flex_flow": null,
            "grid_area": null,
            "grid_auto_columns": null,
            "grid_auto_flow": null,
            "grid_auto_rows": null,
            "grid_column": null,
            "grid_gap": null,
            "grid_row": null,
            "grid_template_areas": null,
            "grid_template_columns": null,
            "grid_template_rows": null,
            "height": null,
            "justify_content": null,
            "justify_items": null,
            "left": null,
            "margin": null,
            "max_height": null,
            "max_width": null,
            "min_height": null,
            "min_width": null,
            "object_fit": null,
            "object_position": null,
            "order": null,
            "overflow": null,
            "overflow_x": null,
            "overflow_y": null,
            "padding": null,
            "right": null,
            "top": null,
            "visibility": null,
            "width": null
          }
        },
        "c77afd7a16c54733b709fdcc6c91a8c8": {
          "model_module": "@jupyter-widgets/controls",
          "model_name": "ProgressStyleModel",
          "model_module_version": "1.5.0",
          "state": {
            "_model_module": "@jupyter-widgets/controls",
            "_model_module_version": "1.5.0",
            "_model_name": "ProgressStyleModel",
            "_view_count": null,
            "_view_module": "@jupyter-widgets/base",
            "_view_module_version": "1.2.0",
            "_view_name": "StyleView",
            "bar_color": null,
            "description_width": ""
          }
        },
        "d30de9f0f9a24f1aa26b65798850ff1c": {
          "model_module": "@jupyter-widgets/controls",
          "model_name": "VBoxModel",
          "model_module_version": "1.5.0",
          "state": {
            "_dom_classes": [],
            "_model_module": "@jupyter-widgets/controls",
            "_model_module_version": "1.5.0",
            "_model_name": "VBoxModel",
            "_view_count": null,
            "_view_module": "@jupyter-widgets/controls",
            "_view_module_version": "1.5.0",
            "_view_name": "VBoxView",
            "box_style": "",
            "children": [
              "IPY_MODEL_6773933c02fb4b51a184571750852d76",
              "IPY_MODEL_cc8127abd9fc4ef4aaab960676db76cc"
            ],
            "layout": "IPY_MODEL_60b56b763a2a4ad290d2dde2e05299af"
          }
        },
        "6773933c02fb4b51a184571750852d76": {
          "model_module": "@jupyter-widgets/controls",
          "model_name": "LabelModel",
          "model_module_version": "1.5.0",
          "state": {
            "_dom_classes": [],
            "_model_module": "@jupyter-widgets/controls",
            "_model_module_version": "1.5.0",
            "_model_name": "LabelModel",
            "_view_count": null,
            "_view_module": "@jupyter-widgets/controls",
            "_view_module_version": "1.5.0",
            "_view_name": "LabelView",
            "description": "",
            "description_tooltip": null,
            "layout": "IPY_MODEL_cc1b162da0a64990b19aaf4f11181c78",
            "placeholder": "​",
            "style": "IPY_MODEL_d798ffc82834495abd5ceb62d483f2d9",
            "value": "0.011 MB of 0.011 MB uploaded\r"
          }
        },
        "cc8127abd9fc4ef4aaab960676db76cc": {
          "model_module": "@jupyter-widgets/controls",
          "model_name": "FloatProgressModel",
          "model_module_version": "1.5.0",
          "state": {
            "_dom_classes": [],
            "_model_module": "@jupyter-widgets/controls",
            "_model_module_version": "1.5.0",
            "_model_name": "FloatProgressModel",
            "_view_count": null,
            "_view_module": "@jupyter-widgets/controls",
            "_view_module_version": "1.5.0",
            "_view_name": "ProgressView",
            "bar_style": "",
            "description": "",
            "description_tooltip": null,
            "layout": "IPY_MODEL_5a2ce2c60ca94ed9aa88b95531c44162",
            "max": 1,
            "min": 0,
            "orientation": "horizontal",
            "style": "IPY_MODEL_f54c05ca99f142fe9d640a64e7455db4",
            "value": 1
          }
        },
        "60b56b763a2a4ad290d2dde2e05299af": {
          "model_module": "@jupyter-widgets/base",
          "model_name": "LayoutModel",
          "model_module_version": "1.2.0",
          "state": {
            "_model_module": "@jupyter-widgets/base",
            "_model_module_version": "1.2.0",
            "_model_name": "LayoutModel",
            "_view_count": null,
            "_view_module": "@jupyter-widgets/base",
            "_view_module_version": "1.2.0",
            "_view_name": "LayoutView",
            "align_content": null,
            "align_items": null,
            "align_self": null,
            "border": null,
            "bottom": null,
            "display": null,
            "flex": null,
            "flex_flow": null,
            "grid_area": null,
            "grid_auto_columns": null,
            "grid_auto_flow": null,
            "grid_auto_rows": null,
            "grid_column": null,
            "grid_gap": null,
            "grid_row": null,
            "grid_template_areas": null,
            "grid_template_columns": null,
            "grid_template_rows": null,
            "height": null,
            "justify_content": null,
            "justify_items": null,
            "left": null,
            "margin": null,
            "max_height": null,
            "max_width": null,
            "min_height": null,
            "min_width": null,
            "object_fit": null,
            "object_position": null,
            "order": null,
            "overflow": null,
            "overflow_x": null,
            "overflow_y": null,
            "padding": null,
            "right": null,
            "top": null,
            "visibility": null,
            "width": null
          }
        },
        "cc1b162da0a64990b19aaf4f11181c78": {
          "model_module": "@jupyter-widgets/base",
          "model_name": "LayoutModel",
          "model_module_version": "1.2.0",
          "state": {
            "_model_module": "@jupyter-widgets/base",
            "_model_module_version": "1.2.0",
            "_model_name": "LayoutModel",
            "_view_count": null,
            "_view_module": "@jupyter-widgets/base",
            "_view_module_version": "1.2.0",
            "_view_name": "LayoutView",
            "align_content": null,
            "align_items": null,
            "align_self": null,
            "border": null,
            "bottom": null,
            "display": null,
            "flex": null,
            "flex_flow": null,
            "grid_area": null,
            "grid_auto_columns": null,
            "grid_auto_flow": null,
            "grid_auto_rows": null,
            "grid_column": null,
            "grid_gap": null,
            "grid_row": null,
            "grid_template_areas": null,
            "grid_template_columns": null,
            "grid_template_rows": null,
            "height": null,
            "justify_content": null,
            "justify_items": null,
            "left": null,
            "margin": null,
            "max_height": null,
            "max_width": null,
            "min_height": null,
            "min_width": null,
            "object_fit": null,
            "object_position": null,
            "order": null,
            "overflow": null,
            "overflow_x": null,
            "overflow_y": null,
            "padding": null,
            "right": null,
            "top": null,
            "visibility": null,
            "width": null
          }
        },
        "d798ffc82834495abd5ceb62d483f2d9": {
          "model_module": "@jupyter-widgets/controls",
          "model_name": "DescriptionStyleModel",
          "model_module_version": "1.5.0",
          "state": {
            "_model_module": "@jupyter-widgets/controls",
            "_model_module_version": "1.5.0",
            "_model_name": "DescriptionStyleModel",
            "_view_count": null,
            "_view_module": "@jupyter-widgets/base",
            "_view_module_version": "1.2.0",
            "_view_name": "StyleView",
            "description_width": ""
          }
        },
        "5a2ce2c60ca94ed9aa88b95531c44162": {
          "model_module": "@jupyter-widgets/base",
          "model_name": "LayoutModel",
          "model_module_version": "1.2.0",
          "state": {
            "_model_module": "@jupyter-widgets/base",
            "_model_module_version": "1.2.0",
            "_model_name": "LayoutModel",
            "_view_count": null,
            "_view_module": "@jupyter-widgets/base",
            "_view_module_version": "1.2.0",
            "_view_name": "LayoutView",
            "align_content": null,
            "align_items": null,
            "align_self": null,
            "border": null,
            "bottom": null,
            "display": null,
            "flex": null,
            "flex_flow": null,
            "grid_area": null,
            "grid_auto_columns": null,
            "grid_auto_flow": null,
            "grid_auto_rows": null,
            "grid_column": null,
            "grid_gap": null,
            "grid_row": null,
            "grid_template_areas": null,
            "grid_template_columns": null,
            "grid_template_rows": null,
            "height": null,
            "justify_content": null,
            "justify_items": null,
            "left": null,
            "margin": null,
            "max_height": null,
            "max_width": null,
            "min_height": null,
            "min_width": null,
            "object_fit": null,
            "object_position": null,
            "order": null,
            "overflow": null,
            "overflow_x": null,
            "overflow_y": null,
            "padding": null,
            "right": null,
            "top": null,
            "visibility": null,
            "width": null
          }
        },
        "f54c05ca99f142fe9d640a64e7455db4": {
          "model_module": "@jupyter-widgets/controls",
          "model_name": "ProgressStyleModel",
          "model_module_version": "1.5.0",
          "state": {
            "_model_module": "@jupyter-widgets/controls",
            "_model_module_version": "1.5.0",
            "_model_name": "ProgressStyleModel",
            "_view_count": null,
            "_view_module": "@jupyter-widgets/base",
            "_view_module_version": "1.2.0",
            "_view_name": "StyleView",
            "bar_color": null,
            "description_width": ""
          }
        },
        "7f9e9b5392a840a2b8ebe6270c744190": {
          "model_module": "@jupyter-widgets/controls",
          "model_name": "VBoxModel",
          "model_module_version": "1.5.0",
          "state": {
            "_dom_classes": [],
            "_model_module": "@jupyter-widgets/controls",
            "_model_module_version": "1.5.0",
            "_model_name": "VBoxModel",
            "_view_count": null,
            "_view_module": "@jupyter-widgets/controls",
            "_view_module_version": "1.5.0",
            "_view_name": "VBoxView",
            "box_style": "",
            "children": [
              "IPY_MODEL_82371c93179c47328129b3579f92a5ba",
              "IPY_MODEL_05b008ee860f4c998370f7fc07830f81"
            ],
            "layout": "IPY_MODEL_3dbfad50ef434fa299422ba94a90791a"
          }
        },
        "82371c93179c47328129b3579f92a5ba": {
          "model_module": "@jupyter-widgets/controls",
          "model_name": "LabelModel",
          "model_module_version": "1.5.0",
          "state": {
            "_dom_classes": [],
            "_model_module": "@jupyter-widgets/controls",
            "_model_module_version": "1.5.0",
            "_model_name": "LabelModel",
            "_view_count": null,
            "_view_module": "@jupyter-widgets/controls",
            "_view_module_version": "1.5.0",
            "_view_name": "LabelView",
            "description": "",
            "description_tooltip": null,
            "layout": "IPY_MODEL_96023febab6c406ca8c7ac3250fe70c2",
            "placeholder": "​",
            "style": "IPY_MODEL_137fe3f7fdbc4cbe958db11066ec57a3",
            "value": "0.011 MB of 0.011 MB uploaded\r"
          }
        },
        "05b008ee860f4c998370f7fc07830f81": {
          "model_module": "@jupyter-widgets/controls",
          "model_name": "FloatProgressModel",
          "model_module_version": "1.5.0",
          "state": {
            "_dom_classes": [],
            "_model_module": "@jupyter-widgets/controls",
            "_model_module_version": "1.5.0",
            "_model_name": "FloatProgressModel",
            "_view_count": null,
            "_view_module": "@jupyter-widgets/controls",
            "_view_module_version": "1.5.0",
            "_view_name": "ProgressView",
            "bar_style": "",
            "description": "",
            "description_tooltip": null,
            "layout": "IPY_MODEL_31a24c6e21c94f0cbfa44fe9fa3dae8a",
            "max": 1,
            "min": 0,
            "orientation": "horizontal",
            "style": "IPY_MODEL_354bf69852124065816ee8ad5135adcb",
            "value": 1
          }
        },
        "3dbfad50ef434fa299422ba94a90791a": {
          "model_module": "@jupyter-widgets/base",
          "model_name": "LayoutModel",
          "model_module_version": "1.2.0",
          "state": {
            "_model_module": "@jupyter-widgets/base",
            "_model_module_version": "1.2.0",
            "_model_name": "LayoutModel",
            "_view_count": null,
            "_view_module": "@jupyter-widgets/base",
            "_view_module_version": "1.2.0",
            "_view_name": "LayoutView",
            "align_content": null,
            "align_items": null,
            "align_self": null,
            "border": null,
            "bottom": null,
            "display": null,
            "flex": null,
            "flex_flow": null,
            "grid_area": null,
            "grid_auto_columns": null,
            "grid_auto_flow": null,
            "grid_auto_rows": null,
            "grid_column": null,
            "grid_gap": null,
            "grid_row": null,
            "grid_template_areas": null,
            "grid_template_columns": null,
            "grid_template_rows": null,
            "height": null,
            "justify_content": null,
            "justify_items": null,
            "left": null,
            "margin": null,
            "max_height": null,
            "max_width": null,
            "min_height": null,
            "min_width": null,
            "object_fit": null,
            "object_position": null,
            "order": null,
            "overflow": null,
            "overflow_x": null,
            "overflow_y": null,
            "padding": null,
            "right": null,
            "top": null,
            "visibility": null,
            "width": null
          }
        },
        "96023febab6c406ca8c7ac3250fe70c2": {
          "model_module": "@jupyter-widgets/base",
          "model_name": "LayoutModel",
          "model_module_version": "1.2.0",
          "state": {
            "_model_module": "@jupyter-widgets/base",
            "_model_module_version": "1.2.0",
            "_model_name": "LayoutModel",
            "_view_count": null,
            "_view_module": "@jupyter-widgets/base",
            "_view_module_version": "1.2.0",
            "_view_name": "LayoutView",
            "align_content": null,
            "align_items": null,
            "align_self": null,
            "border": null,
            "bottom": null,
            "display": null,
            "flex": null,
            "flex_flow": null,
            "grid_area": null,
            "grid_auto_columns": null,
            "grid_auto_flow": null,
            "grid_auto_rows": null,
            "grid_column": null,
            "grid_gap": null,
            "grid_row": null,
            "grid_template_areas": null,
            "grid_template_columns": null,
            "grid_template_rows": null,
            "height": null,
            "justify_content": null,
            "justify_items": null,
            "left": null,
            "margin": null,
            "max_height": null,
            "max_width": null,
            "min_height": null,
            "min_width": null,
            "object_fit": null,
            "object_position": null,
            "order": null,
            "overflow": null,
            "overflow_x": null,
            "overflow_y": null,
            "padding": null,
            "right": null,
            "top": null,
            "visibility": null,
            "width": null
          }
        },
        "137fe3f7fdbc4cbe958db11066ec57a3": {
          "model_module": "@jupyter-widgets/controls",
          "model_name": "DescriptionStyleModel",
          "model_module_version": "1.5.0",
          "state": {
            "_model_module": "@jupyter-widgets/controls",
            "_model_module_version": "1.5.0",
            "_model_name": "DescriptionStyleModel",
            "_view_count": null,
            "_view_module": "@jupyter-widgets/base",
            "_view_module_version": "1.2.0",
            "_view_name": "StyleView",
            "description_width": ""
          }
        },
        "31a24c6e21c94f0cbfa44fe9fa3dae8a": {
          "model_module": "@jupyter-widgets/base",
          "model_name": "LayoutModel",
          "model_module_version": "1.2.0",
          "state": {
            "_model_module": "@jupyter-widgets/base",
            "_model_module_version": "1.2.0",
            "_model_name": "LayoutModel",
            "_view_count": null,
            "_view_module": "@jupyter-widgets/base",
            "_view_module_version": "1.2.0",
            "_view_name": "LayoutView",
            "align_content": null,
            "align_items": null,
            "align_self": null,
            "border": null,
            "bottom": null,
            "display": null,
            "flex": null,
            "flex_flow": null,
            "grid_area": null,
            "grid_auto_columns": null,
            "grid_auto_flow": null,
            "grid_auto_rows": null,
            "grid_column": null,
            "grid_gap": null,
            "grid_row": null,
            "grid_template_areas": null,
            "grid_template_columns": null,
            "grid_template_rows": null,
            "height": null,
            "justify_content": null,
            "justify_items": null,
            "left": null,
            "margin": null,
            "max_height": null,
            "max_width": null,
            "min_height": null,
            "min_width": null,
            "object_fit": null,
            "object_position": null,
            "order": null,
            "overflow": null,
            "overflow_x": null,
            "overflow_y": null,
            "padding": null,
            "right": null,
            "top": null,
            "visibility": null,
            "width": null
          }
        },
        "354bf69852124065816ee8ad5135adcb": {
          "model_module": "@jupyter-widgets/controls",
          "model_name": "ProgressStyleModel",
          "model_module_version": "1.5.0",
          "state": {
            "_model_module": "@jupyter-widgets/controls",
            "_model_module_version": "1.5.0",
            "_model_name": "ProgressStyleModel",
            "_view_count": null,
            "_view_module": "@jupyter-widgets/base",
            "_view_module_version": "1.2.0",
            "_view_name": "StyleView",
            "bar_color": null,
            "description_width": ""
          }
        },
        "5a0c39b1a3e64d2ca57bb08659ca0585": {
          "model_module": "@jupyter-widgets/controls",
          "model_name": "VBoxModel",
          "model_module_version": "1.5.0",
          "state": {
            "_dom_classes": [],
            "_model_module": "@jupyter-widgets/controls",
            "_model_module_version": "1.5.0",
            "_model_name": "VBoxModel",
            "_view_count": null,
            "_view_module": "@jupyter-widgets/controls",
            "_view_module_version": "1.5.0",
            "_view_name": "VBoxView",
            "box_style": "",
            "children": [
              "IPY_MODEL_b42272cf62e248d5baf56a1048ea1284",
              "IPY_MODEL_7244475342af4e1c9cef41ac00320106"
            ],
            "layout": "IPY_MODEL_b7c3cdb97f8f4478b33fb9919ded362f"
          }
        },
        "b42272cf62e248d5baf56a1048ea1284": {
          "model_module": "@jupyter-widgets/controls",
          "model_name": "LabelModel",
          "model_module_version": "1.5.0",
          "state": {
            "_dom_classes": [],
            "_model_module": "@jupyter-widgets/controls",
            "_model_module_version": "1.5.0",
            "_model_name": "LabelModel",
            "_view_count": null,
            "_view_module": "@jupyter-widgets/controls",
            "_view_module_version": "1.5.0",
            "_view_name": "LabelView",
            "description": "",
            "description_tooltip": null,
            "layout": "IPY_MODEL_5e5b2192a5584cb68cb3fc0c5085183d",
            "placeholder": "​",
            "style": "IPY_MODEL_30b73c688e6740d9b15265a157944095",
            "value": "0.011 MB of 0.011 MB uploaded\r"
          }
        },
        "7244475342af4e1c9cef41ac00320106": {
          "model_module": "@jupyter-widgets/controls",
          "model_name": "FloatProgressModel",
          "model_module_version": "1.5.0",
          "state": {
            "_dom_classes": [],
            "_model_module": "@jupyter-widgets/controls",
            "_model_module_version": "1.5.0",
            "_model_name": "FloatProgressModel",
            "_view_count": null,
            "_view_module": "@jupyter-widgets/controls",
            "_view_module_version": "1.5.0",
            "_view_name": "ProgressView",
            "bar_style": "",
            "description": "",
            "description_tooltip": null,
            "layout": "IPY_MODEL_3e5025182d6546c188e19b6ffcdd9672",
            "max": 1,
            "min": 0,
            "orientation": "horizontal",
            "style": "IPY_MODEL_be8681ceb48f43449e1e09246beb622d",
            "value": 1
          }
        },
        "b7c3cdb97f8f4478b33fb9919ded362f": {
          "model_module": "@jupyter-widgets/base",
          "model_name": "LayoutModel",
          "model_module_version": "1.2.0",
          "state": {
            "_model_module": "@jupyter-widgets/base",
            "_model_module_version": "1.2.0",
            "_model_name": "LayoutModel",
            "_view_count": null,
            "_view_module": "@jupyter-widgets/base",
            "_view_module_version": "1.2.0",
            "_view_name": "LayoutView",
            "align_content": null,
            "align_items": null,
            "align_self": null,
            "border": null,
            "bottom": null,
            "display": null,
            "flex": null,
            "flex_flow": null,
            "grid_area": null,
            "grid_auto_columns": null,
            "grid_auto_flow": null,
            "grid_auto_rows": null,
            "grid_column": null,
            "grid_gap": null,
            "grid_row": null,
            "grid_template_areas": null,
            "grid_template_columns": null,
            "grid_template_rows": null,
            "height": null,
            "justify_content": null,
            "justify_items": null,
            "left": null,
            "margin": null,
            "max_height": null,
            "max_width": null,
            "min_height": null,
            "min_width": null,
            "object_fit": null,
            "object_position": null,
            "order": null,
            "overflow": null,
            "overflow_x": null,
            "overflow_y": null,
            "padding": null,
            "right": null,
            "top": null,
            "visibility": null,
            "width": null
          }
        },
        "5e5b2192a5584cb68cb3fc0c5085183d": {
          "model_module": "@jupyter-widgets/base",
          "model_name": "LayoutModel",
          "model_module_version": "1.2.0",
          "state": {
            "_model_module": "@jupyter-widgets/base",
            "_model_module_version": "1.2.0",
            "_model_name": "LayoutModel",
            "_view_count": null,
            "_view_module": "@jupyter-widgets/base",
            "_view_module_version": "1.2.0",
            "_view_name": "LayoutView",
            "align_content": null,
            "align_items": null,
            "align_self": null,
            "border": null,
            "bottom": null,
            "display": null,
            "flex": null,
            "flex_flow": null,
            "grid_area": null,
            "grid_auto_columns": null,
            "grid_auto_flow": null,
            "grid_auto_rows": null,
            "grid_column": null,
            "grid_gap": null,
            "grid_row": null,
            "grid_template_areas": null,
            "grid_template_columns": null,
            "grid_template_rows": null,
            "height": null,
            "justify_content": null,
            "justify_items": null,
            "left": null,
            "margin": null,
            "max_height": null,
            "max_width": null,
            "min_height": null,
            "min_width": null,
            "object_fit": null,
            "object_position": null,
            "order": null,
            "overflow": null,
            "overflow_x": null,
            "overflow_y": null,
            "padding": null,
            "right": null,
            "top": null,
            "visibility": null,
            "width": null
          }
        },
        "30b73c688e6740d9b15265a157944095": {
          "model_module": "@jupyter-widgets/controls",
          "model_name": "DescriptionStyleModel",
          "model_module_version": "1.5.0",
          "state": {
            "_model_module": "@jupyter-widgets/controls",
            "_model_module_version": "1.5.0",
            "_model_name": "DescriptionStyleModel",
            "_view_count": null,
            "_view_module": "@jupyter-widgets/base",
            "_view_module_version": "1.2.0",
            "_view_name": "StyleView",
            "description_width": ""
          }
        },
        "3e5025182d6546c188e19b6ffcdd9672": {
          "model_module": "@jupyter-widgets/base",
          "model_name": "LayoutModel",
          "model_module_version": "1.2.0",
          "state": {
            "_model_module": "@jupyter-widgets/base",
            "_model_module_version": "1.2.0",
            "_model_name": "LayoutModel",
            "_view_count": null,
            "_view_module": "@jupyter-widgets/base",
            "_view_module_version": "1.2.0",
            "_view_name": "LayoutView",
            "align_content": null,
            "align_items": null,
            "align_self": null,
            "border": null,
            "bottom": null,
            "display": null,
            "flex": null,
            "flex_flow": null,
            "grid_area": null,
            "grid_auto_columns": null,
            "grid_auto_flow": null,
            "grid_auto_rows": null,
            "grid_column": null,
            "grid_gap": null,
            "grid_row": null,
            "grid_template_areas": null,
            "grid_template_columns": null,
            "grid_template_rows": null,
            "height": null,
            "justify_content": null,
            "justify_items": null,
            "left": null,
            "margin": null,
            "max_height": null,
            "max_width": null,
            "min_height": null,
            "min_width": null,
            "object_fit": null,
            "object_position": null,
            "order": null,
            "overflow": null,
            "overflow_x": null,
            "overflow_y": null,
            "padding": null,
            "right": null,
            "top": null,
            "visibility": null,
            "width": null
          }
        },
        "be8681ceb48f43449e1e09246beb622d": {
          "model_module": "@jupyter-widgets/controls",
          "model_name": "ProgressStyleModel",
          "model_module_version": "1.5.0",
          "state": {
            "_model_module": "@jupyter-widgets/controls",
            "_model_module_version": "1.5.0",
            "_model_name": "ProgressStyleModel",
            "_view_count": null,
            "_view_module": "@jupyter-widgets/base",
            "_view_module_version": "1.2.0",
            "_view_name": "StyleView",
            "bar_color": null,
            "description_width": ""
          }
        },
        "de64235e0c874bc5915a64de46b32434": {
          "model_module": "@jupyter-widgets/controls",
          "model_name": "VBoxModel",
          "model_module_version": "1.5.0",
          "state": {
            "_dom_classes": [],
            "_model_module": "@jupyter-widgets/controls",
            "_model_module_version": "1.5.0",
            "_model_name": "VBoxModel",
            "_view_count": null,
            "_view_module": "@jupyter-widgets/controls",
            "_view_module_version": "1.5.0",
            "_view_name": "VBoxView",
            "box_style": "",
            "children": [
              "IPY_MODEL_96e836b74c1548eba5452b0545091396",
              "IPY_MODEL_da87934bac804c3790bc4a3e078f2529"
            ],
            "layout": "IPY_MODEL_488d1d0fdc8344c58bc4b3b1e39bd95a"
          }
        },
        "96e836b74c1548eba5452b0545091396": {
          "model_module": "@jupyter-widgets/controls",
          "model_name": "LabelModel",
          "model_module_version": "1.5.0",
          "state": {
            "_dom_classes": [],
            "_model_module": "@jupyter-widgets/controls",
            "_model_module_version": "1.5.0",
            "_model_name": "LabelModel",
            "_view_count": null,
            "_view_module": "@jupyter-widgets/controls",
            "_view_module_version": "1.5.0",
            "_view_name": "LabelView",
            "description": "",
            "description_tooltip": null,
            "layout": "IPY_MODEL_e899f7cef9bd416e91298a807190a305",
            "placeholder": "​",
            "style": "IPY_MODEL_1636031512204751b797430e68e3d879",
            "value": "0.012 MB of 0.012 MB uploaded\r"
          }
        },
        "da87934bac804c3790bc4a3e078f2529": {
          "model_module": "@jupyter-widgets/controls",
          "model_name": "FloatProgressModel",
          "model_module_version": "1.5.0",
          "state": {
            "_dom_classes": [],
            "_model_module": "@jupyter-widgets/controls",
            "_model_module_version": "1.5.0",
            "_model_name": "FloatProgressModel",
            "_view_count": null,
            "_view_module": "@jupyter-widgets/controls",
            "_view_module_version": "1.5.0",
            "_view_name": "ProgressView",
            "bar_style": "",
            "description": "",
            "description_tooltip": null,
            "layout": "IPY_MODEL_38059e6ca1a64f44813e453fd7f2c615",
            "max": 1,
            "min": 0,
            "orientation": "horizontal",
            "style": "IPY_MODEL_cc3d6e5657c748b9ac4321c4cf1eea27",
            "value": 1
          }
        },
        "488d1d0fdc8344c58bc4b3b1e39bd95a": {
          "model_module": "@jupyter-widgets/base",
          "model_name": "LayoutModel",
          "model_module_version": "1.2.0",
          "state": {
            "_model_module": "@jupyter-widgets/base",
            "_model_module_version": "1.2.0",
            "_model_name": "LayoutModel",
            "_view_count": null,
            "_view_module": "@jupyter-widgets/base",
            "_view_module_version": "1.2.0",
            "_view_name": "LayoutView",
            "align_content": null,
            "align_items": null,
            "align_self": null,
            "border": null,
            "bottom": null,
            "display": null,
            "flex": null,
            "flex_flow": null,
            "grid_area": null,
            "grid_auto_columns": null,
            "grid_auto_flow": null,
            "grid_auto_rows": null,
            "grid_column": null,
            "grid_gap": null,
            "grid_row": null,
            "grid_template_areas": null,
            "grid_template_columns": null,
            "grid_template_rows": null,
            "height": null,
            "justify_content": null,
            "justify_items": null,
            "left": null,
            "margin": null,
            "max_height": null,
            "max_width": null,
            "min_height": null,
            "min_width": null,
            "object_fit": null,
            "object_position": null,
            "order": null,
            "overflow": null,
            "overflow_x": null,
            "overflow_y": null,
            "padding": null,
            "right": null,
            "top": null,
            "visibility": null,
            "width": null
          }
        },
        "e899f7cef9bd416e91298a807190a305": {
          "model_module": "@jupyter-widgets/base",
          "model_name": "LayoutModel",
          "model_module_version": "1.2.0",
          "state": {
            "_model_module": "@jupyter-widgets/base",
            "_model_module_version": "1.2.0",
            "_model_name": "LayoutModel",
            "_view_count": null,
            "_view_module": "@jupyter-widgets/base",
            "_view_module_version": "1.2.0",
            "_view_name": "LayoutView",
            "align_content": null,
            "align_items": null,
            "align_self": null,
            "border": null,
            "bottom": null,
            "display": null,
            "flex": null,
            "flex_flow": null,
            "grid_area": null,
            "grid_auto_columns": null,
            "grid_auto_flow": null,
            "grid_auto_rows": null,
            "grid_column": null,
            "grid_gap": null,
            "grid_row": null,
            "grid_template_areas": null,
            "grid_template_columns": null,
            "grid_template_rows": null,
            "height": null,
            "justify_content": null,
            "justify_items": null,
            "left": null,
            "margin": null,
            "max_height": null,
            "max_width": null,
            "min_height": null,
            "min_width": null,
            "object_fit": null,
            "object_position": null,
            "order": null,
            "overflow": null,
            "overflow_x": null,
            "overflow_y": null,
            "padding": null,
            "right": null,
            "top": null,
            "visibility": null,
            "width": null
          }
        },
        "1636031512204751b797430e68e3d879": {
          "model_module": "@jupyter-widgets/controls",
          "model_name": "DescriptionStyleModel",
          "model_module_version": "1.5.0",
          "state": {
            "_model_module": "@jupyter-widgets/controls",
            "_model_module_version": "1.5.0",
            "_model_name": "DescriptionStyleModel",
            "_view_count": null,
            "_view_module": "@jupyter-widgets/base",
            "_view_module_version": "1.2.0",
            "_view_name": "StyleView",
            "description_width": ""
          }
        },
        "38059e6ca1a64f44813e453fd7f2c615": {
          "model_module": "@jupyter-widgets/base",
          "model_name": "LayoutModel",
          "model_module_version": "1.2.0",
          "state": {
            "_model_module": "@jupyter-widgets/base",
            "_model_module_version": "1.2.0",
            "_model_name": "LayoutModel",
            "_view_count": null,
            "_view_module": "@jupyter-widgets/base",
            "_view_module_version": "1.2.0",
            "_view_name": "LayoutView",
            "align_content": null,
            "align_items": null,
            "align_self": null,
            "border": null,
            "bottom": null,
            "display": null,
            "flex": null,
            "flex_flow": null,
            "grid_area": null,
            "grid_auto_columns": null,
            "grid_auto_flow": null,
            "grid_auto_rows": null,
            "grid_column": null,
            "grid_gap": null,
            "grid_row": null,
            "grid_template_areas": null,
            "grid_template_columns": null,
            "grid_template_rows": null,
            "height": null,
            "justify_content": null,
            "justify_items": null,
            "left": null,
            "margin": null,
            "max_height": null,
            "max_width": null,
            "min_height": null,
            "min_width": null,
            "object_fit": null,
            "object_position": null,
            "order": null,
            "overflow": null,
            "overflow_x": null,
            "overflow_y": null,
            "padding": null,
            "right": null,
            "top": null,
            "visibility": null,
            "width": null
          }
        },
        "cc3d6e5657c748b9ac4321c4cf1eea27": {
          "model_module": "@jupyter-widgets/controls",
          "model_name": "ProgressStyleModel",
          "model_module_version": "1.5.0",
          "state": {
            "_model_module": "@jupyter-widgets/controls",
            "_model_module_version": "1.5.0",
            "_model_name": "ProgressStyleModel",
            "_view_count": null,
            "_view_module": "@jupyter-widgets/base",
            "_view_module_version": "1.2.0",
            "_view_name": "StyleView",
            "bar_color": null,
            "description_width": ""
          }
        },
        "6ba0ae51b0074d45aea4d82c345fe20e": {
          "model_module": "@jupyter-widgets/controls",
          "model_name": "VBoxModel",
          "model_module_version": "1.5.0",
          "state": {
            "_dom_classes": [],
            "_model_module": "@jupyter-widgets/controls",
            "_model_module_version": "1.5.0",
            "_model_name": "VBoxModel",
            "_view_count": null,
            "_view_module": "@jupyter-widgets/controls",
            "_view_module_version": "1.5.0",
            "_view_name": "VBoxView",
            "box_style": "",
            "children": [
              "IPY_MODEL_ba09cc7c5c6a42d0948f8ce3f93b8fea",
              "IPY_MODEL_7af30060b4914eddbcb1b78554832955"
            ],
            "layout": "IPY_MODEL_ae872804bba441708ad844d15c937fd0"
          }
        },
        "ba09cc7c5c6a42d0948f8ce3f93b8fea": {
          "model_module": "@jupyter-widgets/controls",
          "model_name": "LabelModel",
          "model_module_version": "1.5.0",
          "state": {
            "_dom_classes": [],
            "_model_module": "@jupyter-widgets/controls",
            "_model_module_version": "1.5.0",
            "_model_name": "LabelModel",
            "_view_count": null,
            "_view_module": "@jupyter-widgets/controls",
            "_view_module_version": "1.5.0",
            "_view_name": "LabelView",
            "description": "",
            "description_tooltip": null,
            "layout": "IPY_MODEL_cb79ee3730f64b32bc0fccd9c2659af6",
            "placeholder": "​",
            "style": "IPY_MODEL_54bd576649224e849d0b9c42a005ddca",
            "value": "0.011 MB of 0.011 MB uploaded\r"
          }
        },
        "7af30060b4914eddbcb1b78554832955": {
          "model_module": "@jupyter-widgets/controls",
          "model_name": "FloatProgressModel",
          "model_module_version": "1.5.0",
          "state": {
            "_dom_classes": [],
            "_model_module": "@jupyter-widgets/controls",
            "_model_module_version": "1.5.0",
            "_model_name": "FloatProgressModel",
            "_view_count": null,
            "_view_module": "@jupyter-widgets/controls",
            "_view_module_version": "1.5.0",
            "_view_name": "ProgressView",
            "bar_style": "",
            "description": "",
            "description_tooltip": null,
            "layout": "IPY_MODEL_a8f0ea0d53a041bf813e27a0e368f677",
            "max": 1,
            "min": 0,
            "orientation": "horizontal",
            "style": "IPY_MODEL_b7578aeca929456f8bc1844f1ecc4fae",
            "value": 1
          }
        },
        "ae872804bba441708ad844d15c937fd0": {
          "model_module": "@jupyter-widgets/base",
          "model_name": "LayoutModel",
          "model_module_version": "1.2.0",
          "state": {
            "_model_module": "@jupyter-widgets/base",
            "_model_module_version": "1.2.0",
            "_model_name": "LayoutModel",
            "_view_count": null,
            "_view_module": "@jupyter-widgets/base",
            "_view_module_version": "1.2.0",
            "_view_name": "LayoutView",
            "align_content": null,
            "align_items": null,
            "align_self": null,
            "border": null,
            "bottom": null,
            "display": null,
            "flex": null,
            "flex_flow": null,
            "grid_area": null,
            "grid_auto_columns": null,
            "grid_auto_flow": null,
            "grid_auto_rows": null,
            "grid_column": null,
            "grid_gap": null,
            "grid_row": null,
            "grid_template_areas": null,
            "grid_template_columns": null,
            "grid_template_rows": null,
            "height": null,
            "justify_content": null,
            "justify_items": null,
            "left": null,
            "margin": null,
            "max_height": null,
            "max_width": null,
            "min_height": null,
            "min_width": null,
            "object_fit": null,
            "object_position": null,
            "order": null,
            "overflow": null,
            "overflow_x": null,
            "overflow_y": null,
            "padding": null,
            "right": null,
            "top": null,
            "visibility": null,
            "width": null
          }
        },
        "cb79ee3730f64b32bc0fccd9c2659af6": {
          "model_module": "@jupyter-widgets/base",
          "model_name": "LayoutModel",
          "model_module_version": "1.2.0",
          "state": {
            "_model_module": "@jupyter-widgets/base",
            "_model_module_version": "1.2.0",
            "_model_name": "LayoutModel",
            "_view_count": null,
            "_view_module": "@jupyter-widgets/base",
            "_view_module_version": "1.2.0",
            "_view_name": "LayoutView",
            "align_content": null,
            "align_items": null,
            "align_self": null,
            "border": null,
            "bottom": null,
            "display": null,
            "flex": null,
            "flex_flow": null,
            "grid_area": null,
            "grid_auto_columns": null,
            "grid_auto_flow": null,
            "grid_auto_rows": null,
            "grid_column": null,
            "grid_gap": null,
            "grid_row": null,
            "grid_template_areas": null,
            "grid_template_columns": null,
            "grid_template_rows": null,
            "height": null,
            "justify_content": null,
            "justify_items": null,
            "left": null,
            "margin": null,
            "max_height": null,
            "max_width": null,
            "min_height": null,
            "min_width": null,
            "object_fit": null,
            "object_position": null,
            "order": null,
            "overflow": null,
            "overflow_x": null,
            "overflow_y": null,
            "padding": null,
            "right": null,
            "top": null,
            "visibility": null,
            "width": null
          }
        },
        "54bd576649224e849d0b9c42a005ddca": {
          "model_module": "@jupyter-widgets/controls",
          "model_name": "DescriptionStyleModel",
          "model_module_version": "1.5.0",
          "state": {
            "_model_module": "@jupyter-widgets/controls",
            "_model_module_version": "1.5.0",
            "_model_name": "DescriptionStyleModel",
            "_view_count": null,
            "_view_module": "@jupyter-widgets/base",
            "_view_module_version": "1.2.0",
            "_view_name": "StyleView",
            "description_width": ""
          }
        },
        "a8f0ea0d53a041bf813e27a0e368f677": {
          "model_module": "@jupyter-widgets/base",
          "model_name": "LayoutModel",
          "model_module_version": "1.2.0",
          "state": {
            "_model_module": "@jupyter-widgets/base",
            "_model_module_version": "1.2.0",
            "_model_name": "LayoutModel",
            "_view_count": null,
            "_view_module": "@jupyter-widgets/base",
            "_view_module_version": "1.2.0",
            "_view_name": "LayoutView",
            "align_content": null,
            "align_items": null,
            "align_self": null,
            "border": null,
            "bottom": null,
            "display": null,
            "flex": null,
            "flex_flow": null,
            "grid_area": null,
            "grid_auto_columns": null,
            "grid_auto_flow": null,
            "grid_auto_rows": null,
            "grid_column": null,
            "grid_gap": null,
            "grid_row": null,
            "grid_template_areas": null,
            "grid_template_columns": null,
            "grid_template_rows": null,
            "height": null,
            "justify_content": null,
            "justify_items": null,
            "left": null,
            "margin": null,
            "max_height": null,
            "max_width": null,
            "min_height": null,
            "min_width": null,
            "object_fit": null,
            "object_position": null,
            "order": null,
            "overflow": null,
            "overflow_x": null,
            "overflow_y": null,
            "padding": null,
            "right": null,
            "top": null,
            "visibility": null,
            "width": null
          }
        },
        "b7578aeca929456f8bc1844f1ecc4fae": {
          "model_module": "@jupyter-widgets/controls",
          "model_name": "ProgressStyleModel",
          "model_module_version": "1.5.0",
          "state": {
            "_model_module": "@jupyter-widgets/controls",
            "_model_module_version": "1.5.0",
            "_model_name": "ProgressStyleModel",
            "_view_count": null,
            "_view_module": "@jupyter-widgets/base",
            "_view_module_version": "1.2.0",
            "_view_name": "StyleView",
            "bar_color": null,
            "description_width": ""
          }
        },
        "113c14d5258140ee891298787d76935d": {
          "model_module": "@jupyter-widgets/controls",
          "model_name": "VBoxModel",
          "model_module_version": "1.5.0",
          "state": {
            "_dom_classes": [],
            "_model_module": "@jupyter-widgets/controls",
            "_model_module_version": "1.5.0",
            "_model_name": "VBoxModel",
            "_view_count": null,
            "_view_module": "@jupyter-widgets/controls",
            "_view_module_version": "1.5.0",
            "_view_name": "VBoxView",
            "box_style": "",
            "children": [
              "IPY_MODEL_1030644d71684d4c94c12ae7babf9b4e",
              "IPY_MODEL_3ee7060313f7480fb9147b1593b57fa9"
            ],
            "layout": "IPY_MODEL_23737abcbf494d35814a651958f1de7e"
          }
        },
        "1030644d71684d4c94c12ae7babf9b4e": {
          "model_module": "@jupyter-widgets/controls",
          "model_name": "LabelModel",
          "model_module_version": "1.5.0",
          "state": {
            "_dom_classes": [],
            "_model_module": "@jupyter-widgets/controls",
            "_model_module_version": "1.5.0",
            "_model_name": "LabelModel",
            "_view_count": null,
            "_view_module": "@jupyter-widgets/controls",
            "_view_module_version": "1.5.0",
            "_view_name": "LabelView",
            "description": "",
            "description_tooltip": null,
            "layout": "IPY_MODEL_54e1a72870d4419ab173e952e674340f",
            "placeholder": "​",
            "style": "IPY_MODEL_cfb6e93b0d2f44aaaca6706e5947c102",
            "value": "0.012 MB of 0.012 MB uploaded\r"
          }
        },
        "3ee7060313f7480fb9147b1593b57fa9": {
          "model_module": "@jupyter-widgets/controls",
          "model_name": "FloatProgressModel",
          "model_module_version": "1.5.0",
          "state": {
            "_dom_classes": [],
            "_model_module": "@jupyter-widgets/controls",
            "_model_module_version": "1.5.0",
            "_model_name": "FloatProgressModel",
            "_view_count": null,
            "_view_module": "@jupyter-widgets/controls",
            "_view_module_version": "1.5.0",
            "_view_name": "ProgressView",
            "bar_style": "",
            "description": "",
            "description_tooltip": null,
            "layout": "IPY_MODEL_8db3f61e28004e108d744d343adc02c8",
            "max": 1,
            "min": 0,
            "orientation": "horizontal",
            "style": "IPY_MODEL_da9dcc28eb09498e97fb9ef364fb768f",
            "value": 1
          }
        },
        "23737abcbf494d35814a651958f1de7e": {
          "model_module": "@jupyter-widgets/base",
          "model_name": "LayoutModel",
          "model_module_version": "1.2.0",
          "state": {
            "_model_module": "@jupyter-widgets/base",
            "_model_module_version": "1.2.0",
            "_model_name": "LayoutModel",
            "_view_count": null,
            "_view_module": "@jupyter-widgets/base",
            "_view_module_version": "1.2.0",
            "_view_name": "LayoutView",
            "align_content": null,
            "align_items": null,
            "align_self": null,
            "border": null,
            "bottom": null,
            "display": null,
            "flex": null,
            "flex_flow": null,
            "grid_area": null,
            "grid_auto_columns": null,
            "grid_auto_flow": null,
            "grid_auto_rows": null,
            "grid_column": null,
            "grid_gap": null,
            "grid_row": null,
            "grid_template_areas": null,
            "grid_template_columns": null,
            "grid_template_rows": null,
            "height": null,
            "justify_content": null,
            "justify_items": null,
            "left": null,
            "margin": null,
            "max_height": null,
            "max_width": null,
            "min_height": null,
            "min_width": null,
            "object_fit": null,
            "object_position": null,
            "order": null,
            "overflow": null,
            "overflow_x": null,
            "overflow_y": null,
            "padding": null,
            "right": null,
            "top": null,
            "visibility": null,
            "width": null
          }
        },
        "54e1a72870d4419ab173e952e674340f": {
          "model_module": "@jupyter-widgets/base",
          "model_name": "LayoutModel",
          "model_module_version": "1.2.0",
          "state": {
            "_model_module": "@jupyter-widgets/base",
            "_model_module_version": "1.2.0",
            "_model_name": "LayoutModel",
            "_view_count": null,
            "_view_module": "@jupyter-widgets/base",
            "_view_module_version": "1.2.0",
            "_view_name": "LayoutView",
            "align_content": null,
            "align_items": null,
            "align_self": null,
            "border": null,
            "bottom": null,
            "display": null,
            "flex": null,
            "flex_flow": null,
            "grid_area": null,
            "grid_auto_columns": null,
            "grid_auto_flow": null,
            "grid_auto_rows": null,
            "grid_column": null,
            "grid_gap": null,
            "grid_row": null,
            "grid_template_areas": null,
            "grid_template_columns": null,
            "grid_template_rows": null,
            "height": null,
            "justify_content": null,
            "justify_items": null,
            "left": null,
            "margin": null,
            "max_height": null,
            "max_width": null,
            "min_height": null,
            "min_width": null,
            "object_fit": null,
            "object_position": null,
            "order": null,
            "overflow": null,
            "overflow_x": null,
            "overflow_y": null,
            "padding": null,
            "right": null,
            "top": null,
            "visibility": null,
            "width": null
          }
        },
        "cfb6e93b0d2f44aaaca6706e5947c102": {
          "model_module": "@jupyter-widgets/controls",
          "model_name": "DescriptionStyleModel",
          "model_module_version": "1.5.0",
          "state": {
            "_model_module": "@jupyter-widgets/controls",
            "_model_module_version": "1.5.0",
            "_model_name": "DescriptionStyleModel",
            "_view_count": null,
            "_view_module": "@jupyter-widgets/base",
            "_view_module_version": "1.2.0",
            "_view_name": "StyleView",
            "description_width": ""
          }
        },
        "8db3f61e28004e108d744d343adc02c8": {
          "model_module": "@jupyter-widgets/base",
          "model_name": "LayoutModel",
          "model_module_version": "1.2.0",
          "state": {
            "_model_module": "@jupyter-widgets/base",
            "_model_module_version": "1.2.0",
            "_model_name": "LayoutModel",
            "_view_count": null,
            "_view_module": "@jupyter-widgets/base",
            "_view_module_version": "1.2.0",
            "_view_name": "LayoutView",
            "align_content": null,
            "align_items": null,
            "align_self": null,
            "border": null,
            "bottom": null,
            "display": null,
            "flex": null,
            "flex_flow": null,
            "grid_area": null,
            "grid_auto_columns": null,
            "grid_auto_flow": null,
            "grid_auto_rows": null,
            "grid_column": null,
            "grid_gap": null,
            "grid_row": null,
            "grid_template_areas": null,
            "grid_template_columns": null,
            "grid_template_rows": null,
            "height": null,
            "justify_content": null,
            "justify_items": null,
            "left": null,
            "margin": null,
            "max_height": null,
            "max_width": null,
            "min_height": null,
            "min_width": null,
            "object_fit": null,
            "object_position": null,
            "order": null,
            "overflow": null,
            "overflow_x": null,
            "overflow_y": null,
            "padding": null,
            "right": null,
            "top": null,
            "visibility": null,
            "width": null
          }
        },
        "da9dcc28eb09498e97fb9ef364fb768f": {
          "model_module": "@jupyter-widgets/controls",
          "model_name": "ProgressStyleModel",
          "model_module_version": "1.5.0",
          "state": {
            "_model_module": "@jupyter-widgets/controls",
            "_model_module_version": "1.5.0",
            "_model_name": "ProgressStyleModel",
            "_view_count": null,
            "_view_module": "@jupyter-widgets/base",
            "_view_module_version": "1.2.0",
            "_view_name": "StyleView",
            "bar_color": null,
            "description_width": ""
          }
        }
      }
    }
  },
  "cells": [
    {
      "cell_type": "code",
      "execution_count": 1,
      "metadata": {
        "colab": {
          "base_uri": "https://localhost:8080/",
          "height": 1000,
          "referenced_widgets": [
            "bd72f9010e4f4239879ec14ed0a195d4",
            "fdcaf342ec364648871bf3e6d5c20ad8",
            "6e9a37ce0dff415b932c1cdd6197b8b8",
            "62e46595db834eafbeaab6f8fe4c58c4",
            "c49497cb8ab5457ea6edcb09dc3133b7",
            "96c588b828d24ca2b964621e60d76310",
            "b60352be5934496f9ef86c77687c895c",
            "6d765d0c31b845968ca216e5e9c50432",
            "df1b1f19cf5b4b979ebf8dfa0d1ded2c",
            "533c458bc264455888f54d6b9ad7fc7a",
            "05a3abe40acb483ca8ae784099edfe3e",
            "07131f84c2494b9889c203a1356ba254",
            "bb2605611474452998fbea0f084373c0",
            "2bf61179cde34285bc138d58c4bdb47b",
            "b80b8795dc7d4ec3b0d794a75b3fa860",
            "6d2c9d71aef8494c9b381bda309b7d9d",
            "ac75524a5b244ff097085ed8dc6752b2",
            "385ae2cc805d4681993c9501b8c79c16",
            "e744dfd96a324360a44b0aaa6f6a6418",
            "aa7202c60fbe426b965ef4cf2e8bc5cd",
            "7df6573ff5ee4285a601b7a2b3df0e8e",
            "f9e90b5d2596481eb0e52b66beda40ec",
            "2bf366e05b654cbbaa40c806d8d9d20c",
            "9dd92a49817342f3aa4b7f788d92db44",
            "851bfc2599ad4db183b7ab710982c7ba",
            "004f0d1981ee4f39a180bb2faf5936ba",
            "d77822f3e7fc411fbbebab148cf07188",
            "fc63f9bb60c04b97ac5d7184e1d608a5",
            "99281f7a98ee428888066e57370645d9",
            "2fbd3b266114442a87bd93443686709d",
            "fbea68bda70b4d8b9d25e100a9e3f7ee",
            "c77afd7a16c54733b709fdcc6c91a8c8",
            "d30de9f0f9a24f1aa26b65798850ff1c",
            "6773933c02fb4b51a184571750852d76",
            "cc8127abd9fc4ef4aaab960676db76cc",
            "60b56b763a2a4ad290d2dde2e05299af",
            "cc1b162da0a64990b19aaf4f11181c78",
            "d798ffc82834495abd5ceb62d483f2d9",
            "5a2ce2c60ca94ed9aa88b95531c44162",
            "f54c05ca99f142fe9d640a64e7455db4",
            "7f9e9b5392a840a2b8ebe6270c744190",
            "82371c93179c47328129b3579f92a5ba",
            "05b008ee860f4c998370f7fc07830f81",
            "3dbfad50ef434fa299422ba94a90791a",
            "96023febab6c406ca8c7ac3250fe70c2",
            "137fe3f7fdbc4cbe958db11066ec57a3",
            "31a24c6e21c94f0cbfa44fe9fa3dae8a",
            "354bf69852124065816ee8ad5135adcb",
            "5a0c39b1a3e64d2ca57bb08659ca0585",
            "b42272cf62e248d5baf56a1048ea1284",
            "7244475342af4e1c9cef41ac00320106",
            "b7c3cdb97f8f4478b33fb9919ded362f",
            "5e5b2192a5584cb68cb3fc0c5085183d",
            "30b73c688e6740d9b15265a157944095",
            "3e5025182d6546c188e19b6ffcdd9672",
            "be8681ceb48f43449e1e09246beb622d",
            "de64235e0c874bc5915a64de46b32434",
            "96e836b74c1548eba5452b0545091396",
            "da87934bac804c3790bc4a3e078f2529",
            "488d1d0fdc8344c58bc4b3b1e39bd95a",
            "e899f7cef9bd416e91298a807190a305",
            "1636031512204751b797430e68e3d879",
            "38059e6ca1a64f44813e453fd7f2c615",
            "cc3d6e5657c748b9ac4321c4cf1eea27",
            "6ba0ae51b0074d45aea4d82c345fe20e",
            "ba09cc7c5c6a42d0948f8ce3f93b8fea",
            "7af30060b4914eddbcb1b78554832955",
            "ae872804bba441708ad844d15c937fd0",
            "cb79ee3730f64b32bc0fccd9c2659af6",
            "54bd576649224e849d0b9c42a005ddca",
            "a8f0ea0d53a041bf813e27a0e368f677",
            "b7578aeca929456f8bc1844f1ecc4fae",
            "113c14d5258140ee891298787d76935d",
            "1030644d71684d4c94c12ae7babf9b4e",
            "3ee7060313f7480fb9147b1593b57fa9",
            "23737abcbf494d35814a651958f1de7e",
            "54e1a72870d4419ab173e952e674340f",
            "cfb6e93b0d2f44aaaca6706e5947c102",
            "8db3f61e28004e108d744d343adc02c8",
            "da9dcc28eb09498e97fb9ef364fb768f"
          ]
        },
        "id": "IPp4QXd0gE-N",
        "outputId": "9de522b3-124f-403e-8a7a-7168014ca024"
      },
      "outputs": [
        {
          "output_type": "stream",
          "name": "stdout",
          "text": [
            "Collecting wandb\n",
            "  Downloading wandb-0.16.4-py3-none-any.whl (2.2 MB)\n",
            "\u001b[2K     \u001b[90m━━━━━━━━━━━━━━━━━━━━━━━━━━━━━━━━━━━━━━━━\u001b[0m \u001b[32m2.2/2.2 MB\u001b[0m \u001b[31m16.3 MB/s\u001b[0m eta \u001b[36m0:00:00\u001b[0m\n",
            "\u001b[?25hRequirement already satisfied: Click!=8.0.0,>=7.1 in /usr/local/lib/python3.10/dist-packages (from wandb) (8.1.7)\n",
            "Collecting GitPython!=3.1.29,>=1.0.0 (from wandb)\n",
            "  Downloading GitPython-3.1.42-py3-none-any.whl (195 kB)\n",
            "\u001b[2K     \u001b[90m━━━━━━━━━━━━━━━━━━━━━━━━━━━━━━━━━━━━━━━━\u001b[0m \u001b[32m195.4/195.4 kB\u001b[0m \u001b[31m16.1 MB/s\u001b[0m eta \u001b[36m0:00:00\u001b[0m\n",
            "\u001b[?25hRequirement already satisfied: requests<3,>=2.0.0 in /usr/local/lib/python3.10/dist-packages (from wandb) (2.31.0)\n",
            "Requirement already satisfied: psutil>=5.0.0 in /usr/local/lib/python3.10/dist-packages (from wandb) (5.9.5)\n",
            "Collecting sentry-sdk>=1.0.0 (from wandb)\n",
            "  Downloading sentry_sdk-1.42.0-py2.py3-none-any.whl (263 kB)\n",
            "\u001b[2K     \u001b[90m━━━━━━━━━━━━━━━━━━━━━━━━━━━━━━━━━━━━━━━━\u001b[0m \u001b[32m263.5/263.5 kB\u001b[0m \u001b[31m21.8 MB/s\u001b[0m eta \u001b[36m0:00:00\u001b[0m\n",
            "\u001b[?25hCollecting docker-pycreds>=0.4.0 (from wandb)\n",
            "  Downloading docker_pycreds-0.4.0-py2.py3-none-any.whl (9.0 kB)\n",
            "Requirement already satisfied: PyYAML in /usr/local/lib/python3.10/dist-packages (from wandb) (6.0.1)\n",
            "Collecting setproctitle (from wandb)\n",
            "  Downloading setproctitle-1.3.3-cp310-cp310-manylinux_2_5_x86_64.manylinux1_x86_64.manylinux_2_17_x86_64.manylinux2014_x86_64.whl (30 kB)\n",
            "Requirement already satisfied: setuptools in /usr/local/lib/python3.10/dist-packages (from wandb) (67.7.2)\n",
            "Requirement already satisfied: appdirs>=1.4.3 in /usr/local/lib/python3.10/dist-packages (from wandb) (1.4.4)\n",
            "Requirement already satisfied: protobuf!=4.21.0,<5,>=3.19.0 in /usr/local/lib/python3.10/dist-packages (from wandb) (3.20.3)\n",
            "Requirement already satisfied: six>=1.4.0 in /usr/local/lib/python3.10/dist-packages (from docker-pycreds>=0.4.0->wandb) (1.16.0)\n",
            "Collecting gitdb<5,>=4.0.1 (from GitPython!=3.1.29,>=1.0.0->wandb)\n",
            "  Downloading gitdb-4.0.11-py3-none-any.whl (62 kB)\n",
            "\u001b[2K     \u001b[90m━━━━━━━━━━━━━━━━━━━━━━━━━━━━━━━━━━━━━━━━\u001b[0m \u001b[32m62.7/62.7 kB\u001b[0m \u001b[31m8.0 MB/s\u001b[0m eta \u001b[36m0:00:00\u001b[0m\n",
            "\u001b[?25hRequirement already satisfied: charset-normalizer<4,>=2 in /usr/local/lib/python3.10/dist-packages (from requests<3,>=2.0.0->wandb) (3.3.2)\n",
            "Requirement already satisfied: idna<4,>=2.5 in /usr/local/lib/python3.10/dist-packages (from requests<3,>=2.0.0->wandb) (3.6)\n",
            "Requirement already satisfied: urllib3<3,>=1.21.1 in /usr/local/lib/python3.10/dist-packages (from requests<3,>=2.0.0->wandb) (2.0.7)\n",
            "Requirement already satisfied: certifi>=2017.4.17 in /usr/local/lib/python3.10/dist-packages (from requests<3,>=2.0.0->wandb) (2024.2.2)\n",
            "Collecting smmap<6,>=3.0.1 (from gitdb<5,>=4.0.1->GitPython!=3.1.29,>=1.0.0->wandb)\n",
            "  Downloading smmap-5.0.1-py3-none-any.whl (24 kB)\n",
            "Installing collected packages: smmap, setproctitle, sentry-sdk, docker-pycreds, gitdb, GitPython, wandb\n",
            "Successfully installed GitPython-3.1.42 docker-pycreds-0.4.0 gitdb-4.0.11 sentry-sdk-1.42.0 setproctitle-1.3.3 smmap-5.0.1 wandb-0.16.4\n"
          ]
        },
        {
          "output_type": "display_data",
          "data": {
            "text/plain": [
              "<IPython.core.display.Javascript object>"
            ],
            "application/javascript": [
              "\n",
              "        window._wandbApiKey = new Promise((resolve, reject) => {\n",
              "            function loadScript(url) {\n",
              "            return new Promise(function(resolve, reject) {\n",
              "                let newScript = document.createElement(\"script\");\n",
              "                newScript.onerror = reject;\n",
              "                newScript.onload = resolve;\n",
              "                document.body.appendChild(newScript);\n",
              "                newScript.src = url;\n",
              "            });\n",
              "            }\n",
              "            loadScript(\"https://cdn.jsdelivr.net/npm/postmate/build/postmate.min.js\").then(() => {\n",
              "            const iframe = document.createElement('iframe')\n",
              "            iframe.style.cssText = \"width:0;height:0;border:none\"\n",
              "            document.body.appendChild(iframe)\n",
              "            const handshake = new Postmate({\n",
              "                container: iframe,\n",
              "                url: 'https://wandb.ai/authorize'\n",
              "            });\n",
              "            const timeout = setTimeout(() => reject(\"Couldn't auto authenticate\"), 5000)\n",
              "            handshake.then(function(child) {\n",
              "                child.on('authorize', data => {\n",
              "                    clearTimeout(timeout)\n",
              "                    resolve(data)\n",
              "                });\n",
              "            });\n",
              "            })\n",
              "        });\n",
              "    "
            ]
          },
          "metadata": {}
        },
        {
          "output_type": "stream",
          "name": "stderr",
          "text": [
            "\u001b[34m\u001b[1mwandb\u001b[0m: Logging into wandb.ai. (Learn how to deploy a W&B server locally: https://wandb.me/wandb-server)\n",
            "\u001b[34m\u001b[1mwandb\u001b[0m: You can find your API key in your browser here: https://wandb.ai/authorize\n",
            "wandb: Paste an API key from your profile and hit enter, or press ctrl+c to quit:"
          ]
        },
        {
          "name": "stdout",
          "output_type": "stream",
          "text": [
            " ··········\n"
          ]
        },
        {
          "output_type": "stream",
          "name": "stderr",
          "text": [
            "\u001b[34m\u001b[1mwandb\u001b[0m: Appending key for api.wandb.ai to your netrc file: /root/.netrc\n",
            "\u001b[34m\u001b[1mwandb\u001b[0m: Currently logged in as: \u001b[33mksharathkumar111\u001b[0m (\u001b[33mcs23m033_dl_assignment_1\u001b[0m). Use \u001b[1m`wandb login --relogin`\u001b[0m to force relogin\n"
          ]
        },
        {
          "output_type": "display_data",
          "data": {
            "text/plain": [
              "<IPython.core.display.HTML object>"
            ],
            "text/html": [
              "Tracking run with wandb version 0.16.4"
            ]
          },
          "metadata": {}
        },
        {
          "output_type": "display_data",
          "data": {
            "text/plain": [
              "<IPython.core.display.HTML object>"
            ],
            "text/html": [
              "Run data is saved locally in <code>/content/wandb/run-20240315_214049-z6zlraos</code>"
            ]
          },
          "metadata": {}
        },
        {
          "output_type": "display_data",
          "data": {
            "text/plain": [
              "<IPython.core.display.HTML object>"
            ],
            "text/html": [
              "Syncing run <strong><a href='https://wandb.ai/cs23m033_dl_assignment_1/dL_assignment_1/runs/z6zlraos' target=\"_blank\">skilled-vortex-4</a></strong> to <a href='https://wandb.ai/cs23m033_dl_assignment_1/dL_assignment_1' target=\"_blank\">Weights & Biases</a> (<a href='https://wandb.me/run' target=\"_blank\">docs</a>)<br/>"
            ]
          },
          "metadata": {}
        },
        {
          "output_type": "display_data",
          "data": {
            "text/plain": [
              "<IPython.core.display.HTML object>"
            ],
            "text/html": [
              " View project at <a href='https://wandb.ai/cs23m033_dl_assignment_1/dL_assignment_1' target=\"_blank\">https://wandb.ai/cs23m033_dl_assignment_1/dL_assignment_1</a>"
            ]
          },
          "metadata": {}
        },
        {
          "output_type": "display_data",
          "data": {
            "text/plain": [
              "<IPython.core.display.HTML object>"
            ],
            "text/html": [
              " View run at <a href='https://wandb.ai/cs23m033_dl_assignment_1/dL_assignment_1/runs/z6zlraos' target=\"_blank\">https://wandb.ai/cs23m033_dl_assignment_1/dL_assignment_1/runs/z6zlraos</a>"
            ]
          },
          "metadata": {}
        },
        {
          "output_type": "stream",
          "name": "stdout",
          "text": [
            "Downloading data from https://storage.googleapis.com/tensorflow/tf-keras-datasets/train-labels-idx1-ubyte.gz\n",
            "29515/29515 [==============================] - 0s 0us/step\n",
            "Downloading data from https://storage.googleapis.com/tensorflow/tf-keras-datasets/train-images-idx3-ubyte.gz\n",
            "26421880/26421880 [==============================] - 1s 0us/step\n",
            "Downloading data from https://storage.googleapis.com/tensorflow/tf-keras-datasets/t10k-labels-idx1-ubyte.gz\n",
            "5148/5148 [==============================] - 0s 0us/step\n",
            "Downloading data from https://storage.googleapis.com/tensorflow/tf-keras-datasets/t10k-images-idx3-ubyte.gz\n",
            "4422102/4422102 [==============================] - 1s 0us/step\n"
          ]
        },
        {
          "output_type": "stream",
          "name": "stderr",
          "text": [
            "\u001b[34m\u001b[1mwandb\u001b[0m: \u001b[33mWARNING\u001b[0m Calling wandb.login() after wandb.init() has no effect.\n"
          ]
        },
        {
          "output_type": "stream",
          "name": "stdout",
          "text": [
            "Create sweep with ID: l49mdn8a\n",
            "Sweep URL: https://wandb.ai/cs23m033_dl_assignment_1/dL_assignment_1/sweeps/l49mdn8a\n"
          ]
        },
        {
          "output_type": "stream",
          "name": "stderr",
          "text": [
            "\u001b[34m\u001b[1mwandb\u001b[0m: Agent Starting Run: fitzeboa with config:\n",
            "\u001b[34m\u001b[1mwandb\u001b[0m: \teps: 1e-08\n",
            "\u001b[34m\u001b[1mwandb\u001b[0m: \teta: 0.0001\n",
            "\u001b[34m\u001b[1mwandb\u001b[0m: \tmax_epochs: 10\n",
            "\u001b[34m\u001b[1mwandb\u001b[0m: \tmini_batch_size: 32\n",
            "\u001b[34m\u001b[1mwandb\u001b[0m: \tname_of_activation: tanh\n",
            "\u001b[34m\u001b[1mwandb\u001b[0m: \tname_of_function: random\n",
            "\u001b[34m\u001b[1mwandb\u001b[0m: \tname_of_loss_function: cross entropy\n",
            "\u001b[34m\u001b[1mwandb\u001b[0m: \tname_of_optimizer: rmsprop\n",
            "\u001b[34m\u001b[1mwandb\u001b[0m: \tno_neurons_per_layer: 16\n",
            "\u001b[34m\u001b[1mwandb\u001b[0m: \tno_of_layers: 3\n",
            "\u001b[34m\u001b[1mwandb\u001b[0m: \tweight_decay: 0.5\n",
            "\u001b[34m\u001b[1mwandb\u001b[0m: \u001b[33mWARNING\u001b[0m Ignored wandb.init() arg project when running a sweep.\n",
            "Exception in thread ChkStopThr:\n",
            "Traceback (most recent call last):\n",
            "  File \"/usr/lib/python3.10/threading.py\", line 1016, in _bootstrap_inner\n",
            "Exception in thread NetStatThr:\n",
            "Traceback (most recent call last):\n",
            "  File \"/usr/lib/python3.10/threading.py\", line 1016, in _bootstrap_inner\n",
            "Exception in thread IntMsgThr:\n",
            "Traceback (most recent call last):\n",
            "  File \"/usr/lib/python3.10/threading.py\", line 1016, in _bootstrap_inner\n",
            "    self.run()\n",
            "  File \"/usr/lib/python3.10/threading.py\", line 953, in run\n",
            "    self.run()\n",
            "  File \"/usr/lib/python3.10/threading.py\", line 953, in run\n",
            "    self.run()\n",
            "  File \"/usr/lib/python3.10/threading.py\", line 953, in run\n",
            "    self._target(*self._args, **self._kwargs)\n",
            "  File \"/usr/local/lib/python3.10/dist-packages/wandb/sdk/wandb_run.py\", line 286, in check_stop_status\n",
            "    self._target(*self._args, **self._kwargs)\n",
            "  File \"/usr/local/lib/python3.10/dist-packages/wandb/sdk/wandb_run.py\", line 300, in check_internal_messages\n",
            "            self._target(*self._args, **self._kwargs)self._loop_check_status(\n",
            "  File \"/usr/local/lib/python3.10/dist-packages/wandb/sdk/wandb_run.py\", line 224, in _loop_check_status\n",
            "\n",
            "  File \"/usr/local/lib/python3.10/dist-packages/wandb/sdk/wandb_run.py\", line 268, in check_network_status\n",
            "self._loop_check_status(\n",
            "  File \"/usr/local/lib/python3.10/dist-packages/wandb/sdk/wandb_run.py\", line 224, in _loop_check_status\n",
            "    local_handle = request()\n",
            "  File \"/usr/local/lib/python3.10/dist-packages/wandb/sdk/interface/interface.py\", line 803, in deliver_internal_messages\n",
            "    local_handle = request()\n",
            "  File \"/usr/local/lib/python3.10/dist-packages/wandb/sdk/interface/interface.py\", line 787, in deliver_stop_status\n",
            "    self._loop_check_status(\n",
            "  File \"/usr/local/lib/python3.10/dist-packages/wandb/sdk/wandb_run.py\", line 224, in _loop_check_status\n",
            "        local_handle = request()\n",
            "  File \"/usr/local/lib/python3.10/dist-packages/wandb/sdk/interface/interface.py\", line 795, in deliver_network_status\n",
            "return self._deliver_internal_messages(internal_message)\n",
            "    return self._deliver_stop_status(status)\n",
            "  File \"/usr/local/lib/python3.10/dist-packages/wandb/sdk/interface/interface_shared.py\", line 484, in _deliver_stop_status\n",
            "  File \"/usr/local/lib/python3.10/dist-packages/wandb/sdk/interface/interface_shared.py\", line 506, in _deliver_internal_messages\n",
            "    return self._deliver_record(record)\n",
            "  File \"/usr/local/lib/python3.10/dist-packages/wandb/sdk/interface/interface_shared.py\", line 449, in _deliver_record\n",
            "        return self._deliver_record(record)\n",
            "  File \"/usr/local/lib/python3.10/dist-packages/wandb/sdk/interface/interface_shared.py\", line 449, in _deliver_record\n",
            "    return self._deliver_network_status(status)handle = mailbox._deliver_record(record, interface=self)\n",
            "  File \"/usr/local/lib/python3.10/dist-packages/wandb/sdk/lib/mailbox.py\", line 455, in _deliver_record\n",
            "    interface._publish(record)\n",
            "  File \"/usr/local/lib/python3.10/dist-packages/wandb/sdk/interface/interface_sock.py\", line 51, in _publish\n",
            "    self._sock_client.send_record_publish(record)\n",
            "  File \"/usr/local/lib/python3.10/dist-packages/wandb/sdk/lib/sock_client.py\", line 221, in send_record_publish\n",
            "    \n",
            "self.send_server_request(server_req)  File \"/usr/local/lib/python3.10/dist-packages/wandb/sdk/interface/interface_shared.py\", line 500, in _deliver_network_status\n",
            "    \n",
            "handle = mailbox._deliver_record(record, interface=self)  File \"/usr/local/lib/python3.10/dist-packages/wandb/sdk/lib/sock_client.py\", line 155, in send_server_request\n",
            "    \n",
            "return self._deliver_record(record)  File \"/usr/local/lib/python3.10/dist-packages/wandb/sdk/lib/mailbox.py\", line 455, in _deliver_record\n",
            "\n",
            "  File \"/usr/local/lib/python3.10/dist-packages/wandb/sdk/interface/interface_shared.py\", line 449, in _deliver_record\n",
            "        handle = mailbox._deliver_record(record, interface=self)self._send_message(msg)\n",
            "\n",
            "  File \"/usr/local/lib/python3.10/dist-packages/wandb/sdk/lib/sock_client.py\", line 152, in _send_message\n",
            "    interface._publish(record)\n",
            "  File \"/usr/local/lib/python3.10/dist-packages/wandb/sdk/interface/interface_sock.py\", line 51, in _publish\n",
            "    self._sock_client.send_record_publish(record)\n",
            "  File \"/usr/local/lib/python3.10/dist-packages/wandb/sdk/lib/sock_client.py\", line 221, in send_record_publish\n",
            "  File \"/usr/local/lib/python3.10/dist-packages/wandb/sdk/lib/mailbox.py\", line 455, in _deliver_record\n",
            "        interface._publish(record)\n",
            "  File \"/usr/local/lib/python3.10/dist-packages/wandb/sdk/interface/interface_sock.py\", line 51, in _publish\n",
            "self._sendall_with_error_handle(header + data)\n",
            "  File \"/usr/local/lib/python3.10/dist-packages/wandb/sdk/lib/sock_client.py\", line 130, in _sendall_with_error_handle\n",
            "    self._sock_client.send_record_publish(record)\n",
            "  File \"/usr/local/lib/python3.10/dist-packages/wandb/sdk/lib/sock_client.py\", line 221, in send_record_publish\n",
            "    self.send_server_request(server_req)\n",
            "  File \"/usr/local/lib/python3.10/dist-packages/wandb/sdk/lib/sock_client.py\", line 155, in send_server_request\n",
            "    self.send_server_request(server_req)\n",
            "  File \"/usr/local/lib/python3.10/dist-packages/wandb/sdk/lib/sock_client.py\", line 155, in send_server_request\n",
            "            self._send_message(msg)\n",
            "self._send_message(msg)  File \"/usr/local/lib/python3.10/dist-packages/wandb/sdk/lib/sock_client.py\", line 152, in _send_message\n",
            "sent = self._sock.send(data)\n",
            "BrokenPipeError: [Errno 32] Broken pipe\n",
            "\n",
            "  File \"/usr/local/lib/python3.10/dist-packages/wandb/sdk/lib/sock_client.py\", line 152, in _send_message\n",
            "    self._sendall_with_error_handle(header + data)\n",
            "  File \"/usr/local/lib/python3.10/dist-packages/wandb/sdk/lib/sock_client.py\", line 130, in _sendall_with_error_handle\n",
            "    sent = self._sock.send(data)\n",
            "BrokenPipeError: [Errno 32] Broken pipe\n",
            "    self._sendall_with_error_handle(header + data)\n",
            "  File \"/usr/local/lib/python3.10/dist-packages/wandb/sdk/lib/sock_client.py\", line 130, in _sendall_with_error_handle\n",
            "    sent = self._sock.send(data)\n",
            "BrokenPipeError: [Errno 32] Broken pipe\n"
          ]
        },
        {
          "output_type": "display_data",
          "data": {
            "text/plain": [
              "<IPython.core.display.HTML object>"
            ],
            "text/html": [
              "Tracking run with wandb version 0.16.4"
            ]
          },
          "metadata": {}
        },
        {
          "output_type": "display_data",
          "data": {
            "text/plain": [
              "<IPython.core.display.HTML object>"
            ],
            "text/html": [
              "Run data is saved locally in <code>/content/wandb/run-20240315_214106-fitzeboa</code>"
            ]
          },
          "metadata": {}
        },
        {
          "output_type": "display_data",
          "data": {
            "text/plain": [
              "<IPython.core.display.HTML object>"
            ],
            "text/html": [
              "Syncing run <strong><a href='https://wandb.ai/cs23m033_dl_assignment_1/dL_assignment_1/runs/fitzeboa' target=\"_blank\">royal-sweep-1</a></strong> to <a href='https://wandb.ai/cs23m033_dl_assignment_1/dL_assignment_1' target=\"_blank\">Weights & Biases</a> (<a href='https://wandb.me/run' target=\"_blank\">docs</a>)<br/>Sweep page: <a href='https://wandb.ai/cs23m033_dl_assignment_1/dL_assignment_1/sweeps/l49mdn8a' target=\"_blank\">https://wandb.ai/cs23m033_dl_assignment_1/dL_assignment_1/sweeps/l49mdn8a</a>"
            ]
          },
          "metadata": {}
        },
        {
          "output_type": "display_data",
          "data": {
            "text/plain": [
              "<IPython.core.display.HTML object>"
            ],
            "text/html": [
              " View project at <a href='https://wandb.ai/cs23m033_dl_assignment_1/dL_assignment_1' target=\"_blank\">https://wandb.ai/cs23m033_dl_assignment_1/dL_assignment_1</a>"
            ]
          },
          "metadata": {}
        },
        {
          "output_type": "display_data",
          "data": {
            "text/plain": [
              "<IPython.core.display.HTML object>"
            ],
            "text/html": [
              " View sweep at <a href='https://wandb.ai/cs23m033_dl_assignment_1/dL_assignment_1/sweeps/l49mdn8a' target=\"_blank\">https://wandb.ai/cs23m033_dl_assignment_1/dL_assignment_1/sweeps/l49mdn8a</a>"
            ]
          },
          "metadata": {}
        },
        {
          "output_type": "display_data",
          "data": {
            "text/plain": [
              "<IPython.core.display.HTML object>"
            ],
            "text/html": [
              " View run at <a href='https://wandb.ai/cs23m033_dl_assignment_1/dL_assignment_1/runs/fitzeboa' target=\"_blank\">https://wandb.ai/cs23m033_dl_assignment_1/dL_assignment_1/runs/fitzeboa</a>"
            ]
          },
          "metadata": {}
        },
        {
          "output_type": "stream",
          "name": "stderr",
          "text": [
            "\u001b[34m\u001b[1mwandb\u001b[0m: \u001b[33mWARNING\u001b[0m Ignored wandb.init() arg project when running a sweep.\n"
          ]
        },
        {
          "output_type": "display_data",
          "data": {
            "text/plain": [
              "<IPython.core.display.HTML object>"
            ],
            "text/html": [
              "Finishing last run (ID:fitzeboa) before initializing another..."
            ]
          },
          "metadata": {}
        },
        {
          "output_type": "display_data",
          "data": {
            "text/plain": [
              "VBox(children=(Label(value='0.001 MB of 0.001 MB uploaded\\r'), FloatProgress(value=1.0, max=1.0)))"
            ],
            "application/vnd.jupyter.widget-view+json": {
              "version_major": 2,
              "version_minor": 0,
              "model_id": "bd72f9010e4f4239879ec14ed0a195d4"
            }
          },
          "metadata": {}
        },
        {
          "output_type": "display_data",
          "data": {
            "text/plain": [
              "<IPython.core.display.HTML object>"
            ],
            "text/html": [
              " View run <strong style=\"color:#cdcd00\">royal-sweep-1</strong> at: <a href='https://wandb.ai/cs23m033_dl_assignment_1/dL_assignment_1/runs/fitzeboa' target=\"_blank\">https://wandb.ai/cs23m033_dl_assignment_1/dL_assignment_1/runs/fitzeboa</a><br/>Synced 5 W&B file(s), 0 media file(s), 0 artifact file(s) and 0 other file(s)"
            ]
          },
          "metadata": {}
        },
        {
          "output_type": "display_data",
          "data": {
            "text/plain": [
              "<IPython.core.display.HTML object>"
            ],
            "text/html": [
              "Find logs at: <code>./wandb/run-20240315_214106-fitzeboa/logs</code>"
            ]
          },
          "metadata": {}
        },
        {
          "output_type": "display_data",
          "data": {
            "text/plain": [
              "<IPython.core.display.HTML object>"
            ],
            "text/html": [
              "Successfully finished last run (ID:fitzeboa). Initializing new run:<br/>"
            ]
          },
          "metadata": {}
        },
        {
          "output_type": "display_data",
          "data": {
            "text/plain": [
              "<IPython.core.display.HTML object>"
            ],
            "text/html": [
              "Tracking run with wandb version 0.16.4"
            ]
          },
          "metadata": {}
        },
        {
          "output_type": "display_data",
          "data": {
            "text/plain": [
              "<IPython.core.display.HTML object>"
            ],
            "text/html": [
              "Run data is saved locally in <code>/content/wandb/run-20240315_214108-fitzeboa</code>"
            ]
          },
          "metadata": {}
        },
        {
          "output_type": "display_data",
          "data": {
            "text/plain": [
              "<IPython.core.display.HTML object>"
            ],
            "text/html": [
              "Syncing run <strong><a href='https://wandb.ai/cs23m033_dl_assignment_1/dL_assignment_1/runs/fitzeboa' target=\"_blank\">fun->random</a></strong> to <a href='https://wandb.ai/cs23m033_dl_assignment_1/dL_assignment_1' target=\"_blank\">Weights & Biases</a> (<a href='https://wandb.me/run' target=\"_blank\">docs</a>)<br/>Sweep page: <a href='https://wandb.ai/cs23m033_dl_assignment_1/dL_assignment_1/sweeps/l49mdn8a' target=\"_blank\">https://wandb.ai/cs23m033_dl_assignment_1/dL_assignment_1/sweeps/l49mdn8a</a>"
            ]
          },
          "metadata": {}
        },
        {
          "output_type": "display_data",
          "data": {
            "text/plain": [
              "<IPython.core.display.HTML object>"
            ],
            "text/html": [
              " View project at <a href='https://wandb.ai/cs23m033_dl_assignment_1/dL_assignment_1' target=\"_blank\">https://wandb.ai/cs23m033_dl_assignment_1/dL_assignment_1</a>"
            ]
          },
          "metadata": {}
        },
        {
          "output_type": "display_data",
          "data": {
            "text/plain": [
              "<IPython.core.display.HTML object>"
            ],
            "text/html": [
              " View sweep at <a href='https://wandb.ai/cs23m033_dl_assignment_1/dL_assignment_1/sweeps/l49mdn8a' target=\"_blank\">https://wandb.ai/cs23m033_dl_assignment_1/dL_assignment_1/sweeps/l49mdn8a</a>"
            ]
          },
          "metadata": {}
        },
        {
          "output_type": "display_data",
          "data": {
            "text/plain": [
              "<IPython.core.display.HTML object>"
            ],
            "text/html": [
              " View run at <a href='https://wandb.ai/cs23m033_dl_assignment_1/dL_assignment_1/runs/fitzeboa' target=\"_blank\">https://wandb.ai/cs23m033_dl_assignment_1/dL_assignment_1/runs/fitzeboa</a>"
            ]
          },
          "metadata": {}
        },
        {
          "output_type": "stream",
          "name": "stdout",
          "text": [
            "training loss: 2.3032156589351884,training accuracy: 9.97037037037037, validation accuracy: 10.266666666666667, validation loss: 2.3028247596045124\n",
            "training loss: 2.302743251675359,training accuracy: 10.083333333333332, validation accuracy: 9.25, validation loss: 2.302932223811464\n",
            "training loss: 2.303169523557964,training accuracy: 9.944444444444445, validation accuracy: 10.5, validation loss: 2.3029757102159456\n",
            "training loss: 2.3028712279293546,training accuracy: 10.083333333333332, validation accuracy: 9.25, validation loss: 2.303053546195735\n",
            "training loss: 2.30319802816987,training accuracy: 9.944444444444445, validation accuracy: 10.5, validation loss: 2.3028133982983134\n",
            "training loss: 2.302926053735464,training accuracy: 10.083333333333332, validation accuracy: 9.25, validation loss: 2.3030777417372517\n",
            "training loss: 2.3031211823230606,training accuracy: 9.944444444444445, validation accuracy: 10.5, validation loss: 2.30284165046035\n",
            "training loss: 2.3028985815142304,training accuracy: 10.083333333333332, validation accuracy: 9.25, validation loss: 2.3031746625555916\n",
            "training loss: 2.303249771773087,training accuracy: 9.944444444444445, validation accuracy: 10.5, validation loss: 2.3030622595611705\n",
            "training loss: 2.3029765156430275,training accuracy: 10.083333333333332, validation accuracy: 9.25, validation loss: 2.303235710694326\n"
          ]
        },
        {
          "output_type": "display_data",
          "data": {
            "text/plain": [
              "VBox(children=(Label(value='0.001 MB of 0.012 MB uploaded\\r'), FloatProgress(value=0.08472144735793417, max=1.…"
            ],
            "application/vnd.jupyter.widget-view+json": {
              "version_major": 2,
              "version_minor": 0,
              "model_id": "df1b1f19cf5b4b979ebf8dfa0d1ded2c"
            }
          },
          "metadata": {}
        },
        {
          "output_type": "display_data",
          "data": {
            "text/plain": [
              "<IPython.core.display.HTML object>"
            ],
            "text/html": [
              "<style>\n",
              "    table.wandb td:nth-child(1) { padding: 0 10px; text-align: left ; width: auto;} td:nth-child(2) {text-align: left ; width: 100%}\n",
              "    .wandb-row { display: flex; flex-direction: row; flex-wrap: wrap; justify-content: flex-start; width: 100% }\n",
              "    .wandb-col { display: flex; flex-direction: column; flex-basis: 100%; flex: 1; padding: 10px; }\n",
              "    </style>\n",
              "<div class=\"wandb-row\"><div class=\"wandb-col\"><h3>Run history:</h3><br/><table class=\"wandb\"><tr><td>train_accuracy</td><td>▂█▁█▁█▁█▁█</td></tr><tr><td>train_loss</td><td>█▁▇▃▇▄▆▃█▄</td></tr><tr><td>valid_accuracy</td><td>▇▁█▁█▁█▁█▁</td></tr><tr><td>valid_loss</td><td>▁▃▄▅▁▅▁▇▅█</td></tr></table><br/></div><div class=\"wandb-col\"><h3>Run summary:</h3><br/><table class=\"wandb\"><tr><td>train_accuracy</td><td>10.08333</td></tr><tr><td>train_loss</td><td>2.30298</td></tr><tr><td>valid_accuracy</td><td>9.25</td></tr><tr><td>valid_loss</td><td>2.30324</td></tr></table><br/></div></div>"
            ]
          },
          "metadata": {}
        },
        {
          "output_type": "display_data",
          "data": {
            "text/plain": [
              "<IPython.core.display.HTML object>"
            ],
            "text/html": [
              " View run <strong style=\"color:#cdcd00\">fun->random</strong> at: <a href='https://wandb.ai/cs23m033_dl_assignment_1/dL_assignment_1/runs/fitzeboa' target=\"_blank\">https://wandb.ai/cs23m033_dl_assignment_1/dL_assignment_1/runs/fitzeboa</a><br/>Synced 5 W&B file(s), 0 media file(s), 0 artifact file(s) and 0 other file(s)"
            ]
          },
          "metadata": {}
        },
        {
          "output_type": "display_data",
          "data": {
            "text/plain": [
              "<IPython.core.display.HTML object>"
            ],
            "text/html": [
              "Find logs at: <code>./wandb/run-20240315_214108-fitzeboa/logs</code>"
            ]
          },
          "metadata": {}
        },
        {
          "output_type": "stream",
          "name": "stderr",
          "text": [
            "\u001b[34m\u001b[1mwandb\u001b[0m: Agent Starting Run: 3pdkw2i3 with config:\n",
            "\u001b[34m\u001b[1mwandb\u001b[0m: \teps: 1e-05\n",
            "\u001b[34m\u001b[1mwandb\u001b[0m: \teta: 0.001\n",
            "\u001b[34m\u001b[1mwandb\u001b[0m: \tmax_epochs: 5\n",
            "\u001b[34m\u001b[1mwandb\u001b[0m: \tmini_batch_size: 16\n",
            "\u001b[34m\u001b[1mwandb\u001b[0m: \tname_of_activation: tanh\n",
            "\u001b[34m\u001b[1mwandb\u001b[0m: \tname_of_function: xavier\n",
            "\u001b[34m\u001b[1mwandb\u001b[0m: \tname_of_loss_function: cross entropy\n",
            "\u001b[34m\u001b[1mwandb\u001b[0m: \tname_of_optimizer: rmsprop\n",
            "\u001b[34m\u001b[1mwandb\u001b[0m: \tno_neurons_per_layer: 16\n",
            "\u001b[34m\u001b[1mwandb\u001b[0m: \tno_of_layers: 5\n",
            "\u001b[34m\u001b[1mwandb\u001b[0m: \tweight_decay: 0\n",
            "\u001b[34m\u001b[1mwandb\u001b[0m: \u001b[33mWARNING\u001b[0m Ignored wandb.init() arg project when running a sweep.\n"
          ]
        },
        {
          "output_type": "display_data",
          "data": {
            "text/plain": [
              "<IPython.core.display.HTML object>"
            ],
            "text/html": [
              "Tracking run with wandb version 0.16.4"
            ]
          },
          "metadata": {}
        },
        {
          "output_type": "display_data",
          "data": {
            "text/plain": [
              "<IPython.core.display.HTML object>"
            ],
            "text/html": [
              "Run data is saved locally in <code>/content/wandb/run-20240315_214804-3pdkw2i3</code>"
            ]
          },
          "metadata": {}
        },
        {
          "output_type": "display_data",
          "data": {
            "text/plain": [
              "<IPython.core.display.HTML object>"
            ],
            "text/html": [
              "Syncing run <strong><a href='https://wandb.ai/cs23m033_dl_assignment_1/dL_assignment_1/runs/3pdkw2i3' target=\"_blank\">charmed-sweep-2</a></strong> to <a href='https://wandb.ai/cs23m033_dl_assignment_1/dL_assignment_1' target=\"_blank\">Weights & Biases</a> (<a href='https://wandb.me/run' target=\"_blank\">docs</a>)<br/>Sweep page: <a href='https://wandb.ai/cs23m033_dl_assignment_1/dL_assignment_1/sweeps/l49mdn8a' target=\"_blank\">https://wandb.ai/cs23m033_dl_assignment_1/dL_assignment_1/sweeps/l49mdn8a</a>"
            ]
          },
          "metadata": {}
        },
        {
          "output_type": "display_data",
          "data": {
            "text/plain": [
              "<IPython.core.display.HTML object>"
            ],
            "text/html": [
              " View project at <a href='https://wandb.ai/cs23m033_dl_assignment_1/dL_assignment_1' target=\"_blank\">https://wandb.ai/cs23m033_dl_assignment_1/dL_assignment_1</a>"
            ]
          },
          "metadata": {}
        },
        {
          "output_type": "display_data",
          "data": {
            "text/plain": [
              "<IPython.core.display.HTML object>"
            ],
            "text/html": [
              " View sweep at <a href='https://wandb.ai/cs23m033_dl_assignment_1/dL_assignment_1/sweeps/l49mdn8a' target=\"_blank\">https://wandb.ai/cs23m033_dl_assignment_1/dL_assignment_1/sweeps/l49mdn8a</a>"
            ]
          },
          "metadata": {}
        },
        {
          "output_type": "display_data",
          "data": {
            "text/plain": [
              "<IPython.core.display.HTML object>"
            ],
            "text/html": [
              " View run at <a href='https://wandb.ai/cs23m033_dl_assignment_1/dL_assignment_1/runs/3pdkw2i3' target=\"_blank\">https://wandb.ai/cs23m033_dl_assignment_1/dL_assignment_1/runs/3pdkw2i3</a>"
            ]
          },
          "metadata": {}
        },
        {
          "output_type": "stream",
          "name": "stderr",
          "text": [
            "\u001b[34m\u001b[1mwandb\u001b[0m: \u001b[33mWARNING\u001b[0m Ignored wandb.init() arg project when running a sweep.\n"
          ]
        },
        {
          "output_type": "display_data",
          "data": {
            "text/plain": [
              "<IPython.core.display.HTML object>"
            ],
            "text/html": [
              "Finishing last run (ID:3pdkw2i3) before initializing another..."
            ]
          },
          "metadata": {}
        },
        {
          "output_type": "display_data",
          "data": {
            "text/plain": [
              "VBox(children=(Label(value='0.001 MB of 0.001 MB uploaded\\r'), FloatProgress(value=1.0, max=1.0)))"
            ],
            "application/vnd.jupyter.widget-view+json": {
              "version_major": 2,
              "version_minor": 0,
              "model_id": "ac75524a5b244ff097085ed8dc6752b2"
            }
          },
          "metadata": {}
        },
        {
          "output_type": "display_data",
          "data": {
            "text/plain": [
              "<IPython.core.display.HTML object>"
            ],
            "text/html": [
              " View run <strong style=\"color:#cdcd00\">charmed-sweep-2</strong> at: <a href='https://wandb.ai/cs23m033_dl_assignment_1/dL_assignment_1/runs/3pdkw2i3' target=\"_blank\">https://wandb.ai/cs23m033_dl_assignment_1/dL_assignment_1/runs/3pdkw2i3</a><br/>Synced 5 W&B file(s), 0 media file(s), 0 artifact file(s) and 0 other file(s)"
            ]
          },
          "metadata": {}
        },
        {
          "output_type": "display_data",
          "data": {
            "text/plain": [
              "<IPython.core.display.HTML object>"
            ],
            "text/html": [
              "Find logs at: <code>./wandb/run-20240315_214804-3pdkw2i3/logs</code>"
            ]
          },
          "metadata": {}
        },
        {
          "output_type": "display_data",
          "data": {
            "text/plain": [
              "<IPython.core.display.HTML object>"
            ],
            "text/html": [
              "Successfully finished last run (ID:3pdkw2i3). Initializing new run:<br/>"
            ]
          },
          "metadata": {}
        },
        {
          "output_type": "display_data",
          "data": {
            "text/plain": [
              "<IPython.core.display.HTML object>"
            ],
            "text/html": [
              "Tracking run with wandb version 0.16.4"
            ]
          },
          "metadata": {}
        },
        {
          "output_type": "display_data",
          "data": {
            "text/plain": [
              "<IPython.core.display.HTML object>"
            ],
            "text/html": [
              "Run data is saved locally in <code>/content/wandb/run-20240315_214807-3pdkw2i3</code>"
            ]
          },
          "metadata": {}
        },
        {
          "output_type": "display_data",
          "data": {
            "text/plain": [
              "<IPython.core.display.HTML object>"
            ],
            "text/html": [
              "Syncing run <strong><a href='https://wandb.ai/cs23m033_dl_assignment_1/dL_assignment_1/runs/3pdkw2i3' target=\"_blank\">fun->xavier</a></strong> to <a href='https://wandb.ai/cs23m033_dl_assignment_1/dL_assignment_1' target=\"_blank\">Weights & Biases</a> (<a href='https://wandb.me/run' target=\"_blank\">docs</a>)<br/>Sweep page: <a href='https://wandb.ai/cs23m033_dl_assignment_1/dL_assignment_1/sweeps/l49mdn8a' target=\"_blank\">https://wandb.ai/cs23m033_dl_assignment_1/dL_assignment_1/sweeps/l49mdn8a</a>"
            ]
          },
          "metadata": {}
        },
        {
          "output_type": "display_data",
          "data": {
            "text/plain": [
              "<IPython.core.display.HTML object>"
            ],
            "text/html": [
              " View project at <a href='https://wandb.ai/cs23m033_dl_assignment_1/dL_assignment_1' target=\"_blank\">https://wandb.ai/cs23m033_dl_assignment_1/dL_assignment_1</a>"
            ]
          },
          "metadata": {}
        },
        {
          "output_type": "display_data",
          "data": {
            "text/plain": [
              "<IPython.core.display.HTML object>"
            ],
            "text/html": [
              " View sweep at <a href='https://wandb.ai/cs23m033_dl_assignment_1/dL_assignment_1/sweeps/l49mdn8a' target=\"_blank\">https://wandb.ai/cs23m033_dl_assignment_1/dL_assignment_1/sweeps/l49mdn8a</a>"
            ]
          },
          "metadata": {}
        },
        {
          "output_type": "display_data",
          "data": {
            "text/plain": [
              "<IPython.core.display.HTML object>"
            ],
            "text/html": [
              " View run at <a href='https://wandb.ai/cs23m033_dl_assignment_1/dL_assignment_1/runs/3pdkw2i3' target=\"_blank\">https://wandb.ai/cs23m033_dl_assignment_1/dL_assignment_1/runs/3pdkw2i3</a>"
            ]
          },
          "metadata": {}
        },
        {
          "output_type": "stream",
          "name": "stderr",
          "text": [
            "<ipython-input-1-8468a45a50c7>:119: RuntimeWarning: overflow encountered in power\n",
            "  return (np.power(np.exp(a_s),2)-1)/(np.power(np.exp(a_s),2)+1)\n",
            "<ipython-input-1-8468a45a50c7>:119: RuntimeWarning: invalid value encountered in divide\n",
            "  return (np.power(np.exp(a_s),2)-1)/(np.power(np.exp(a_s),2)+1)\n"
          ]
        },
        {
          "output_type": "stream",
          "name": "stdout",
          "text": [
            "training loss: nan,training accuracy: 9.944444444444445, validation accuracy: 10.5, validation loss: nan\n",
            "training loss: nan,training accuracy: 9.944444444444445, validation accuracy: 10.5, validation loss: nan\n",
            "training loss: nan,training accuracy: 9.944444444444445, validation accuracy: 10.5, validation loss: nan\n",
            "training loss: nan,training accuracy: 9.944444444444445, validation accuracy: 10.5, validation loss: nan\n",
            "training loss: nan,training accuracy: 9.944444444444445, validation accuracy: 10.5, validation loss: nan\n"
          ]
        },
        {
          "output_type": "display_data",
          "data": {
            "text/plain": [
              "VBox(children=(Label(value='0.001 MB of 0.001 MB uploaded\\r'), FloatProgress(value=1.0, max=1.0)))"
            ],
            "application/vnd.jupyter.widget-view+json": {
              "version_major": 2,
              "version_minor": 0,
              "model_id": "851bfc2599ad4db183b7ab710982c7ba"
            }
          },
          "metadata": {}
        },
        {
          "output_type": "display_data",
          "data": {
            "text/plain": [
              "<IPython.core.display.HTML object>"
            ],
            "text/html": [
              "<style>\n",
              "    table.wandb td:nth-child(1) { padding: 0 10px; text-align: left ; width: auto;} td:nth-child(2) {text-align: left ; width: 100%}\n",
              "    .wandb-row { display: flex; flex-direction: row; flex-wrap: wrap; justify-content: flex-start; width: 100% }\n",
              "    .wandb-col { display: flex; flex-direction: column; flex-basis: 100%; flex: 1; padding: 10px; }\n",
              "    </style>\n",
              "<div class=\"wandb-row\"><div class=\"wandb-col\"><h3>Run history:</h3><br/><table class=\"wandb\"><tr><td>train_accuracy</td><td>▁▁▁▁▁</td></tr><tr><td>valid_accuracy</td><td>▁▁▁▁▁</td></tr></table><br/></div><div class=\"wandb-col\"><h3>Run summary:</h3><br/><table class=\"wandb\"><tr><td>train_accuracy</td><td>9.94444</td></tr><tr><td>train_loss</td><td>nan</td></tr><tr><td>valid_accuracy</td><td>10.5</td></tr><tr><td>valid_loss</td><td>nan</td></tr></table><br/></div></div>"
            ]
          },
          "metadata": {}
        },
        {
          "output_type": "display_data",
          "data": {
            "text/plain": [
              "<IPython.core.display.HTML object>"
            ],
            "text/html": [
              " View run <strong style=\"color:#cdcd00\">fun->xavier</strong> at: <a href='https://wandb.ai/cs23m033_dl_assignment_1/dL_assignment_1/runs/3pdkw2i3' target=\"_blank\">https://wandb.ai/cs23m033_dl_assignment_1/dL_assignment_1/runs/3pdkw2i3</a><br/>Synced 5 W&B file(s), 0 media file(s), 0 artifact file(s) and 0 other file(s)"
            ]
          },
          "metadata": {}
        },
        {
          "output_type": "display_data",
          "data": {
            "text/plain": [
              "<IPython.core.display.HTML object>"
            ],
            "text/html": [
              "Find logs at: <code>./wandb/run-20240315_214807-3pdkw2i3/logs</code>"
            ]
          },
          "metadata": {}
        },
        {
          "output_type": "stream",
          "name": "stderr",
          "text": [
            "\u001b[34m\u001b[1mwandb\u001b[0m: Agent Starting Run: d6hh7mx3 with config:\n",
            "\u001b[34m\u001b[1mwandb\u001b[0m: \teps: 1e-05\n",
            "\u001b[34m\u001b[1mwandb\u001b[0m: \teta: 0.001\n",
            "\u001b[34m\u001b[1mwandb\u001b[0m: \tmax_epochs: 5\n",
            "\u001b[34m\u001b[1mwandb\u001b[0m: \tmini_batch_size: 32\n",
            "\u001b[34m\u001b[1mwandb\u001b[0m: \tname_of_activation: ReLU\n",
            "\u001b[34m\u001b[1mwandb\u001b[0m: \tname_of_function: xavier\n",
            "\u001b[34m\u001b[1mwandb\u001b[0m: \tname_of_loss_function: cross entropy\n",
            "\u001b[34m\u001b[1mwandb\u001b[0m: \tname_of_optimizer: adam\n",
            "\u001b[34m\u001b[1mwandb\u001b[0m: \tno_neurons_per_layer: 32\n",
            "\u001b[34m\u001b[1mwandb\u001b[0m: \tno_of_layers: 4\n",
            "\u001b[34m\u001b[1mwandb\u001b[0m: \tweight_decay: 0\n",
            "\u001b[34m\u001b[1mwandb\u001b[0m: \u001b[33mWARNING\u001b[0m Ignored wandb.init() arg project when running a sweep.\n"
          ]
        },
        {
          "output_type": "display_data",
          "data": {
            "text/plain": [
              "<IPython.core.display.HTML object>"
            ],
            "text/html": [
              "Tracking run with wandb version 0.16.4"
            ]
          },
          "metadata": {}
        },
        {
          "output_type": "display_data",
          "data": {
            "text/plain": [
              "<IPython.core.display.HTML object>"
            ],
            "text/html": [
              "Run data is saved locally in <code>/content/wandb/run-20240315_215303-d6hh7mx3</code>"
            ]
          },
          "metadata": {}
        },
        {
          "output_type": "display_data",
          "data": {
            "text/plain": [
              "<IPython.core.display.HTML object>"
            ],
            "text/html": [
              "Syncing run <strong><a href='https://wandb.ai/cs23m033_dl_assignment_1/dL_assignment_1/runs/d6hh7mx3' target=\"_blank\">solar-sweep-3</a></strong> to <a href='https://wandb.ai/cs23m033_dl_assignment_1/dL_assignment_1' target=\"_blank\">Weights & Biases</a> (<a href='https://wandb.me/run' target=\"_blank\">docs</a>)<br/>Sweep page: <a href='https://wandb.ai/cs23m033_dl_assignment_1/dL_assignment_1/sweeps/l49mdn8a' target=\"_blank\">https://wandb.ai/cs23m033_dl_assignment_1/dL_assignment_1/sweeps/l49mdn8a</a>"
            ]
          },
          "metadata": {}
        },
        {
          "output_type": "display_data",
          "data": {
            "text/plain": [
              "<IPython.core.display.HTML object>"
            ],
            "text/html": [
              " View project at <a href='https://wandb.ai/cs23m033_dl_assignment_1/dL_assignment_1' target=\"_blank\">https://wandb.ai/cs23m033_dl_assignment_1/dL_assignment_1</a>"
            ]
          },
          "metadata": {}
        },
        {
          "output_type": "display_data",
          "data": {
            "text/plain": [
              "<IPython.core.display.HTML object>"
            ],
            "text/html": [
              " View sweep at <a href='https://wandb.ai/cs23m033_dl_assignment_1/dL_assignment_1/sweeps/l49mdn8a' target=\"_blank\">https://wandb.ai/cs23m033_dl_assignment_1/dL_assignment_1/sweeps/l49mdn8a</a>"
            ]
          },
          "metadata": {}
        },
        {
          "output_type": "display_data",
          "data": {
            "text/plain": [
              "<IPython.core.display.HTML object>"
            ],
            "text/html": [
              " View run at <a href='https://wandb.ai/cs23m033_dl_assignment_1/dL_assignment_1/runs/d6hh7mx3' target=\"_blank\">https://wandb.ai/cs23m033_dl_assignment_1/dL_assignment_1/runs/d6hh7mx3</a>"
            ]
          },
          "metadata": {}
        },
        {
          "output_type": "stream",
          "name": "stderr",
          "text": [
            "\u001b[34m\u001b[1mwandb\u001b[0m: \u001b[33mWARNING\u001b[0m Ignored wandb.init() arg project when running a sweep.\n"
          ]
        },
        {
          "output_type": "display_data",
          "data": {
            "text/plain": [
              "<IPython.core.display.HTML object>"
            ],
            "text/html": [
              "Finishing last run (ID:d6hh7mx3) before initializing another..."
            ]
          },
          "metadata": {}
        },
        {
          "output_type": "display_data",
          "data": {
            "text/plain": [
              "VBox(children=(Label(value='0.001 MB of 0.001 MB uploaded\\r'), FloatProgress(value=1.0, max=1.0)))"
            ],
            "application/vnd.jupyter.widget-view+json": {
              "version_major": 2,
              "version_minor": 0,
              "model_id": "d30de9f0f9a24f1aa26b65798850ff1c"
            }
          },
          "metadata": {}
        },
        {
          "output_type": "display_data",
          "data": {
            "text/plain": [
              "<IPython.core.display.HTML object>"
            ],
            "text/html": [
              " View run <strong style=\"color:#cdcd00\">solar-sweep-3</strong> at: <a href='https://wandb.ai/cs23m033_dl_assignment_1/dL_assignment_1/runs/d6hh7mx3' target=\"_blank\">https://wandb.ai/cs23m033_dl_assignment_1/dL_assignment_1/runs/d6hh7mx3</a><br/>Synced 5 W&B file(s), 0 media file(s), 0 artifact file(s) and 0 other file(s)"
            ]
          },
          "metadata": {}
        },
        {
          "output_type": "display_data",
          "data": {
            "text/plain": [
              "<IPython.core.display.HTML object>"
            ],
            "text/html": [
              "Find logs at: <code>./wandb/run-20240315_215303-d6hh7mx3/logs</code>"
            ]
          },
          "metadata": {}
        },
        {
          "output_type": "display_data",
          "data": {
            "text/plain": [
              "<IPython.core.display.HTML object>"
            ],
            "text/html": [
              "Successfully finished last run (ID:d6hh7mx3). Initializing new run:<br/>"
            ]
          },
          "metadata": {}
        },
        {
          "output_type": "display_data",
          "data": {
            "text/plain": [
              "<IPython.core.display.HTML object>"
            ],
            "text/html": [
              "Tracking run with wandb version 0.16.4"
            ]
          },
          "metadata": {}
        },
        {
          "output_type": "display_data",
          "data": {
            "text/plain": [
              "<IPython.core.display.HTML object>"
            ],
            "text/html": [
              "Run data is saved locally in <code>/content/wandb/run-20240315_215307-d6hh7mx3</code>"
            ]
          },
          "metadata": {}
        },
        {
          "output_type": "display_data",
          "data": {
            "text/plain": [
              "<IPython.core.display.HTML object>"
            ],
            "text/html": [
              "Syncing run <strong><a href='https://wandb.ai/cs23m033_dl_assignment_1/dL_assignment_1/runs/d6hh7mx3' target=\"_blank\">fun->xavier</a></strong> to <a href='https://wandb.ai/cs23m033_dl_assignment_1/dL_assignment_1' target=\"_blank\">Weights & Biases</a> (<a href='https://wandb.me/run' target=\"_blank\">docs</a>)<br/>Sweep page: <a href='https://wandb.ai/cs23m033_dl_assignment_1/dL_assignment_1/sweeps/l49mdn8a' target=\"_blank\">https://wandb.ai/cs23m033_dl_assignment_1/dL_assignment_1/sweeps/l49mdn8a</a>"
            ]
          },
          "metadata": {}
        },
        {
          "output_type": "display_data",
          "data": {
            "text/plain": [
              "<IPython.core.display.HTML object>"
            ],
            "text/html": [
              " View project at <a href='https://wandb.ai/cs23m033_dl_assignment_1/dL_assignment_1' target=\"_blank\">https://wandb.ai/cs23m033_dl_assignment_1/dL_assignment_1</a>"
            ]
          },
          "metadata": {}
        },
        {
          "output_type": "display_data",
          "data": {
            "text/plain": [
              "<IPython.core.display.HTML object>"
            ],
            "text/html": [
              " View sweep at <a href='https://wandb.ai/cs23m033_dl_assignment_1/dL_assignment_1/sweeps/l49mdn8a' target=\"_blank\">https://wandb.ai/cs23m033_dl_assignment_1/dL_assignment_1/sweeps/l49mdn8a</a>"
            ]
          },
          "metadata": {}
        },
        {
          "output_type": "display_data",
          "data": {
            "text/plain": [
              "<IPython.core.display.HTML object>"
            ],
            "text/html": [
              " View run at <a href='https://wandb.ai/cs23m033_dl_assignment_1/dL_assignment_1/runs/d6hh7mx3' target=\"_blank\">https://wandb.ai/cs23m033_dl_assignment_1/dL_assignment_1/runs/d6hh7mx3</a>"
            ]
          },
          "metadata": {}
        },
        {
          "output_type": "stream",
          "name": "stdout",
          "text": [
            "training loss: 31.06251251146033,training accuracy: 10.064814814814815, validation accuracy: 9.416666666666666, validation loss: 31.28637495105697\n",
            "training loss: 31.08617796936055,training accuracy: 9.996296296296297, validation accuracy: 10.033333333333333, validation loss: 31.07338582995502\n",
            "training loss: 31.09705128785524,training accuracy: 9.964814814814815, validation accuracy: 10.316666666666666, validation loss: 30.975525963502772\n",
            "training loss: 31.06251251146033,training accuracy: 10.064814814814815, validation accuracy: 9.416666666666666, validation loss: 31.28637495105697\n",
            "training loss: 31.10600578543911,training accuracy: 9.938888888888888, validation accuracy: 10.549999999999999, validation loss: 30.894935485247977\n"
          ]
        },
        {
          "output_type": "display_data",
          "data": {
            "text/plain": [
              "VBox(children=(Label(value='0.001 MB of 0.001 MB uploaded\\r'), FloatProgress(value=1.0, max=1.0)))"
            ],
            "application/vnd.jupyter.widget-view+json": {
              "version_major": 2,
              "version_minor": 0,
              "model_id": "7f9e9b5392a840a2b8ebe6270c744190"
            }
          },
          "metadata": {}
        },
        {
          "output_type": "display_data",
          "data": {
            "text/plain": [
              "<IPython.core.display.HTML object>"
            ],
            "text/html": [
              "<style>\n",
              "    table.wandb td:nth-child(1) { padding: 0 10px; text-align: left ; width: auto;} td:nth-child(2) {text-align: left ; width: 100%}\n",
              "    .wandb-row { display: flex; flex-direction: row; flex-wrap: wrap; justify-content: flex-start; width: 100% }\n",
              "    .wandb-col { display: flex; flex-direction: column; flex-basis: 100%; flex: 1; padding: 10px; }\n",
              "    </style>\n",
              "<div class=\"wandb-row\"><div class=\"wandb-col\"><h3>Run history:</h3><br/><table class=\"wandb\"><tr><td>train_accuracy</td><td>█▄▂█▁</td></tr><tr><td>train_loss</td><td>▁▅▇▁█</td></tr><tr><td>valid_accuracy</td><td>▁▅▇▁█</td></tr><tr><td>valid_loss</td><td>█▄▂█▁</td></tr></table><br/></div><div class=\"wandb-col\"><h3>Run summary:</h3><br/><table class=\"wandb\"><tr><td>train_accuracy</td><td>9.93889</td></tr><tr><td>train_loss</td><td>31.10601</td></tr><tr><td>valid_accuracy</td><td>10.55</td></tr><tr><td>valid_loss</td><td>30.89494</td></tr></table><br/></div></div>"
            ]
          },
          "metadata": {}
        },
        {
          "output_type": "display_data",
          "data": {
            "text/plain": [
              "<IPython.core.display.HTML object>"
            ],
            "text/html": [
              " View run <strong style=\"color:#cdcd00\">fun->xavier</strong> at: <a href='https://wandb.ai/cs23m033_dl_assignment_1/dL_assignment_1/runs/d6hh7mx3' target=\"_blank\">https://wandb.ai/cs23m033_dl_assignment_1/dL_assignment_1/runs/d6hh7mx3</a><br/>Synced 5 W&B file(s), 0 media file(s), 0 artifact file(s) and 0 other file(s)"
            ]
          },
          "metadata": {}
        },
        {
          "output_type": "display_data",
          "data": {
            "text/plain": [
              "<IPython.core.display.HTML object>"
            ],
            "text/html": [
              "Find logs at: <code>./wandb/run-20240315_215307-d6hh7mx3/logs</code>"
            ]
          },
          "metadata": {}
        },
        {
          "output_type": "stream",
          "name": "stderr",
          "text": [
            "\u001b[34m\u001b[1mwandb\u001b[0m: Agent Starting Run: 2hz4tddx with config:\n",
            "\u001b[34m\u001b[1mwandb\u001b[0m: \teps: 1e-05\n",
            "\u001b[34m\u001b[1mwandb\u001b[0m: \teta: 0.001\n",
            "\u001b[34m\u001b[1mwandb\u001b[0m: \tmax_epochs: 10\n",
            "\u001b[34m\u001b[1mwandb\u001b[0m: \tmini_batch_size: 16\n",
            "\u001b[34m\u001b[1mwandb\u001b[0m: \tname_of_activation: ReLU\n",
            "\u001b[34m\u001b[1mwandb\u001b[0m: \tname_of_function: xavier\n",
            "\u001b[34m\u001b[1mwandb\u001b[0m: \tname_of_loss_function: cross entropy\n",
            "\u001b[34m\u001b[1mwandb\u001b[0m: \tname_of_optimizer: rmsprop\n",
            "\u001b[34m\u001b[1mwandb\u001b[0m: \tno_neurons_per_layer: 64\n",
            "\u001b[34m\u001b[1mwandb\u001b[0m: \tno_of_layers: 5\n",
            "\u001b[34m\u001b[1mwandb\u001b[0m: \tweight_decay: 0.0005\n",
            "\u001b[34m\u001b[1mwandb\u001b[0m: \u001b[33mWARNING\u001b[0m Ignored wandb.init() arg project when running a sweep.\n"
          ]
        },
        {
          "output_type": "display_data",
          "data": {
            "text/plain": [
              "<IPython.core.display.HTML object>"
            ],
            "text/html": [
              "Tracking run with wandb version 0.16.4"
            ]
          },
          "metadata": {}
        },
        {
          "output_type": "display_data",
          "data": {
            "text/plain": [
              "<IPython.core.display.HTML object>"
            ],
            "text/html": [
              "Run data is saved locally in <code>/content/wandb/run-20240315_220043-2hz4tddx</code>"
            ]
          },
          "metadata": {}
        },
        {
          "output_type": "display_data",
          "data": {
            "text/plain": [
              "<IPython.core.display.HTML object>"
            ],
            "text/html": [
              "Syncing run <strong><a href='https://wandb.ai/cs23m033_dl_assignment_1/dL_assignment_1/runs/2hz4tddx' target=\"_blank\">avid-sweep-4</a></strong> to <a href='https://wandb.ai/cs23m033_dl_assignment_1/dL_assignment_1' target=\"_blank\">Weights & Biases</a> (<a href='https://wandb.me/run' target=\"_blank\">docs</a>)<br/>Sweep page: <a href='https://wandb.ai/cs23m033_dl_assignment_1/dL_assignment_1/sweeps/l49mdn8a' target=\"_blank\">https://wandb.ai/cs23m033_dl_assignment_1/dL_assignment_1/sweeps/l49mdn8a</a>"
            ]
          },
          "metadata": {}
        },
        {
          "output_type": "display_data",
          "data": {
            "text/plain": [
              "<IPython.core.display.HTML object>"
            ],
            "text/html": [
              " View project at <a href='https://wandb.ai/cs23m033_dl_assignment_1/dL_assignment_1' target=\"_blank\">https://wandb.ai/cs23m033_dl_assignment_1/dL_assignment_1</a>"
            ]
          },
          "metadata": {}
        },
        {
          "output_type": "display_data",
          "data": {
            "text/plain": [
              "<IPython.core.display.HTML object>"
            ],
            "text/html": [
              " View sweep at <a href='https://wandb.ai/cs23m033_dl_assignment_1/dL_assignment_1/sweeps/l49mdn8a' target=\"_blank\">https://wandb.ai/cs23m033_dl_assignment_1/dL_assignment_1/sweeps/l49mdn8a</a>"
            ]
          },
          "metadata": {}
        },
        {
          "output_type": "display_data",
          "data": {
            "text/plain": [
              "<IPython.core.display.HTML object>"
            ],
            "text/html": [
              " View run at <a href='https://wandb.ai/cs23m033_dl_assignment_1/dL_assignment_1/runs/2hz4tddx' target=\"_blank\">https://wandb.ai/cs23m033_dl_assignment_1/dL_assignment_1/runs/2hz4tddx</a>"
            ]
          },
          "metadata": {}
        },
        {
          "output_type": "stream",
          "name": "stderr",
          "text": [
            "\u001b[34m\u001b[1mwandb\u001b[0m: \u001b[33mWARNING\u001b[0m Ignored wandb.init() arg project when running a sweep.\n"
          ]
        },
        {
          "output_type": "display_data",
          "data": {
            "text/plain": [
              "<IPython.core.display.HTML object>"
            ],
            "text/html": [
              "Finishing last run (ID:2hz4tddx) before initializing another..."
            ]
          },
          "metadata": {}
        },
        {
          "output_type": "display_data",
          "data": {
            "text/plain": [
              "VBox(children=(Label(value='0.001 MB of 0.001 MB uploaded\\r'), FloatProgress(value=1.0, max=1.0)))"
            ],
            "application/vnd.jupyter.widget-view+json": {
              "version_major": 2,
              "version_minor": 0,
              "model_id": "5a0c39b1a3e64d2ca57bb08659ca0585"
            }
          },
          "metadata": {}
        },
        {
          "output_type": "display_data",
          "data": {
            "text/plain": [
              "<IPython.core.display.HTML object>"
            ],
            "text/html": [
              " View run <strong style=\"color:#cdcd00\">avid-sweep-4</strong> at: <a href='https://wandb.ai/cs23m033_dl_assignment_1/dL_assignment_1/runs/2hz4tddx' target=\"_blank\">https://wandb.ai/cs23m033_dl_assignment_1/dL_assignment_1/runs/2hz4tddx</a><br/>Synced 5 W&B file(s), 0 media file(s), 0 artifact file(s) and 0 other file(s)"
            ]
          },
          "metadata": {}
        },
        {
          "output_type": "display_data",
          "data": {
            "text/plain": [
              "<IPython.core.display.HTML object>"
            ],
            "text/html": [
              "Find logs at: <code>./wandb/run-20240315_220043-2hz4tddx/logs</code>"
            ]
          },
          "metadata": {}
        },
        {
          "output_type": "display_data",
          "data": {
            "text/plain": [
              "<IPython.core.display.HTML object>"
            ],
            "text/html": [
              "Successfully finished last run (ID:2hz4tddx). Initializing new run:<br/>"
            ]
          },
          "metadata": {}
        },
        {
          "output_type": "display_data",
          "data": {
            "text/plain": [
              "<IPython.core.display.HTML object>"
            ],
            "text/html": [
              "Tracking run with wandb version 0.16.4"
            ]
          },
          "metadata": {}
        },
        {
          "output_type": "display_data",
          "data": {
            "text/plain": [
              "<IPython.core.display.HTML object>"
            ],
            "text/html": [
              "Run data is saved locally in <code>/content/wandb/run-20240315_220046-2hz4tddx</code>"
            ]
          },
          "metadata": {}
        },
        {
          "output_type": "display_data",
          "data": {
            "text/plain": [
              "<IPython.core.display.HTML object>"
            ],
            "text/html": [
              "Syncing run <strong><a href='https://wandb.ai/cs23m033_dl_assignment_1/dL_assignment_1/runs/2hz4tddx' target=\"_blank\">fun->xavier</a></strong> to <a href='https://wandb.ai/cs23m033_dl_assignment_1/dL_assignment_1' target=\"_blank\">Weights & Biases</a> (<a href='https://wandb.me/run' target=\"_blank\">docs</a>)<br/>Sweep page: <a href='https://wandb.ai/cs23m033_dl_assignment_1/dL_assignment_1/sweeps/l49mdn8a' target=\"_blank\">https://wandb.ai/cs23m033_dl_assignment_1/dL_assignment_1/sweeps/l49mdn8a</a>"
            ]
          },
          "metadata": {}
        },
        {
          "output_type": "display_data",
          "data": {
            "text/plain": [
              "<IPython.core.display.HTML object>"
            ],
            "text/html": [
              " View project at <a href='https://wandb.ai/cs23m033_dl_assignment_1/dL_assignment_1' target=\"_blank\">https://wandb.ai/cs23m033_dl_assignment_1/dL_assignment_1</a>"
            ]
          },
          "metadata": {}
        },
        {
          "output_type": "display_data",
          "data": {
            "text/plain": [
              "<IPython.core.display.HTML object>"
            ],
            "text/html": [
              " View sweep at <a href='https://wandb.ai/cs23m033_dl_assignment_1/dL_assignment_1/sweeps/l49mdn8a' target=\"_blank\">https://wandb.ai/cs23m033_dl_assignment_1/dL_assignment_1/sweeps/l49mdn8a</a>"
            ]
          },
          "metadata": {}
        },
        {
          "output_type": "display_data",
          "data": {
            "text/plain": [
              "<IPython.core.display.HTML object>"
            ],
            "text/html": [
              " View run at <a href='https://wandb.ai/cs23m033_dl_assignment_1/dL_assignment_1/runs/2hz4tddx' target=\"_blank\">https://wandb.ai/cs23m033_dl_assignment_1/dL_assignment_1/runs/2hz4tddx</a>"
            ]
          },
          "metadata": {}
        },
        {
          "output_type": "stream",
          "name": "stdout",
          "text": [
            "training loss: 2.31155189527523,training accuracy: 10.083333333333332, validation accuracy: 9.25, validation loss: 2.3154381292873882\n",
            "training loss: 2.318516675728383,training accuracy: 10.016666666666667, validation accuracy: 9.85, validation loss: 2.320889022657278\n",
            "training loss: 2.3144143757288034,training accuracy: 10.016666666666667, validation accuracy: 9.85, validation loss: 2.3167685072305617\n",
            "training loss: 2.317609937464826,training accuracy: 10.083333333333332, validation accuracy: 9.25, validation loss: 2.3229090318859713\n",
            "training loss: 2.3192035879630377,training accuracy: 9.996296296296297, validation accuracy: 10.033333333333333, validation loss: 2.316941005803122\n",
            "training loss: 2.3139513201730573,training accuracy: 10.02962962962963, validation accuracy: 9.733333333333333, validation loss: 2.3143185840371556\n",
            "training loss: 2.3331161497237733,training accuracy: 10.016666666666667, validation accuracy: 9.85, validation loss: 2.3365990890637924\n",
            "training loss: 2.3159513609781763,training accuracy: 9.996296296296297, validation accuracy: 10.033333333333333, validation loss: 2.3189145520069783\n",
            "training loss: 2.3150712734230603,training accuracy: 9.996296296296297, validation accuracy: 10.033333333333333, validation loss: 2.3149889056776014\n",
            "training loss: 2.3177562924214903,training accuracy: 9.996296296296297, validation accuracy: 10.033333333333333, validation loss: 2.3210210718751454\n"
          ]
        },
        {
          "output_type": "display_data",
          "data": {
            "text/plain": [
              "VBox(children=(Label(value='0.001 MB of 0.010 MB uploaded\\r'), FloatProgress(value=0.10350535540408957, max=1.…"
            ],
            "application/vnd.jupyter.widget-view+json": {
              "version_major": 2,
              "version_minor": 0,
              "model_id": "de64235e0c874bc5915a64de46b32434"
            }
          },
          "metadata": {}
        },
        {
          "output_type": "display_data",
          "data": {
            "text/plain": [
              "<IPython.core.display.HTML object>"
            ],
            "text/html": [
              "<style>\n",
              "    table.wandb td:nth-child(1) { padding: 0 10px; text-align: left ; width: auto;} td:nth-child(2) {text-align: left ; width: 100%}\n",
              "    .wandb-row { display: flex; flex-direction: row; flex-wrap: wrap; justify-content: flex-start; width: 100% }\n",
              "    .wandb-col { display: flex; flex-direction: column; flex-basis: 100%; flex: 1; padding: 10px; }\n",
              "    </style>\n",
              "<div class=\"wandb-row\"><div class=\"wandb-col\"><h3>Run history:</h3><br/><table class=\"wandb\"><tr><td>train_accuracy</td><td>█▃▃█▁▄▃▁▁▁</td></tr><tr><td>train_loss</td><td>▁▃▂▃▃▂█▂▂▃</td></tr><tr><td>valid_accuracy</td><td>▁▆▆▁█▅▆███</td></tr><tr><td>valid_loss</td><td>▁▃▂▄▂▁█▂▁▃</td></tr></table><br/></div><div class=\"wandb-col\"><h3>Run summary:</h3><br/><table class=\"wandb\"><tr><td>train_accuracy</td><td>9.9963</td></tr><tr><td>train_loss</td><td>2.31776</td></tr><tr><td>valid_accuracy</td><td>10.03333</td></tr><tr><td>valid_loss</td><td>2.32102</td></tr></table><br/></div></div>"
            ]
          },
          "metadata": {}
        },
        {
          "output_type": "display_data",
          "data": {
            "text/plain": [
              "<IPython.core.display.HTML object>"
            ],
            "text/html": [
              " View run <strong style=\"color:#cdcd00\">fun->xavier</strong> at: <a href='https://wandb.ai/cs23m033_dl_assignment_1/dL_assignment_1/runs/2hz4tddx' target=\"_blank\">https://wandb.ai/cs23m033_dl_assignment_1/dL_assignment_1/runs/2hz4tddx</a><br/>Synced 5 W&B file(s), 0 media file(s), 0 artifact file(s) and 0 other file(s)"
            ]
          },
          "metadata": {}
        },
        {
          "output_type": "display_data",
          "data": {
            "text/plain": [
              "<IPython.core.display.HTML object>"
            ],
            "text/html": [
              "Find logs at: <code>./wandb/run-20240315_220046-2hz4tddx/logs</code>"
            ]
          },
          "metadata": {}
        },
        {
          "output_type": "stream",
          "name": "stderr",
          "text": [
            "\u001b[34m\u001b[1mwandb\u001b[0m: Agent Starting Run: mlqeum22 with config:\n",
            "\u001b[34m\u001b[1mwandb\u001b[0m: \teps: 1e-05\n",
            "\u001b[34m\u001b[1mwandb\u001b[0m: \teta: 0.0001\n",
            "\u001b[34m\u001b[1mwandb\u001b[0m: \tmax_epochs: 10\n",
            "\u001b[34m\u001b[1mwandb\u001b[0m: \tmini_batch_size: 32\n",
            "\u001b[34m\u001b[1mwandb\u001b[0m: \tname_of_activation: ReLU\n",
            "\u001b[34m\u001b[1mwandb\u001b[0m: \tname_of_function: xavier\n",
            "\u001b[34m\u001b[1mwandb\u001b[0m: \tname_of_loss_function: cross entropy\n",
            "\u001b[34m\u001b[1mwandb\u001b[0m: \tname_of_optimizer: nadam\n",
            "\u001b[34m\u001b[1mwandb\u001b[0m: \tno_neurons_per_layer: 32\n",
            "\u001b[34m\u001b[1mwandb\u001b[0m: \tno_of_layers: 4\n",
            "\u001b[34m\u001b[1mwandb\u001b[0m: \tweight_decay: 0.0005\n",
            "\u001b[34m\u001b[1mwandb\u001b[0m: \u001b[33mWARNING\u001b[0m Ignored wandb.init() arg project when running a sweep.\n"
          ]
        },
        {
          "output_type": "display_data",
          "data": {
            "text/plain": [
              "<IPython.core.display.HTML object>"
            ],
            "text/html": [
              "Tracking run with wandb version 0.16.4"
            ]
          },
          "metadata": {}
        },
        {
          "output_type": "display_data",
          "data": {
            "text/plain": [
              "<IPython.core.display.HTML object>"
            ],
            "text/html": [
              "Run data is saved locally in <code>/content/wandb/run-20240315_222929-mlqeum22</code>"
            ]
          },
          "metadata": {}
        },
        {
          "output_type": "display_data",
          "data": {
            "text/plain": [
              "<IPython.core.display.HTML object>"
            ],
            "text/html": [
              "Syncing run <strong><a href='https://wandb.ai/cs23m033_dl_assignment_1/dL_assignment_1/runs/mlqeum22' target=\"_blank\">misunderstood-sweep-5</a></strong> to <a href='https://wandb.ai/cs23m033_dl_assignment_1/dL_assignment_1' target=\"_blank\">Weights & Biases</a> (<a href='https://wandb.me/run' target=\"_blank\">docs</a>)<br/>Sweep page: <a href='https://wandb.ai/cs23m033_dl_assignment_1/dL_assignment_1/sweeps/l49mdn8a' target=\"_blank\">https://wandb.ai/cs23m033_dl_assignment_1/dL_assignment_1/sweeps/l49mdn8a</a>"
            ]
          },
          "metadata": {}
        },
        {
          "output_type": "display_data",
          "data": {
            "text/plain": [
              "<IPython.core.display.HTML object>"
            ],
            "text/html": [
              " View project at <a href='https://wandb.ai/cs23m033_dl_assignment_1/dL_assignment_1' target=\"_blank\">https://wandb.ai/cs23m033_dl_assignment_1/dL_assignment_1</a>"
            ]
          },
          "metadata": {}
        },
        {
          "output_type": "display_data",
          "data": {
            "text/plain": [
              "<IPython.core.display.HTML object>"
            ],
            "text/html": [
              " View sweep at <a href='https://wandb.ai/cs23m033_dl_assignment_1/dL_assignment_1/sweeps/l49mdn8a' target=\"_blank\">https://wandb.ai/cs23m033_dl_assignment_1/dL_assignment_1/sweeps/l49mdn8a</a>"
            ]
          },
          "metadata": {}
        },
        {
          "output_type": "display_data",
          "data": {
            "text/plain": [
              "<IPython.core.display.HTML object>"
            ],
            "text/html": [
              " View run at <a href='https://wandb.ai/cs23m033_dl_assignment_1/dL_assignment_1/runs/mlqeum22' target=\"_blank\">https://wandb.ai/cs23m033_dl_assignment_1/dL_assignment_1/runs/mlqeum22</a>"
            ]
          },
          "metadata": {}
        },
        {
          "output_type": "stream",
          "name": "stderr",
          "text": [
            "\u001b[34m\u001b[1mwandb\u001b[0m: \u001b[33mWARNING\u001b[0m Ignored wandb.init() arg project when running a sweep.\n"
          ]
        },
        {
          "output_type": "display_data",
          "data": {
            "text/plain": [
              "<IPython.core.display.HTML object>"
            ],
            "text/html": [
              "Finishing last run (ID:mlqeum22) before initializing another..."
            ]
          },
          "metadata": {}
        },
        {
          "output_type": "display_data",
          "data": {
            "text/plain": [
              "VBox(children=(Label(value='0.001 MB of 0.001 MB uploaded\\r'), FloatProgress(value=1.0, max=1.0)))"
            ],
            "application/vnd.jupyter.widget-view+json": {
              "version_major": 2,
              "version_minor": 0,
              "model_id": "6ba0ae51b0074d45aea4d82c345fe20e"
            }
          },
          "metadata": {}
        },
        {
          "output_type": "display_data",
          "data": {
            "text/plain": [
              "<IPython.core.display.HTML object>"
            ],
            "text/html": [
              " View run <strong style=\"color:#cdcd00\">misunderstood-sweep-5</strong> at: <a href='https://wandb.ai/cs23m033_dl_assignment_1/dL_assignment_1/runs/mlqeum22' target=\"_blank\">https://wandb.ai/cs23m033_dl_assignment_1/dL_assignment_1/runs/mlqeum22</a><br/>Synced 5 W&B file(s), 0 media file(s), 0 artifact file(s) and 0 other file(s)"
            ]
          },
          "metadata": {}
        },
        {
          "output_type": "display_data",
          "data": {
            "text/plain": [
              "<IPython.core.display.HTML object>"
            ],
            "text/html": [
              "Find logs at: <code>./wandb/run-20240315_222929-mlqeum22/logs</code>"
            ]
          },
          "metadata": {}
        },
        {
          "output_type": "display_data",
          "data": {
            "text/plain": [
              "<IPython.core.display.HTML object>"
            ],
            "text/html": [
              "Successfully finished last run (ID:mlqeum22). Initializing new run:<br/>"
            ]
          },
          "metadata": {}
        },
        {
          "output_type": "display_data",
          "data": {
            "text/plain": [
              "<IPython.core.display.HTML object>"
            ],
            "text/html": [
              "Tracking run with wandb version 0.16.4"
            ]
          },
          "metadata": {}
        },
        {
          "output_type": "display_data",
          "data": {
            "text/plain": [
              "<IPython.core.display.HTML object>"
            ],
            "text/html": [
              "Run data is saved locally in <code>/content/wandb/run-20240315_222932-mlqeum22</code>"
            ]
          },
          "metadata": {}
        },
        {
          "output_type": "display_data",
          "data": {
            "text/plain": [
              "<IPython.core.display.HTML object>"
            ],
            "text/html": [
              "Syncing run <strong><a href='https://wandb.ai/cs23m033_dl_assignment_1/dL_assignment_1/runs/mlqeum22' target=\"_blank\">fun->xavier</a></strong> to <a href='https://wandb.ai/cs23m033_dl_assignment_1/dL_assignment_1' target=\"_blank\">Weights & Biases</a> (<a href='https://wandb.me/run' target=\"_blank\">docs</a>)<br/>Sweep page: <a href='https://wandb.ai/cs23m033_dl_assignment_1/dL_assignment_1/sweeps/l49mdn8a' target=\"_blank\">https://wandb.ai/cs23m033_dl_assignment_1/dL_assignment_1/sweeps/l49mdn8a</a>"
            ]
          },
          "metadata": {}
        },
        {
          "output_type": "display_data",
          "data": {
            "text/plain": [
              "<IPython.core.display.HTML object>"
            ],
            "text/html": [
              " View project at <a href='https://wandb.ai/cs23m033_dl_assignment_1/dL_assignment_1' target=\"_blank\">https://wandb.ai/cs23m033_dl_assignment_1/dL_assignment_1</a>"
            ]
          },
          "metadata": {}
        },
        {
          "output_type": "display_data",
          "data": {
            "text/plain": [
              "<IPython.core.display.HTML object>"
            ],
            "text/html": [
              " View sweep at <a href='https://wandb.ai/cs23m033_dl_assignment_1/dL_assignment_1/sweeps/l49mdn8a' target=\"_blank\">https://wandb.ai/cs23m033_dl_assignment_1/dL_assignment_1/sweeps/l49mdn8a</a>"
            ]
          },
          "metadata": {}
        },
        {
          "output_type": "display_data",
          "data": {
            "text/plain": [
              "<IPython.core.display.HTML object>"
            ],
            "text/html": [
              " View run at <a href='https://wandb.ai/cs23m033_dl_assignment_1/dL_assignment_1/runs/mlqeum22' target=\"_blank\">https://wandb.ai/cs23m033_dl_assignment_1/dL_assignment_1/runs/mlqeum22</a>"
            ]
          },
          "metadata": {}
        },
        {
          "output_type": "stream",
          "name": "stdout",
          "text": [
            "training loss: 2.3043124501539753,training accuracy: 9.944444444444445, validation accuracy: 10.5, validation loss: 2.3033778757810226\n",
            "training loss: 2.3032609013605367,training accuracy: 10.064814814814815, validation accuracy: 9.416666666666666, validation loss: 2.3042295997031195\n",
            "training loss: 2.303479868411754,training accuracy: 9.944444444444445, validation accuracy: 10.5, validation loss: 2.302922483526487\n",
            "training loss: 2.3033636579626453,training accuracy: 10.064814814814815, validation accuracy: 9.416666666666666, validation loss: 2.304327663571716\n",
            "training loss: 2.3037032892795772,training accuracy: 9.944444444444445, validation accuracy: 10.5, validation loss: 2.3029033389256464\n",
            "training loss: 2.3031416930870927,training accuracy: 9.938888888888888, validation accuracy: 10.549999999999999, validation loss: 2.3034672099045372\n",
            "training loss: 2.3033654469420832,training accuracy: 9.944444444444445, validation accuracy: 10.5, validation loss: 2.302852993938623\n",
            "training loss: 2.303042635942379,training accuracy: 10.083333333333332, validation accuracy: 9.25, validation loss: 2.3034159943181067\n",
            "training loss: 2.303437947700655,training accuracy: 9.944444444444445, validation accuracy: 10.5, validation loss: 2.302920625999545\n",
            "training loss: 2.3029464470993193,training accuracy: 10.083333333333332, validation accuracy: 9.25, validation loss: 2.303074421410871\n"
          ]
        },
        {
          "output_type": "display_data",
          "data": {
            "text/plain": [
              "VBox(children=(Label(value='0.001 MB of 0.001 MB uploaded\\r'), FloatProgress(value=1.0, max=1.0)))"
            ],
            "application/vnd.jupyter.widget-view+json": {
              "version_major": 2,
              "version_minor": 0,
              "model_id": "113c14d5258140ee891298787d76935d"
            }
          },
          "metadata": {}
        },
        {
          "output_type": "display_data",
          "data": {
            "text/plain": [
              "<IPython.core.display.HTML object>"
            ],
            "text/html": [
              "<style>\n",
              "    table.wandb td:nth-child(1) { padding: 0 10px; text-align: left ; width: auto;} td:nth-child(2) {text-align: left ; width: 100%}\n",
              "    .wandb-row { display: flex; flex-direction: row; flex-wrap: wrap; justify-content: flex-start; width: 100% }\n",
              "    .wandb-col { display: flex; flex-direction: column; flex-basis: 100%; flex: 1; padding: 10px; }\n",
              "    </style>\n",
              "<div class=\"wandb-row\"><div class=\"wandb-col\"><h3>Run history:</h3><br/><table class=\"wandb\"><tr><td>train_accuracy</td><td>▁▇▁▇▁▁▁█▁█</td></tr><tr><td>train_loss</td><td>█▃▄▃▅▂▃▁▄▁</td></tr><tr><td>valid_accuracy</td><td>█▂█▂███▁█▁</td></tr><tr><td>valid_loss</td><td>▃█▁█▁▄▁▄▁▂</td></tr></table><br/></div><div class=\"wandb-col\"><h3>Run summary:</h3><br/><table class=\"wandb\"><tr><td>train_accuracy</td><td>10.08333</td></tr><tr><td>train_loss</td><td>2.30295</td></tr><tr><td>valid_accuracy</td><td>9.25</td></tr><tr><td>valid_loss</td><td>2.30307</td></tr></table><br/></div></div>"
            ]
          },
          "metadata": {}
        },
        {
          "output_type": "display_data",
          "data": {
            "text/plain": [
              "<IPython.core.display.HTML object>"
            ],
            "text/html": [
              " View run <strong style=\"color:#cdcd00\">fun->xavier</strong> at: <a href='https://wandb.ai/cs23m033_dl_assignment_1/dL_assignment_1/runs/mlqeum22' target=\"_blank\">https://wandb.ai/cs23m033_dl_assignment_1/dL_assignment_1/runs/mlqeum22</a><br/>Synced 5 W&B file(s), 0 media file(s), 0 artifact file(s) and 0 other file(s)"
            ]
          },
          "metadata": {}
        },
        {
          "output_type": "display_data",
          "data": {
            "text/plain": [
              "<IPython.core.display.HTML object>"
            ],
            "text/html": [
              "Find logs at: <code>./wandb/run-20240315_222932-mlqeum22/logs</code>"
            ]
          },
          "metadata": {}
        },
        {
          "output_type": "stream",
          "name": "stdout",
          "text": [
            "Error in callback <bound method _WandbInit._pause_backend of <wandb.sdk.wandb_init._WandbInit object at 0x7fc13be63730>> (for post_run_cell):\n"
          ]
        },
        {
          "output_type": "error",
          "ename": "BrokenPipeError",
          "evalue": "[Errno 32] Broken pipe",
          "traceback": [
            "\u001b[0;31m---------------------------------------------------------------------------\u001b[0m",
            "\u001b[0;31mBrokenPipeError\u001b[0m                           Traceback (most recent call last)",
            "\u001b[0;32m/usr/local/lib/python3.10/dist-packages/wandb/sdk/wandb_init.py\u001b[0m in \u001b[0;36m_pause_backend\u001b[0;34m(self, *args, **kwargs)\u001b[0m\n\u001b[1;32m    436\u001b[0m         \u001b[0;32mif\u001b[0m \u001b[0mself\u001b[0m\u001b[0;34m.\u001b[0m\u001b[0mbackend\u001b[0m\u001b[0;34m.\u001b[0m\u001b[0minterface\u001b[0m \u001b[0;32mis\u001b[0m \u001b[0;32mnot\u001b[0m \u001b[0;32mNone\u001b[0m\u001b[0;34m:\u001b[0m\u001b[0;34m\u001b[0m\u001b[0;34m\u001b[0m\u001b[0m\n\u001b[1;32m    437\u001b[0m             \u001b[0mlogger\u001b[0m\u001b[0;34m.\u001b[0m\u001b[0minfo\u001b[0m\u001b[0;34m(\u001b[0m\u001b[0;34m\"pausing backend\"\u001b[0m\u001b[0;34m)\u001b[0m  \u001b[0;31m# type: ignore\u001b[0m\u001b[0;34m\u001b[0m\u001b[0;34m\u001b[0m\u001b[0m\n\u001b[0;32m--> 438\u001b[0;31m             \u001b[0mself\u001b[0m\u001b[0;34m.\u001b[0m\u001b[0mbackend\u001b[0m\u001b[0;34m.\u001b[0m\u001b[0minterface\u001b[0m\u001b[0;34m.\u001b[0m\u001b[0mpublish_pause\u001b[0m\u001b[0;34m(\u001b[0m\u001b[0;34m)\u001b[0m\u001b[0;34m\u001b[0m\u001b[0;34m\u001b[0m\u001b[0m\n\u001b[0m\u001b[1;32m    439\u001b[0m \u001b[0;34m\u001b[0m\u001b[0m\n\u001b[1;32m    440\u001b[0m     \u001b[0;32mdef\u001b[0m \u001b[0m_resume_backend\u001b[0m\u001b[0;34m(\u001b[0m\u001b[0mself\u001b[0m\u001b[0;34m,\u001b[0m \u001b[0;34m*\u001b[0m\u001b[0margs\u001b[0m\u001b[0;34m:\u001b[0m \u001b[0mAny\u001b[0m\u001b[0;34m,\u001b[0m \u001b[0;34m**\u001b[0m\u001b[0mkwargs\u001b[0m\u001b[0;34m:\u001b[0m \u001b[0mAny\u001b[0m\u001b[0;34m)\u001b[0m \u001b[0;34m->\u001b[0m \u001b[0;32mNone\u001b[0m\u001b[0;34m:\u001b[0m  \u001b[0;31m#  noqa\u001b[0m\u001b[0;34m\u001b[0m\u001b[0;34m\u001b[0m\u001b[0m\n",
            "\u001b[0;32m/usr/local/lib/python3.10/dist-packages/wandb/sdk/interface/interface.py\u001b[0m in \u001b[0;36mpublish_pause\u001b[0;34m(self)\u001b[0m\n\u001b[1;32m    657\u001b[0m     \u001b[0;32mdef\u001b[0m \u001b[0mpublish_pause\u001b[0m\u001b[0;34m(\u001b[0m\u001b[0mself\u001b[0m\u001b[0;34m)\u001b[0m \u001b[0;34m->\u001b[0m \u001b[0;32mNone\u001b[0m\u001b[0;34m:\u001b[0m\u001b[0;34m\u001b[0m\u001b[0;34m\u001b[0m\u001b[0m\n\u001b[1;32m    658\u001b[0m         \u001b[0mpause\u001b[0m \u001b[0;34m=\u001b[0m \u001b[0mpb\u001b[0m\u001b[0;34m.\u001b[0m\u001b[0mPauseRequest\u001b[0m\u001b[0;34m(\u001b[0m\u001b[0;34m)\u001b[0m\u001b[0;34m\u001b[0m\u001b[0;34m\u001b[0m\u001b[0m\n\u001b[0;32m--> 659\u001b[0;31m         \u001b[0mself\u001b[0m\u001b[0;34m.\u001b[0m\u001b[0m_publish_pause\u001b[0m\u001b[0;34m(\u001b[0m\u001b[0mpause\u001b[0m\u001b[0;34m)\u001b[0m\u001b[0;34m\u001b[0m\u001b[0;34m\u001b[0m\u001b[0m\n\u001b[0m\u001b[1;32m    660\u001b[0m \u001b[0;34m\u001b[0m\u001b[0m\n\u001b[1;32m    661\u001b[0m     \u001b[0;34m@\u001b[0m\u001b[0mabstractmethod\u001b[0m\u001b[0;34m\u001b[0m\u001b[0;34m\u001b[0m\u001b[0m\n",
            "\u001b[0;32m/usr/local/lib/python3.10/dist-packages/wandb/sdk/interface/interface_shared.py\u001b[0m in \u001b[0;36m_publish_pause\u001b[0;34m(self, pause)\u001b[0m\n\u001b[1;32m    353\u001b[0m     \u001b[0;32mdef\u001b[0m \u001b[0m_publish_pause\u001b[0m\u001b[0;34m(\u001b[0m\u001b[0mself\u001b[0m\u001b[0;34m,\u001b[0m \u001b[0mpause\u001b[0m\u001b[0;34m:\u001b[0m \u001b[0mpb\u001b[0m\u001b[0;34m.\u001b[0m\u001b[0mPauseRequest\u001b[0m\u001b[0;34m)\u001b[0m \u001b[0;34m->\u001b[0m \u001b[0;32mNone\u001b[0m\u001b[0;34m:\u001b[0m\u001b[0;34m\u001b[0m\u001b[0;34m\u001b[0m\u001b[0m\n\u001b[1;32m    354\u001b[0m         \u001b[0mrec\u001b[0m \u001b[0;34m=\u001b[0m \u001b[0mself\u001b[0m\u001b[0;34m.\u001b[0m\u001b[0m_make_request\u001b[0m\u001b[0;34m(\u001b[0m\u001b[0mpause\u001b[0m\u001b[0;34m=\u001b[0m\u001b[0mpause\u001b[0m\u001b[0;34m)\u001b[0m\u001b[0;34m\u001b[0m\u001b[0;34m\u001b[0m\u001b[0m\n\u001b[0;32m--> 355\u001b[0;31m         \u001b[0mself\u001b[0m\u001b[0;34m.\u001b[0m\u001b[0m_publish\u001b[0m\u001b[0;34m(\u001b[0m\u001b[0mrec\u001b[0m\u001b[0;34m)\u001b[0m\u001b[0;34m\u001b[0m\u001b[0;34m\u001b[0m\u001b[0m\n\u001b[0m\u001b[1;32m    356\u001b[0m \u001b[0;34m\u001b[0m\u001b[0m\n\u001b[1;32m    357\u001b[0m     \u001b[0;32mdef\u001b[0m \u001b[0m_publish_resume\u001b[0m\u001b[0;34m(\u001b[0m\u001b[0mself\u001b[0m\u001b[0;34m,\u001b[0m \u001b[0mresume\u001b[0m\u001b[0;34m:\u001b[0m \u001b[0mpb\u001b[0m\u001b[0;34m.\u001b[0m\u001b[0mResumeRequest\u001b[0m\u001b[0;34m)\u001b[0m \u001b[0;34m->\u001b[0m \u001b[0;32mNone\u001b[0m\u001b[0;34m:\u001b[0m\u001b[0;34m\u001b[0m\u001b[0;34m\u001b[0m\u001b[0m\n",
            "\u001b[0;32m/usr/local/lib/python3.10/dist-packages/wandb/sdk/interface/interface_sock.py\u001b[0m in \u001b[0;36m_publish\u001b[0;34m(self, record, local)\u001b[0m\n\u001b[1;32m     49\u001b[0m     \u001b[0;32mdef\u001b[0m \u001b[0m_publish\u001b[0m\u001b[0;34m(\u001b[0m\u001b[0mself\u001b[0m\u001b[0;34m,\u001b[0m \u001b[0mrecord\u001b[0m\u001b[0;34m:\u001b[0m \u001b[0;34m\"pb.Record\"\u001b[0m\u001b[0;34m,\u001b[0m \u001b[0mlocal\u001b[0m\u001b[0;34m:\u001b[0m \u001b[0mOptional\u001b[0m\u001b[0;34m[\u001b[0m\u001b[0mbool\u001b[0m\u001b[0;34m]\u001b[0m \u001b[0;34m=\u001b[0m \u001b[0;32mNone\u001b[0m\u001b[0;34m)\u001b[0m \u001b[0;34m->\u001b[0m \u001b[0;32mNone\u001b[0m\u001b[0;34m:\u001b[0m\u001b[0;34m\u001b[0m\u001b[0;34m\u001b[0m\u001b[0m\n\u001b[1;32m     50\u001b[0m         \u001b[0mself\u001b[0m\u001b[0;34m.\u001b[0m\u001b[0m_assign\u001b[0m\u001b[0;34m(\u001b[0m\u001b[0mrecord\u001b[0m\u001b[0;34m)\u001b[0m\u001b[0;34m\u001b[0m\u001b[0;34m\u001b[0m\u001b[0m\n\u001b[0;32m---> 51\u001b[0;31m         \u001b[0mself\u001b[0m\u001b[0;34m.\u001b[0m\u001b[0m_sock_client\u001b[0m\u001b[0;34m.\u001b[0m\u001b[0msend_record_publish\u001b[0m\u001b[0;34m(\u001b[0m\u001b[0mrecord\u001b[0m\u001b[0;34m)\u001b[0m\u001b[0;34m\u001b[0m\u001b[0;34m\u001b[0m\u001b[0m\n\u001b[0m\u001b[1;32m     52\u001b[0m \u001b[0;34m\u001b[0m\u001b[0m\n\u001b[1;32m     53\u001b[0m     def _communicate_async(\n",
            "\u001b[0;32m/usr/local/lib/python3.10/dist-packages/wandb/sdk/lib/sock_client.py\u001b[0m in \u001b[0;36msend_record_publish\u001b[0;34m(self, record)\u001b[0m\n\u001b[1;32m    219\u001b[0m         \u001b[0mserver_req\u001b[0m \u001b[0;34m=\u001b[0m \u001b[0mspb\u001b[0m\u001b[0;34m.\u001b[0m\u001b[0mServerRequest\u001b[0m\u001b[0;34m(\u001b[0m\u001b[0;34m)\u001b[0m\u001b[0;34m\u001b[0m\u001b[0;34m\u001b[0m\u001b[0m\n\u001b[1;32m    220\u001b[0m         \u001b[0mserver_req\u001b[0m\u001b[0;34m.\u001b[0m\u001b[0mrecord_publish\u001b[0m\u001b[0;34m.\u001b[0m\u001b[0mCopyFrom\u001b[0m\u001b[0;34m(\u001b[0m\u001b[0mrecord\u001b[0m\u001b[0;34m)\u001b[0m\u001b[0;34m\u001b[0m\u001b[0;34m\u001b[0m\u001b[0m\n\u001b[0;32m--> 221\u001b[0;31m         \u001b[0mself\u001b[0m\u001b[0;34m.\u001b[0m\u001b[0msend_server_request\u001b[0m\u001b[0;34m(\u001b[0m\u001b[0mserver_req\u001b[0m\u001b[0;34m)\u001b[0m\u001b[0;34m\u001b[0m\u001b[0;34m\u001b[0m\u001b[0m\n\u001b[0m\u001b[1;32m    222\u001b[0m \u001b[0;34m\u001b[0m\u001b[0m\n\u001b[1;32m    223\u001b[0m     \u001b[0;32mdef\u001b[0m \u001b[0m_extract_packet_bytes\u001b[0m\u001b[0;34m(\u001b[0m\u001b[0mself\u001b[0m\u001b[0;34m)\u001b[0m \u001b[0;34m->\u001b[0m \u001b[0mOptional\u001b[0m\u001b[0;34m[\u001b[0m\u001b[0mbytes\u001b[0m\u001b[0;34m]\u001b[0m\u001b[0;34m:\u001b[0m\u001b[0;34m\u001b[0m\u001b[0;34m\u001b[0m\u001b[0m\n",
            "\u001b[0;32m/usr/local/lib/python3.10/dist-packages/wandb/sdk/lib/sock_client.py\u001b[0m in \u001b[0;36msend_server_request\u001b[0;34m(self, msg)\u001b[0m\n\u001b[1;32m    153\u001b[0m \u001b[0;34m\u001b[0m\u001b[0m\n\u001b[1;32m    154\u001b[0m     \u001b[0;32mdef\u001b[0m \u001b[0msend_server_request\u001b[0m\u001b[0;34m(\u001b[0m\u001b[0mself\u001b[0m\u001b[0;34m,\u001b[0m \u001b[0mmsg\u001b[0m\u001b[0;34m:\u001b[0m \u001b[0mAny\u001b[0m\u001b[0;34m)\u001b[0m \u001b[0;34m->\u001b[0m \u001b[0;32mNone\u001b[0m\u001b[0;34m:\u001b[0m\u001b[0;34m\u001b[0m\u001b[0;34m\u001b[0m\u001b[0m\n\u001b[0;32m--> 155\u001b[0;31m         \u001b[0mself\u001b[0m\u001b[0;34m.\u001b[0m\u001b[0m_send_message\u001b[0m\u001b[0;34m(\u001b[0m\u001b[0mmsg\u001b[0m\u001b[0;34m)\u001b[0m\u001b[0;34m\u001b[0m\u001b[0;34m\u001b[0m\u001b[0m\n\u001b[0m\u001b[1;32m    156\u001b[0m \u001b[0;34m\u001b[0m\u001b[0m\n\u001b[1;32m    157\u001b[0m     \u001b[0;32mdef\u001b[0m \u001b[0msend_server_response\u001b[0m\u001b[0;34m(\u001b[0m\u001b[0mself\u001b[0m\u001b[0;34m,\u001b[0m \u001b[0mmsg\u001b[0m\u001b[0;34m:\u001b[0m \u001b[0mAny\u001b[0m\u001b[0;34m)\u001b[0m \u001b[0;34m->\u001b[0m \u001b[0;32mNone\u001b[0m\u001b[0;34m:\u001b[0m\u001b[0;34m\u001b[0m\u001b[0;34m\u001b[0m\u001b[0m\n",
            "\u001b[0;32m/usr/local/lib/python3.10/dist-packages/wandb/sdk/lib/sock_client.py\u001b[0m in \u001b[0;36m_send_message\u001b[0;34m(self, msg)\u001b[0m\n\u001b[1;32m    150\u001b[0m         \u001b[0mheader\u001b[0m \u001b[0;34m=\u001b[0m \u001b[0mstruct\u001b[0m\u001b[0;34m.\u001b[0m\u001b[0mpack\u001b[0m\u001b[0;34m(\u001b[0m\u001b[0;34m\"<BI\"\u001b[0m\u001b[0;34m,\u001b[0m \u001b[0mord\u001b[0m\u001b[0;34m(\u001b[0m\u001b[0;34m\"W\"\u001b[0m\u001b[0;34m)\u001b[0m\u001b[0;34m,\u001b[0m \u001b[0mraw_size\u001b[0m\u001b[0;34m)\u001b[0m\u001b[0;34m\u001b[0m\u001b[0;34m\u001b[0m\u001b[0m\n\u001b[1;32m    151\u001b[0m         \u001b[0;32mwith\u001b[0m \u001b[0mself\u001b[0m\u001b[0;34m.\u001b[0m\u001b[0m_lock\u001b[0m\u001b[0;34m:\u001b[0m\u001b[0;34m\u001b[0m\u001b[0;34m\u001b[0m\u001b[0m\n\u001b[0;32m--> 152\u001b[0;31m             \u001b[0mself\u001b[0m\u001b[0;34m.\u001b[0m\u001b[0m_sendall_with_error_handle\u001b[0m\u001b[0;34m(\u001b[0m\u001b[0mheader\u001b[0m \u001b[0;34m+\u001b[0m \u001b[0mdata\u001b[0m\u001b[0;34m)\u001b[0m\u001b[0;34m\u001b[0m\u001b[0;34m\u001b[0m\u001b[0m\n\u001b[0m\u001b[1;32m    153\u001b[0m \u001b[0;34m\u001b[0m\u001b[0m\n\u001b[1;32m    154\u001b[0m     \u001b[0;32mdef\u001b[0m \u001b[0msend_server_request\u001b[0m\u001b[0;34m(\u001b[0m\u001b[0mself\u001b[0m\u001b[0;34m,\u001b[0m \u001b[0mmsg\u001b[0m\u001b[0;34m:\u001b[0m \u001b[0mAny\u001b[0m\u001b[0;34m)\u001b[0m \u001b[0;34m->\u001b[0m \u001b[0;32mNone\u001b[0m\u001b[0;34m:\u001b[0m\u001b[0;34m\u001b[0m\u001b[0;34m\u001b[0m\u001b[0m\n",
            "\u001b[0;32m/usr/local/lib/python3.10/dist-packages/wandb/sdk/lib/sock_client.py\u001b[0m in \u001b[0;36m_sendall_with_error_handle\u001b[0;34m(self, data)\u001b[0m\n\u001b[1;32m    128\u001b[0m             \u001b[0mstart_time\u001b[0m \u001b[0;34m=\u001b[0m \u001b[0mtime\u001b[0m\u001b[0;34m.\u001b[0m\u001b[0mmonotonic\u001b[0m\u001b[0;34m(\u001b[0m\u001b[0;34m)\u001b[0m\u001b[0;34m\u001b[0m\u001b[0;34m\u001b[0m\u001b[0m\n\u001b[1;32m    129\u001b[0m             \u001b[0;32mtry\u001b[0m\u001b[0;34m:\u001b[0m\u001b[0;34m\u001b[0m\u001b[0;34m\u001b[0m\u001b[0m\n\u001b[0;32m--> 130\u001b[0;31m                 \u001b[0msent\u001b[0m \u001b[0;34m=\u001b[0m \u001b[0mself\u001b[0m\u001b[0;34m.\u001b[0m\u001b[0m_sock\u001b[0m\u001b[0;34m.\u001b[0m\u001b[0msend\u001b[0m\u001b[0;34m(\u001b[0m\u001b[0mdata\u001b[0m\u001b[0;34m)\u001b[0m\u001b[0;34m\u001b[0m\u001b[0;34m\u001b[0m\u001b[0m\n\u001b[0m\u001b[1;32m    131\u001b[0m                 \u001b[0;31m# sent equal to 0 indicates a closed socket\u001b[0m\u001b[0;34m\u001b[0m\u001b[0;34m\u001b[0m\u001b[0m\n\u001b[1;32m    132\u001b[0m                 \u001b[0;32mif\u001b[0m \u001b[0msent\u001b[0m \u001b[0;34m==\u001b[0m \u001b[0;36m0\u001b[0m\u001b[0;34m:\u001b[0m\u001b[0;34m\u001b[0m\u001b[0;34m\u001b[0m\u001b[0m\n",
            "\u001b[0;31mBrokenPipeError\u001b[0m: [Errno 32] Broken pipe"
          ]
        }
      ],
      "source": [
        "# def tanh_function(a_s):\n",
        "#   return (np.power(np.exp(a_s),2)-1)/(np.power(np.exp(a_s),2)+1)\n",
        "# def tanh_function_derivative(a_s):\n",
        "#   fx=tanh_function(a_s)\n",
        "#   return (1-np.power(fx,2))\n",
        "# def reLU_function(a_s):\n",
        "#   return np.maximum(0,a_s)\n",
        "# def reLU_function_derivative(a_s):\n",
        "#   fx=reLU_function(a_s)\n",
        "#   for i in range(len(fx)):\n",
        "#     if(fx[i]>0):\n",
        "#       fx[i]=1\n",
        "#     else: fx[i]=0\n",
        "#   return fx\n",
        "\n",
        "\n",
        "\n",
        "# name_of_loss_function=\"cross_entropy\"\n",
        "# name_of_optimization_function=\"sgd\"\n",
        "# name_of_weight_function=\"random\"\n",
        "# max_epochs=5\n",
        "# weight_decay_value=0.0005\n",
        "# batch_size_value=32\n",
        "# name_of_weight_function=\"sigmoid\"\n",
        "# eta=0.00001\n",
        "# beta=0.5\n",
        "# beta1=0.9\n",
        "# beta2=0.999\n",
        "# no_of_layers=3\n",
        "# no_of_neurons_at_each_layer=128\n",
        "# def initializing_w_and_b_function(no_of_layers,name_of_weight_function,no_of_neurons_at_each_layer):\n",
        "#   if(name_of_weight_function==\"random\"):\n",
        "#     initialize_w_and_b(no_of_layers,no_of_neurons_per_layer)\n",
        "#   if(name_of_weight_function==\"xavier\"):\n",
        "#     weight_intialization_Xavier(no_of_layers,no_of_neurons_per_layer)\n",
        "# def loss_function(h_s,w_s,b_s,images_to_train,labels_to_train,name_of_loss_function):\n",
        "#   # if(name_of_loss_function=\"cross_entropy\"):\n",
        "#   #   cross_entropy_loss_function(h_s,w_s,b_s,images_to_train,labels_to_train)\n",
        "#   # if(name_of_loss_function=\"mse\"):\n",
        "#   #   mean_squared_error(h_s,w_s,b_s,images_to_train,labels_to_train)\n",
        "# def activation_function(name_of_activation_function):\n",
        "#   # if(name_of_activation_function=\"sigmoid\"):\n",
        "#   #   sigmoid_function()\n",
        "#   # if(name_of_activation_function=\"tanh\"):\n",
        "#   #   tanh_function()\n",
        "#   # if(name_of_activation_function=\"ReLU\"):\n",
        "  #   reLU_function()\n",
        "!pip install wandb\n",
        "import matplotlib.pyplot as plt\n",
        "from keras.datasets import fashion_mnist,mnist\n",
        "import numpy as np\n",
        "import wandb\n",
        "from wandb.keras import WandbCallback\n",
        "import socket\n",
        "socket.setdefaulttimeout(30)  # Set timeout to 30 seconds (adjust as needed)\n",
        "wandb.login()\n",
        "wandb.init(project='dL_assignment_1')\n",
        "\n",
        "(images_to_train, labels_to_train), (test_images,test_labels) = fashion_mnist.load_data()\n",
        "images_to_train=images_to_train/255.0\n",
        "test_images=test_images/255.0\n",
        "\n",
        "\n",
        "def initialize_w_and_b_random(no_of_layers,no_neurons_per_layer):\n",
        "  W_s=[]\n",
        "  B_s=[]\n",
        "  W_s.append(np.random.randn(no_neurons_per_layer,784)*0.01)\n",
        "  B_s.append(np.random.randn(no_neurons_per_layer,1)*0.01)\n",
        "  for i in range(1,no_of_layers):\n",
        "    W_s.append(np.random.randn(no_neurons_per_layer,no_neurons_per_layer)*0.01)\n",
        "    B_s.append(np.random.randn(no_neurons_per_layer,1)*0.01)\n",
        "  W_s.append(np.random.randn(10,no_neurons_per_layer)*0.01)\n",
        "  B_s.append(np.random.randn(10,1)*0.01)\n",
        "  # print(W_s[0].shape,W_s[-1].shape)\n",
        "  # print(B_s[0].shape,B_s[-1].shape)\n",
        "  return W_s,B_s\n",
        "\n",
        "\n",
        "def weight_intialization_Xavier(no_of_layers,no_neurons_per_layer):\n",
        "  w_s_xavier=[]\n",
        "  b_s_xavier=[]\n",
        "  w_s_xavier.append(np.random.randn(no_neurons_per_layer,784)*0.01)\n",
        "  b_s_xavier.append(np.zeros((no_neurons_per_layer,1)))\n",
        "  for i in range(1,no_of_layers):\n",
        "    w_s_xavier.append(np.random.randn(no_neurons_per_layer,no_neurons_per_layer)*0.01)\n",
        "    b_s_xavier.append(np.zeros((no_neurons_per_layer,1)))\n",
        "  w_s_xavier.append(np.random.randn(10,no_neurons_per_layer)*0.01)\n",
        "  b_s_xavier.append(np.zeros((10,1)))\n",
        "  # print(w_s_xavier[i].shape for i in range(len(w_s_xavier)))\n",
        "  # print(b_s_xavier[i].shape for i in range(len(b_s_xavier)))\n",
        "  return w_s_xavier,b_s_xavier\n",
        "\n",
        "\n",
        "\n",
        "def intitalize_w_and_b(name_of_function,no_of_layers,no_neurons_per_layer):\n",
        "  if(name_of_function==\"random\"):\n",
        "    return initialize_w_and_b_random(no_of_layers,no_neurons_per_layer)\n",
        "  if(name_of_function==\"xavier\"):\n",
        "    return weight_intialization_Xavier(no_of_layers,no_neurons_per_layer)\n",
        "\n",
        "\n",
        "\n",
        "def find_loss(h_s,labelled_image,name_of_loss_function):\n",
        "  if(name_of_loss_function==\"cross entropy\"):\n",
        "    # return -np.log(h_s[np.argmax(labelled_image)])\n",
        "    # return -np.sum(labelled_image*np.log(h_s))\n",
        "    small_constant=1e-15\n",
        "    h_s=np.clip(h_s,small_constant,1-small_constant)\n",
        "    return -np.sum(labelled_image*np.log(h_s))\n",
        "  # if(name_of_loss_function==\"mse\"):\n",
        "\n",
        "\n",
        "def sigmoid_function(a_s):\n",
        "  # return np.exp(a_s)/(1+np.exp(a_s))\n",
        "  z_clipped=np.clip(a_s,-500,500)\n",
        "  return 1/(1+np.exp(-z_clipped))\n",
        "\n",
        "def tanh_function(a_s):\n",
        "  return (np.power(np.exp(a_s),2)-1)/(np.power(np.exp(a_s),2)+1)\n",
        "\n",
        "def reLU_function(a_s):\n",
        "  return np.maximum(0,a_s)\n",
        "\n",
        "\n",
        "\n",
        "def activation_function(a_s,name_of_activation):\n",
        "  if(name_of_activation==\"sigmoid\"):\n",
        "    return sigmoid_function(a_s)\n",
        "  if(name_of_activation==\"tanh\"):\n",
        "    return tanh_function(a_s)\n",
        "  if(name_of_activation==\"ReLU\"):\n",
        "    return reLU_function(a_s)\n",
        "\n",
        "def sigmoid_derivative(a_s):\n",
        "  fx=sigmoid_function(a_s)\n",
        "  return fx*(1-fx)\n",
        "\n",
        "def tanh_function_derivative(a_s):\n",
        "  fx=tanh_function(a_s)\n",
        "  return (1-np.power(fx,2))\n",
        "\n",
        "def reLU_function_derivative(a_s):\n",
        "  fx=reLU_function(a_s)\n",
        "  for i in range(len(fx)):\n",
        "    if(fx[i]>0):\n",
        "      fx[i]=1\n",
        "    else: fx[i]=0\n",
        "  return fx\n",
        "\n",
        "\n",
        "\n",
        "def derivative_function(a_s,name_of_activation):\n",
        "  if(name_of_activation==\"sigmoid\"):\n",
        "    return sigmoid_derivative(a_s)\n",
        "  if(name_of_activation==\"tanh\"):\n",
        "    return tanh_function_derivative(a_s)\n",
        "  if(name_of_activation==\"ReLU\"):\n",
        "    return reLU_function_derivative(a_s)\n",
        "\n",
        "def soft_max_function(a_s):\n",
        "  exps = np.exp(a_s - np.max(a_s))\n",
        "  # print((exps/np.sum(exps)).shape)\n",
        "  return exps / np.sum(exps)\n",
        "  # exps=np.exp(a_s)\n",
        "  # sum_of_a_s=np.sum(exps)\n",
        "  # return exps/sum_of_a_s\n",
        "\n",
        "\n",
        "def calculate_train_loss_and_accuracy(name_of_loss_function,w_s,b_s,h_s,images_to_train,labels_to_train,validation_split,name_of_activation,no_of_layers):\n",
        "  total_loss=0\n",
        "  total_accuracy=0\n",
        "  training_limit=(len(labels_to_train))*(1-validation_split)\n",
        "  # print(training_limit)\n",
        "  for i in range(int(training_limit)):\n",
        "    flattened_image=images_to_train[i].flatten().reshape(784,1)\n",
        "    a_s,h_s=forward_propagation(w_s,b_s,flattened_image,no_of_layers,images_to_train,name_of_activation)\n",
        "    labelled_image=np.zeros((10,1))\n",
        "    labelled_image[labels_to_train[i]]=1\n",
        "    total_loss+=find_loss(h_s[-1],labelled_image,name_of_loss_function)\n",
        "    if(np.argmax(h_s[-1])==labels_to_train[i]):\n",
        "      total_accuracy+=1\n",
        "  return (total_loss/training_limit),(total_accuracy/training_limit)*100\n",
        "\n",
        "\n",
        "\n",
        "def calculate_valid_loss_and_accuracy(name_of_loss_function,w_s,b_s,h_s,images_to_train,labels_to_train,validation_split,name_of_activation,no_of_layers):\n",
        "  validation_loss=0\n",
        "  validation_accuracy=0\n",
        "  validation_limit=(len(labels_to_train))*(1-validation_split)\n",
        "  for i in range(int(validation_limit),int(len(labels_to_train))):\n",
        "    flattened_image=images_to_train[i].flatten().reshape(784,1)\n",
        "    a_s,h_s=forward_propagation(w_s,b_s,flattened_image,no_of_layers,images_to_train,name_of_activation)\n",
        "    labelled_image=np.zeros((10,1))\n",
        "    labelled_image[labels_to_train[i]]=1\n",
        "    validation_loss+=find_loss(h_s[-1],labelled_image,name_of_loss_function)\n",
        "    if(np.argmax(h_s[-1])==labels_to_train[i]):\n",
        "      validation_accuracy+=1\n",
        "  return (validation_loss/(len(labels_to_train)*validation_split)),(validation_accuracy/(len(labels_to_train)*validation_split))*100\n",
        "\n",
        "\n",
        "\n",
        "def forward_propagation(w_s,b_s,flattened_image,no_of_layers,images_to_train,name_of_activation):\n",
        "  a_s=[]\n",
        "  h_s=[]\n",
        "  h_s.append(flattened_image)\n",
        "  for i in range(no_of_layers):\n",
        "    a_s.append(np.matmul(w_s[i],flattened_image)+b_s[i])\n",
        "    h_s.append(activation_function(a_s[i],name_of_activation))\n",
        "    flattened_image=h_s[-1]\n",
        "  a_s.append(np.dot(w_s[-1],flattened_image)+b_s[-1])\n",
        "  h_s.append(soft_max_function(a_s[-1]))\n",
        "  # print(h_s[-1].shape)\n",
        "  # print(a_s[0].shape,a_s[-1].shape)\n",
        "  # print(h_s[0].shape,h_s[-1].shape)\n",
        "  return a_s,h_s\n",
        "\n",
        "\n",
        "def backward_propagation(a_s,h_s,label_image,w_s,b_s,no_of_layers,name_of_activation):\n",
        "  theta_w=[]\n",
        "  theta_b=[]\n",
        "  nabla_a_last=-(label_image-h_s[-1])\n",
        "  for k in range(no_of_layers,-1,-1):\n",
        "    nabla_w_last=np.matmul(nabla_a_last,h_s[k].T)\n",
        "    theta_w.append(nabla_w_last)\n",
        "    nabla_b_last=nabla_a_last\n",
        "    theta_b.append(nabla_b_last)\n",
        "    if(k==0):\n",
        "      break\n",
        "    nabla_h_last=np.matmul(w_s[k].T,nabla_a_last)\n",
        "    # print(w_s[k].T.shape,nabla_a_last.shape)\n",
        "    nabla_a_last=np.multiply(nabla_h_last,derivative_function(a_s[k-1],name_of_activation))\n",
        "  return theta_w,theta_b\n",
        "\n",
        "\n",
        "  # nabla_a_last=-(label_image-h_s[-1])\n",
        "  # for k in range(no_of_layers-1,-1,-1):\n",
        "  #   nabla_w_last=np.matmul(nabla_a_last,h_s[k+1].T)\n",
        "  #   theta_w.append(nabla_w_last)\n",
        "  #   nabla_b_last=nabla_a_last\n",
        "  #   theta_b.append(nabla_b_last)\n",
        "  #   nabla_h_last=np.matmul(w_s[k].T,nabla_a_last)\n",
        "  #   # print(w_s[k].T.shape,nabla_a_last.shape)\n",
        "  #   nabla_a_last=np.multiply(nabla_h_last,derivative_function(a_s[k],name_of_activation))\n",
        "  # nabla_w_last=np.matmul(nabla_a_last,h_s[0].T)\n",
        "  # theta_w.append(nabla_w_last)\n",
        "  # nabla_b_last=nabla_a_last\n",
        "  # theta_b.append(nabla_b_last)\n",
        "  # return theta_w,theta_b\n",
        "\n",
        "\n",
        "\n",
        "def stochastic_gradient_descent(w_s,b_s,labels_to_train,validation_split,eta,max_epochs,name_of_activation,weight_decay,name_of_derivation_function,name_of_loss_function,no_of_layers):\n",
        "  batch_size=1\n",
        "  for iterations in range(max_epochs):\n",
        "    total_accuracy=0\n",
        "    total_loss=0\n",
        "    dw=[np.zeros_like(every_ele) for every_ele in w_s]\n",
        "    db=[np.zeros_like(every_ele) for every_ele in b_s]\n",
        "    for i in range(int(60000*1-(60000*validation_split))):\n",
        "      label_image=np.zeros((10,1))\n",
        "      label_image[labels_to_train[i]]=1\n",
        "      a_s,h_s=forward_propagation(w_s,b_s,images_to_train[i].flatten().reshape((784,1)),no_of_layers,images_to_train,name_of_activation)\n",
        "      grad_w,grad_b=backward_propagation(a_s,h_s,label_image,w_s,b_s,no_of_layers,name_of_activation)\n",
        "      grad_w.reverse()\n",
        "      grad_b.reverse()\n",
        "      dw = [dw_current + grad for dw_current, grad in zip(dw, grad_w)]\n",
        "      db = [db_current + grad for db_current, grad in zip(db, grad_b)]\n",
        "      if (i + 1) % batch_size == 0:\n",
        "          w_s = [w - (eta * grad) -(w*weight_decay) for w, grad in zip(w_s, dw)]\n",
        "          b_s = [b- eta * grad for b, grad in zip(b_s, db)]\n",
        "    # accuracy=calculate_accuracy_and_loss(images_to_train,labels_to_train,w_s,b_s,h_s)\n",
        "    # # validation_accuracy,validation_loss=cal_val_acc_and_loss(h_s,images_to_train,validation_split)\n",
        "    # # loss=(total_loss/(60000*(1-validation_split)))\n",
        "    # loss=cross_entropy_loss_function(h_s,w_s,b_s,images_to_train,labels_to_train)\n",
        "    # accuracy=(total_accuracy/(60000*(1-validation_split)))\n",
        "    # valid_loss=(validation_loss/(60000*(validation_split)))\n",
        "    # valid_accuracy=(validation_accuracy/(60000*(validation_split)))\n",
        "    train_loss,train_accuracy=calculate_train_loss_and_accuracy(name_of_loss_function,w_s,b_s,h_s,images_to_train,labels_to_train,validation_split,name_of_activation,no_of_layers)\n",
        "    valid_loss,valid_accuracy=calculate_valid_loss_and_accuracy(name_of_loss_function,w_s,b_s,h_s,images_to_train,labels_to_train,validation_split,name_of_activation,no_of_layers)\n",
        "    print(f\"training loss: {train_loss},training accuracy: {train_accuracy}, validation accuracy: {valid_accuracy}, validation loss: {valid_loss}\")\n",
        "    wandb.log({\"train_loss\":train_loss,\"train_accuracy\":train_accuracy,\"valid_loss\":valid_loss,\"valid_accuracy\":valid_accuracy})\n",
        "\n",
        "\n",
        "\n",
        "def momentum_gradient_descent(w_s,b_s,labels_to_train,validation_split,eta,max_epochs,name_of_activation,beta,mini_batch_size,weight_decay,name_of_derivation_function,name_of_loss_function,no_of_layers):\n",
        "  last_uw=[np.zeros_like(every_ele) for every_ele in w_s]\n",
        "  last_ub=[np.zeros_like(every_ele) for every_ele in b_s]\n",
        "  for iterations in range(max_epochs):\n",
        "    # total_accuracy=0\n",
        "    # total_loss=0\n",
        "    dw=[np.zeros_like(every_ele) for every_ele in w_s]\n",
        "    db=[np.zeros_like(every_ele) for every_ele in b_s]\n",
        "    points_touched_till_now=0\n",
        "    for i in range(int(60000*1-(60000*validation_split))):\n",
        "      label_image=np.zeros((10,1))\n",
        "      label_image[labels_to_train[i]]=1\n",
        "      a_s,h_s=forward_propagation(w_s,b_s,images_to_train[i].flatten().reshape((784,1)),no_of_layers,images_to_train,name_of_activation)\n",
        "      # total_loss+=find_loss(h_s[-1],label_image,)\n",
        "      # if(np.argmax(h_s[-1])==labels_to_train[i]):\n",
        "        # total_accuracy+=1\n",
        "      grad_w,grad_b=backward_propagation(a_s,h_s,label_image,w_s,b_s,no_of_layers,name_of_activation)\n",
        "      grad_w.reverse()\n",
        "      grad_b.reverse()\n",
        "      dw = [dw_current + grad for dw_current, grad in zip(dw, grad_w)]\n",
        "      db = [db_current + grad for db_current, grad in zip(db, grad_b)]\n",
        "      if (i + 1) % mini_batch_size == 0:\n",
        "          u_w = [beta * uw + grad for uw, grad in zip(last_uw, dw)]\n",
        "          u_b = [beta * ub + grad for ub, grad in zip(last_ub, db)]\n",
        "          w_s = [w*(1-weight_decay) - eta * uw for w, uw in zip(w_s, u_w)]\n",
        "          b_s = [b - eta * ub for b, ub in zip(b_s, u_b)]\n",
        "          last_uw = u_w\n",
        "          last_ub = u_b\n",
        "\n",
        "    # validation_accuracy,validation_loss=cal_val_acc_and_loss(h_s,images_to_train,validation_split)\n",
        "    # # loss=(total_loss/(60000*(1-validation_split)))\n",
        "    # cross_entropy_loss_function(h_s,w_s,b_s,images_to_train,labels_to_train)\n",
        "    # # accuracy=(total_accuracy/(60000*(1-validation_split)))\n",
        "    # accuracy=calculate_accuracy_and_loss(images_to_train,labels_to_train,w_s,b_s,h_s)\n",
        "    # valid_loss=(validation_loss/(60000*(validation_split)))\n",
        "    # valid_accuracy=(validation_accuracy/(60000*(validation_split)))\n",
        "    train_loss,train_accuracy=calculate_train_loss_and_accuracy(name_of_loss_function,w_s,b_s,h_s,images_to_train,labels_to_train,validation_split,name_of_activation,no_of_layers)\n",
        "    valid_loss,valid_accuracy=calculate_valid_loss_and_accuracy(name_of_loss_function,w_s,b_s,h_s,images_to_train,labels_to_train,validation_split,name_of_activation,no_of_layers)\n",
        "    print(f\"training loss: {train_loss},training accuracy: {train_accuracy}, validation accuracy: {valid_accuracy}, validation loss: {valid_loss}\")\n",
        "    wandb.log({\"train_loss\":train_loss,\"train_accuracy\":train_accuracy,\"valid_loss\":valid_loss,\"valid_accuracy\":valid_accuracy})\n",
        "\n",
        "\n",
        "\n",
        "\n",
        "def nesterov_gradient_descent(w_s,b_s,labels_to_train,validation_split,eta,max_epochs,name_of_activation,beta,mini_batch_size,weight_decay,name_of_derivation_function,name_of_loss_function,no_of_layers):\n",
        "  last_uw=[np.zeros_like(every_ele) for every_ele in w_s]\n",
        "  last_ub=[np.zeros_like(every_ele) for every_ele in b_s]\n",
        "  for iterations in range(max_epochs):\n",
        "    # total_accuracy=0\n",
        "    # total_loss=0\n",
        "    dw=[np.zeros_like(every_ele) for every_ele in w_s]\n",
        "    db=[np.zeros_like(every_ele) for every_ele in b_s]\n",
        "    points_touched_till_now=0\n",
        "    u_w = [beta * uw for uw in last_uw]\n",
        "    u_b = [beta * ub for ub in last_ub]\n",
        "    for i in range(int(60000*1-(60000*validation_split))):\n",
        "      label_image=np.zeros((10,1))\n",
        "      label_image[labels_to_train[i]]=1\n",
        "      a_s,h_s=forward_propagation(w_s,b_s,images_to_train[i].flatten().reshape((784,1)),no_of_layers,images_to_train,name_of_activation)\n",
        "      # total_loss+=find_loss(h_s[-1],label_image)\n",
        "      # if(np.argmax(h_s[-1])==labels_to_train[i]):\n",
        "        # total_accuracy+=1\n",
        "      grad_w,grad_b=backward_propagation(a_s,h_s,label_image,[w-u for w, u in zip(w_s,u_w)],[b-u for b,u in zip(b_s,u_b)],no_of_layers,name_of_activation)\n",
        "      grad_w.reverse()\n",
        "      grad_b.reverse()\n",
        "      dw = [dw_current + grad for dw_current, grad in zip(dw, grad_w)]\n",
        "      db = [db_current + grad for db_current, grad in zip(db, grad_b)]\n",
        "      if (i + 1) % mini_batch_size == 0:\n",
        "        u_w = [beta * uw + grad for uw, grad in zip(last_uw, dw)]\n",
        "        u_b = [beta * ub + grad for ub, grad in zip(last_ub, db)]\n",
        "        w_s = [w*(1-weight_decay) - eta * uw for w, uw in zip(w_s, u_w)]\n",
        "        b_s = [b - eta * ub for b, ub in zip(b_s, u_b)]\n",
        "        last_uw = u_w\n",
        "        last_ub = u_b\n",
        "    # validation_accuracy,validation_loss=cal_val_acc_and_loss(h_s,images_to_train,validation_split)\n",
        "    # # loss=(total_loss/(60000*(1-validation_split)))\n",
        "    # cross_entropy_loss_function(h_s,w_s,b_s,images_to_train,labels_to_train)\n",
        "    # # accuracy=(total_accuracy/(60000*(1-validation_split)))\n",
        "    # accuracy=calculate_accuracy_and_loss(images_to_train,labels_to_train,w_s,b_s,h_s)\n",
        "    # valid_loss=(validation_loss/(60000*(validation_split)))\n",
        "    # valid_accuracy=(validation_accuracy/(60000*(validation_split)))\n",
        "    train_loss,train_accuracy=calculate_train_loss_and_accuracy(name_of_loss_function,w_s,b_s,h_s,images_to_train,labels_to_train,validation_split,name_of_activation,no_of_layers)\n",
        "    valid_loss,valid_accuracy=calculate_valid_loss_and_accuracy(name_of_loss_function,w_s,b_s,h_s,images_to_train,labels_to_train,validation_split,name_of_activation,no_of_layers)\n",
        "    print(f\"training loss: {train_loss},training accuracy: {train_accuracy}, validation accuracy: {valid_accuracy}, validation loss: {valid_loss}\")\n",
        "    wandb.log({\"train_loss\":train_loss,\"train_accuracy\":train_accuracy,\"valid_loss\":valid_loss,\"valid_accuracy\":valid_accuracy})\n",
        "\n",
        "\n",
        "\n",
        "\n",
        "def rmsprop_gradient_descent(w_s,b_s,labels_to_train,validation_split,eta,max_epochs,name_of_activation,beta,mini_batch_size,eps,weight_decay,name_of_derivation_function,name_of_loss_function,no_of_layers):\n",
        "  last_uw=[np.zeros_like(every_ele) for every_ele in w_s]\n",
        "  last_ub=[np.zeros_like(every_ele) for every_ele in b_s]\n",
        "  for iterations in range(max_epochs):\n",
        "    # total_accuracy=0\n",
        "    # total_loss=0\n",
        "    dw=[np.zeros_like(every_ele) for every_ele in w_s]\n",
        "    db=[np.zeros_like(every_ele) for every_ele in b_s]\n",
        "    points_touched_till_now=0\n",
        "    for i in range(int(60000*1-(60000*validation_split))):\n",
        "      label_image=np.zeros((10,1))\n",
        "      label_image[labels_to_train[i]]=1\n",
        "      a_s,h_s=forward_propagation(w_s,b_s,images_to_train[i].flatten().reshape((784,1)),no_of_layers,images_to_train,name_of_activation)\n",
        "      # total_loss+=find_loss(h_s[-1],label_image)\n",
        "      # if(np.argmax(h_s[-1])==labels_to_train[i]):\n",
        "        # total_accuracy+=1\n",
        "      grad_w,grad_b=backward_propagation(a_s,h_s,label_image,w_s,b_s,no_of_layers,name_of_activation)\n",
        "      grad_w.reverse()\n",
        "      grad_b.reverse()\n",
        "      dw = [dw_current + grad for dw_current, grad in zip(dw, grad_w)]\n",
        "      db = [db_current + grad for db_current, grad in zip(db, grad_b)]\n",
        "      if((i+1)%mini_batch_size==0):\n",
        "        u_w = [beta * uw + (1-beta)*(grad**2) for uw, grad in zip(last_uw, dw)]\n",
        "        u_b = [beta * ub + (1-beta)*(grad**2) for ub, grad in zip(last_ub, db)]\n",
        "        w_s = [w*(1-weight_decay) - eta * x / (np.sqrt(uw + eps)) for w, x, uw in zip(w_s, dw, u_w)]\n",
        "        b_s = [b - eta * x / (np.sqrt(ub + eps)) for b, x, ub in zip(b_s, db, u_b)]\n",
        "        last_uw=u_w\n",
        "        last_ub=u_b\n",
        "    # validation_accuracy,validation_loss=cal_val_acc_and_loss(h_s,images_to_train,validation_split)\n",
        "    # # loss=(total_loss/(60000*(1-validation_split)))\n",
        "    # cross_entropy_loss_function(h_s,w_s,b_s,images_to_train,labels_to_train)\n",
        "    # # accuracy=(total_accuracy/(60000*(1-validation_split)))\n",
        "    # accuracy=calculate_accuracy_and_loss(images_to_train,labels_to_train,w_s,b_s,h_s)\n",
        "    # valid_loss=(validation_loss/(60000*(validation_split)))\n",
        "    # valid_accuracy=(validation_accuracy/(60000*(validation_split)))\n",
        "    train_loss,train_accuracy=calculate_train_loss_and_accuracy(name_of_loss_function,w_s,b_s,h_s,images_to_train,labels_to_train,validation_split,name_of_activation,no_of_layers)\n",
        "    valid_loss,valid_accuracy=calculate_valid_loss_and_accuracy(name_of_loss_function,w_s,b_s,h_s,images_to_train,labels_to_train,validation_split,name_of_activation,no_of_layers)\n",
        "    print(f\"training loss: {train_loss},training accuracy: {train_accuracy}, validation accuracy: {valid_accuracy}, validation loss: {valid_loss}\")\n",
        "    wandb.log({\"train_loss\":train_loss,\"train_accuracy\":train_accuracy,\"valid_loss\":valid_loss,\"valid_accuracy\":valid_accuracy})\n",
        "\n",
        "\n",
        "\n",
        "def adam_gradient_descent(w_s,b_s,labels_to_train,validation_split,eta,max_epochs,name_of_activation,beta,beta1,beta2,eps,weight_decay,name_of_derivation_function,name_of_loss_function,no_of_layers,mini_batch_size):\n",
        "  m_w=[np.zeros_like(every_ele) for every_ele in w_s]\n",
        "  m_b=[np.zeros_like(every_ele) for every_ele in b_s]\n",
        "  v_w=[np.zeros_like(every_ele) for every_ele in w_s]\n",
        "  v_b=[np.zeros_like(every_ele) for every_ele in b_s]\n",
        "  for iterations in range(max_epochs):\n",
        "    # total_accuracy=0\n",
        "    # total_loss=0\n",
        "    dw=[np.zeros_like(every_ele) for every_ele in w_s]\n",
        "    db=[np.zeros_like(every_ele) for every_ele in b_s]\n",
        "    points_touched_till_now=0\n",
        "    for i in range(int(60000*1-(60000*validation_split))):\n",
        "      label_image=np.zeros((10,1))\n",
        "      label_image[labels_to_train[i]]=1\n",
        "      a_s,h_s=forward_propagation(w_s,b_s,images_to_train[i].flatten().reshape((784,1)),no_of_layers,images_to_train,name_of_activation)\n",
        "      # total_loss+=find_loss(h_s[-1],label_image)\n",
        "      # if(np.argmax(h_s[-1])==labels_to_train[i]):\n",
        "      #   total_accuracy+=1\n",
        "      grad_w,grad_b=backward_propagation(a_s,h_s,label_image,w_s,b_s,no_of_layers,name_of_activation)\n",
        "      grad_w.reverse()\n",
        "      grad_b.reverse()\n",
        "      dw = [dw_current + grad for dw_current, grad in zip(dw, grad_w)]\n",
        "      db = [db_current + grad for db_current, grad in zip(db, grad_b)]\n",
        "      if((i+1)%mini_batch_size==0):\n",
        "        m_w = [beta1* mw + (1-beta1)*(grad) for mw, grad in zip(m_w, dw)]\n",
        "        m_b = [beta1* mb + (1-beta1)*(grad) for mb, grad in zip(m_b, db)]\n",
        "        m_w = [beta2* vw + (1-beta2)*(grad**2) for vw, grad in zip(v_w, dw)]\n",
        "        m_b = [beta2* vb + (1-beta2)*(grad**2) for vb, grad in zip(v_b, db)]\n",
        "\n",
        "\n",
        "        m_w_hat=[m/(1-np.power(beta1,i+1)) for m in m_w]\n",
        "        m_b_hat=[m/(1-np.power(beta1,i+1)) for m in m_b]\n",
        "        v_w_hat=[v/(1-np.power(beta2,i+1)) for v in v_w]\n",
        "        v_b_hat=[v/(1-np.power(beta2,i+1)) for v in v_b]\n",
        "        for i in range(len(w_s)):\n",
        "          for j in range(len(w_s[i])):\n",
        "              w_s[i][j] =w_s[i][j]*(1-weight_decay)-(eta * m_w_hat[i][j]) / (np.sqrt(v_w_hat[i][j]) + eps)\n",
        "              b_s[i][j]-= (eta * m_b_hat[i][j]) / (np.sqrt(v_b_hat[i][j]) + eps)\n",
        "    # validation_accuracy,validation_loss=cal_val_acc_and_loss(h_s,images_to_train,validation_split)\n",
        "    # # loss=(total_loss/(60000*(1-validation_split)))\n",
        "    # cross_entropy_loss_function(h_s,w_s,b_s,images_to_train,labels_to_train)\n",
        "    # # accuracy=(total_accuracy/(60000*(1-validation_split)))\n",
        "    # accuracy=calculate_accuracy_and_loss(images_to_train,labels_to_train,w_s,b_s,h_s)\n",
        "    # valid_loss=(validation_loss/(60000*(validation_split)))\n",
        "    # valid_accuracy=(validation_accuracy/(60000*(validation_split)))\n",
        "    train_loss,train_accuracy=calculate_train_loss_and_accuracy(name_of_loss_function,w_s,b_s,h_s,images_to_train,labels_to_train,validation_split,name_of_activation,no_of_layers)\n",
        "    valid_loss,valid_accuracy=calculate_valid_loss_and_accuracy(name_of_loss_function,w_s,b_s,h_s,images_to_train,labels_to_train,validation_split,name_of_activation,no_of_layers)\n",
        "    print(f\"training loss: {train_loss},training accuracy: {train_accuracy}, validation accuracy: {valid_accuracy}, validation loss: {valid_loss}\")\n",
        "    wandb.log({\"train_loss\":train_loss,\"train_accuracy\":train_accuracy,\"valid_loss\":valid_loss,\"valid_accuracy\":valid_accuracy})\n",
        "\n",
        "\n",
        "\n",
        "def nadam_gradient_descent(w_s,b_s,labels_to_train,validation_split,eta,max_epochs,name_of_activation,beta,beta1,beta2,eps,weight_decay,name_of_derivation_function,name_of_loss_function,no_of_layers,mini_batch_size):\n",
        "  m_w=[np.zeros_like(every_ele) for every_ele in w_s]\n",
        "  m_b=[np.zeros_like(every_ele) for every_ele in b_s]\n",
        "  v_w=[np.zeros_like(every_ele) for every_ele in w_s]\n",
        "  v_b=[np.zeros_like(every_ele) for every_ele in b_s]\n",
        "  for iterations in range(max_epochs):\n",
        "    # total_accuracy=0\n",
        "    # total_loss=0\n",
        "    dw=[np.zeros_like(every_ele) for every_ele in w_s]\n",
        "    db=[np.zeros_like(every_ele) for every_ele in b_s]\n",
        "    # points_touched_till_now=0\n",
        "    for i in range(int(60000*1-(60000*validation_split))):\n",
        "      label_image=np.zeros((10,1))\n",
        "      label_image[labels_to_train[i]]=1\n",
        "      a_s,h_s=forward_propagation(w_s,b_s,images_to_train[i].flatten().reshape((784,1)),no_of_layers,images_to_train,name_of_activation)\n",
        "      # total_loss+=find_loss(h_s[-1],label_image)\n",
        "      # if(np.argmax(h_s[-1])==labels_to_train[i]):\n",
        "      #   total_accuracy+=1\n",
        "      grad_w,grad_b=backward_propagation(a_s,h_s,label_image,w_s,b_s,no_of_layers,name_of_activation)\n",
        "      grad_w.reverse()\n",
        "      grad_b.reverse()\n",
        "      dw = [dw_current + grad for dw_current, grad in zip(dw, grad_w)]\n",
        "      db = [db_current + grad for db_current, grad in zip(db, grad_b)]\n",
        "      if((i+1)%mini_batch_size==0):\n",
        "        m_w = [beta1* mw + (1-beta1)*(grad) for mw, grad in zip(m_w, dw)]\n",
        "        m_b = [beta1* mb + (1-beta1)*(grad) for mb, grad in zip(m_b, db)]\n",
        "        v_w = [beta2* vw + (1-beta2)*(grad**2) for vw, grad in zip(v_w, dw)]\n",
        "        v_b = [beta2* vb + (1-beta2)*(grad**2) for vb, grad in zip(v_b, db)]\n",
        "        m_w_hat=[m/(1-np.power(beta1,i+1)) for m in m_w]\n",
        "        m_b_hat=[m/(1-np.power(beta1,i+1)) for m in m_b]\n",
        "        v_w_hat=[v/(1-np.power(beta2,i+1)) for v in v_w]\n",
        "        v_b_hat=[v/(1-np.power(beta2,i+1)) for v in v_b]\n",
        "        for i in range(len(w_s)):\n",
        "          for j in range(len(w_s[i])):\n",
        "              update_w = np.dot((eta / (np.sqrt(v_w_hat[i][j]) + eps)), (beta1 * m_w_hat[i][j] + (((1 - beta1) * dw[i][j]) / (1 - np.power(beta1, i + 1)))))\n",
        "              w_s[i][j] =w_s[i][j]*(1-weight_decay)-update_w\n",
        "        for i in range(len(b_s)):\n",
        "          for j in range(len(b_s[i])):\n",
        "              update_b = np.dot((eta / (np.sqrt(v_b_hat[i][j]) + eps)), (beta1 * m_b_hat[i][j] + (((1 - beta1) * db[i][j]) / (1 - np.power(beta1, i + 1)))))\n",
        "              b_s[i][j] -= update_b\n",
        "    # validation_accuracy,validation_loss=cal_val_acc_and_loss(h_s,images_to_train,validation_split)\n",
        "    # # loss=(total_loss/(60000*(1-validation_split)))\n",
        "    # cross_entropy_loss_function(h_s,w_s,b_s,images_to_train,labels_to_train)\n",
        "    # # accuracy=(total_accuracy/(60000*(1-validation_split)))\n",
        "    # accuracy=calculate_accuracy_and_loss(images_to_train,labels_to_train,w_s,b_s,h_s)\n",
        "    # valid_loss=(validation_loss/(60000*(validation_split)))\n",
        "    # valid_accuracy=(validation_accuracy/(60000*(validation_split)))\n",
        "    train_loss,train_accuracy=calculate_train_loss_and_accuracy(name_of_loss_function,w_s,b_s,h_s,images_to_train,labels_to_train,validation_split,name_of_activation,no_of_layers)\n",
        "    valid_loss,valid_accuracy=calculate_valid_loss_and_accuracy(name_of_loss_function,w_s,b_s,h_s,images_to_train,labels_to_train,validation_split,name_of_activation,no_of_layers)\n",
        "    print(f\"training loss: {train_loss},training accuracy: {train_accuracy}, validation accuracy: {valid_accuracy}, validation loss: {valid_loss}\")\n",
        "    # wandb.log({'valid_loss':valid_loss})\n",
        "    wandb.log({\"train_loss\":train_loss,\"train_accuracy\":train_accuracy,\"valid_loss\":valid_loss,\"valid_accuracy\":valid_accuracy})\n",
        "\n",
        "\n",
        "\n",
        "\n",
        "def optimization_function(name_of_optimizer,w_s,b_s,labels_to_train,validation_split,eta,max_epochs,beta,mini_batch_size,eps,beta1,beta2,weight_decay,name_of_activation,\n",
        "                        name_of_loss_function,name_of_derivation_function,no_of_layers):\n",
        "  if(name_of_optimizer==\"sgd\"):\n",
        "    stochastic_gradient_descent(w_s,b_s,labels_to_train,validation_split,eta,max_epochs,name_of_activation,weight_decay,name_of_derivation_function,name_of_loss_function,no_of_layers)\n",
        "  if(name_of_optimizer==\"momentum\"):\n",
        "    momentum_gradient_descent(w_s,b_s,labels_to_train,validation_split,eta,max_epochs,name_of_activation,beta,mini_batch_size,weight_decay,name_of_derivation_function,name_of_loss_function,no_of_layers)\n",
        "  if(name_of_optimizer==\"nesterov\"):\n",
        "    nesterov_gradient_descent(w_s,b_s,labels_to_train,validation_split,eta,max_epochs,name_of_activation,beta,mini_batch_size,weight_decay,name_of_derivation_function,name_of_loss_function,no_of_layers)\n",
        "  if(name_of_optimizer==\"rmsprop\"):\n",
        "    rmsprop_gradient_descent(w_s,b_s,labels_to_train,validation_split,eta,max_epochs,name_of_activation,beta,mini_batch_size,eps,weight_decay,name_of_derivation_function,name_of_loss_function,no_of_layers)\n",
        "  if(name_of_optimizer==\"adam\"):\n",
        "    adam_gradient_descent(w_s,b_s,labels_to_train,validation_split,eta,max_epochs,name_of_activation,beta,beta1,beta2,eps,weight_decay,name_of_derivation_function,name_of_loss_function,no_of_layers,mini_batch_size)\n",
        "  if(name_of_optimizer==\"nadam\"):\n",
        "    nadam_gradient_descent(w_s,b_s,labels_to_train,validation_split,eta,max_epochs,name_of_activation,beta,beta1,beta2,eps,weight_decay,name_of_derivation_function,name_of_loss_function,no_of_layers,mini_batch_size)\n",
        "# def no_of_epochs(max_epochs)\n",
        "# def weight_decay(weight_decay_value)\n",
        "# def batch_size(batch_size_value)\n",
        "# name_of_function=\"random\"\n",
        "# no_of_layers=4\n",
        "# no_neurons_per_layer=32\n",
        "# name_of_optimizer=\"sgd\"\n",
        "# validation_split=0.1\n",
        "# eta=0.001\n",
        "# eps=1e-5\n",
        "# beta=0.5\n",
        "# beta1=0.9\n",
        "# beta2=0.999\n",
        "# max_epochs=10\n",
        "# mini_batch_size=64\n",
        "# weight_decay=0.5\n",
        "# name_of_activation=\"ReLU\"\n",
        "# name_of_loss_function=\"cross entropy\"\n",
        "name_of_derivation_function=\"sigmoid_derivative\"\n",
        "\n",
        "\n",
        "\n",
        "# def main_function(name_of_function,no_of_layers,no_neurons_per_layer,name_of_optimizer,labels_to_train,validation_split,eta,max_epochs,beta,mini_batch_size,eps,beta1,beta2,name_of_activation,\n",
        "#                         name_of_loss_function,weight_decay,name_of_derivation_function):\n",
        "#   w_s,b_s=intitalize_w_and_b(name_of_function,no_of_layers,no_neurons_per_layer)\n",
        "#   optimization_function(name_of_optimizer,w_s,b_s,labels_to_train,validation_split,eta,max_epochs,beta,mini_batch_size,eps,beta1,beta2,weight_decay,name_of_activation,\n",
        "#                         name_of_loss_function,name_of_derivation_function)\n",
        "\n",
        "# !pip install wandb\n",
        "# import wandb\n",
        "# wandb.login()\n",
        "# wandb.init(project=\"CS6910_dL_assignment_1\")\n",
        "\n",
        "def main_function():\n",
        "  wandb.init(project='dL_assignment_1')\n",
        "  params=wandb.config\n",
        "  with wandb.init(project='dL_assignment_1',name='fun->'+params.name_of_function) as run :\n",
        "    w_s,b_s=intitalize_w_and_b(params.name_of_function,params.no_of_layers,params.no_neurons_per_layer)\n",
        "    optimization_function(params.name_of_optimizer,w_s,b_s,labels_to_train,0.1,params.eta,params.max_epochs,0.5,params.mini_batch_size,params.eps,0.9,0.999,params.weight_decay,params.name_of_activation,\n",
        "                        params.name_of_loss_function,name_of_derivation_function,params.no_of_layers)\n",
        "# main_function(name_of_function,no_of_layers,no_neurons_per_layer,name_of_optimizer,labels_to_train,validation_split,eta,max_epochs,beta,mini_batch_size,eps,beta1,beta2,name_of_activation,\n",
        "#               name_of_loss_function,weight_decay,name_of_derivation_function)\n",
        "\n",
        "\n",
        "sweep_params={\n",
        "    'method':'bayes',\n",
        "    'name': 'test',\n",
        "    'metric':{\n",
        "        'goal':'maximize',\n",
        "        'name':'valid_accuracy'\n",
        "    },\n",
        "    'parameters':{\n",
        "        'name_of_function':{'values':['random','xavier']},\n",
        "        'no_of_layers':{'values':[3,4,5]},\n",
        "        'no_neurons_per_layer':{'values':[32,16,64]},\n",
        "        'name_of_optimizer':{'values':['sgd','momentum','nesterov','rmsprop','adam','nadam']},\n",
        "        'eta':{'values':[1e-3,1e-4]},\n",
        "        'eps':{'values':[1e-5,1e-8,1e-10]},\n",
        "        'mini_batch_size':{'values':[16,32,64]},\n",
        "        'weight_decay':{'values':[0.0005,0,0.5]},\n",
        "        'max_epochs':{'values':[5,10]},\n",
        "        'name_of_activation':{'values':['tanh','sigmoid','ReLU']},\n",
        "        'name_of_loss_function':{'values':['cross entropy']}\n",
        "    }\n",
        "}\n",
        "\n",
        "sid=wandb.sweep(sweep_params,project='dL_assignment_1')\n",
        "wandb.agent(sid,function=main_function,count=5)"
      ]
    }
  ]
}