{
  "cells": [
    {
      "cell_type": "markdown",
      "metadata": {
        "id": "view-in-github",
        "colab_type": "text"
      },
      "source": [
        "<a href=\"https://colab.research.google.com/github/Sharathkumar245/DL_Assignment_1/blob/main/partA/dl_assignment_partA.ipynb\" target=\"_parent\"><img src=\"https://colab.research.google.com/assets/colab-badge.svg\" alt=\"Open In Colab\"/></a>"
      ]
    },
    {
      "cell_type": "markdown",
      "metadata": {
        "id": "eWiefG1vOkkI"
      },
      "source": []
    },
    {
      "cell_type": "code",
      "execution_count": null,
      "metadata": {
        "colab": {
          "base_uri": "https://localhost:8080/"
        },
        "id": "43mVUOEAOjSf",
        "outputId": "f2abed9c-daea-482f-edbe-070a6febe7db"
      },
      "outputs": [
        {
          "output_type": "stream",
          "name": "stdout",
          "text": [
            "Mounted at /content/drive\n"
          ]
        }
      ],
      "source": [
        "from google.colab import drive\n",
        "drive.mount('/content/drive')"
      ]
    },
    {
      "cell_type": "code",
      "execution_count": null,
      "metadata": {
        "colab": {
          "base_uri": "https://localhost:8080/"
        },
        "id": "yNTUf4DhN4mV",
        "outputId": "523adba3-5a12-41e4-bafc-33786742f2ee"
      },
      "outputs": [
        {
          "output_type": "stream",
          "name": "stdout",
          "text": [
            "Requirement already satisfied: torchvision in /usr/local/lib/python3.10/dist-packages (0.16.0+cu121)\n",
            "Requirement already satisfied: numpy in /usr/local/lib/python3.10/dist-packages (from torchvision) (1.25.2)\n",
            "Requirement already satisfied: requests in /usr/local/lib/python3.10/dist-packages (from torchvision) (2.31.0)\n",
            "Requirement already satisfied: torch==2.1.0 in /usr/local/lib/python3.10/dist-packages (from torchvision) (2.1.0+cu121)\n",
            "Requirement already satisfied: pillow!=8.3.*,>=5.3.0 in /usr/local/lib/python3.10/dist-packages (from torchvision) (9.4.0)\n",
            "Requirement already satisfied: filelock in /usr/local/lib/python3.10/dist-packages (from torch==2.1.0->torchvision) (3.13.1)\n",
            "Requirement already satisfied: typing-extensions in /usr/local/lib/python3.10/dist-packages (from torch==2.1.0->torchvision) (4.10.0)\n",
            "Requirement already satisfied: sympy in /usr/local/lib/python3.10/dist-packages (from torch==2.1.0->torchvision) (1.12)\n",
            "Requirement already satisfied: networkx in /usr/local/lib/python3.10/dist-packages (from torch==2.1.0->torchvision) (3.2.1)\n",
            "Requirement already satisfied: jinja2 in /usr/local/lib/python3.10/dist-packages (from torch==2.1.0->torchvision) (3.1.3)\n",
            "Requirement already satisfied: fsspec in /usr/local/lib/python3.10/dist-packages (from torch==2.1.0->torchvision) (2023.6.0)\n",
            "Requirement already satisfied: triton==2.1.0 in /usr/local/lib/python3.10/dist-packages (from torch==2.1.0->torchvision) (2.1.0)\n",
            "Requirement already satisfied: charset-normalizer<4,>=2 in /usr/local/lib/python3.10/dist-packages (from requests->torchvision) (3.3.2)\n",
            "Requirement already satisfied: idna<4,>=2.5 in /usr/local/lib/python3.10/dist-packages (from requests->torchvision) (3.6)\n",
            "Requirement already satisfied: urllib3<3,>=1.21.1 in /usr/local/lib/python3.10/dist-packages (from requests->torchvision) (2.0.7)\n",
            "Requirement already satisfied: certifi>=2017.4.17 in /usr/local/lib/python3.10/dist-packages (from requests->torchvision) (2024.2.2)\n",
            "Requirement already satisfied: MarkupSafe>=2.0 in /usr/local/lib/python3.10/dist-packages (from jinja2->torch==2.1.0->torchvision) (2.1.5)\n",
            "Requirement already satisfied: mpmath>=0.19 in /usr/local/lib/python3.10/dist-packages (from sympy->torch==2.1.0->torchvision) (1.3.0)\n"
          ]
        }
      ],
      "source": [
        "!pip install torchvision\n",
        "import torch\n",
        "import torchvision.transforms as transforms\n",
        "from torchvision.datasets import ImageFolder\n",
        "data_folder=\"/content/drive/MyDrive/inaturalist_12K/train\""
      ]
    },
    {
      "cell_type": "code",
      "execution_count": null,
      "metadata": {
        "colab": {
          "base_uri": "https://localhost:8080/"
        },
        "id": "tj30jWLeStso",
        "outputId": "d4596e17-f33d-4421-de99-cf7a00800e62"
      },
      "outputs": [
        {
          "output_type": "stream",
          "name": "stdout",
          "text": [
            "torch.Size([1, 10])\n"
          ]
        }
      ],
      "source": [
        "import torch.nn as nn\n",
        "import torch.nn.functional as func\n",
        "import torch.optim as optim\n",
        "import torch.utils.data as data\n",
        "from torchvision import datasets,transforms\n",
        "import numpy as np\n",
        "import matplotlib.pyplot as plt\n",
        "transform=transforms.Compose([transforms.Resize((224,224)),transforms.ToTensor(),transforms.Normalize(mean=[0.485,0.456,0.406],std=[0.229,0.224,0.225])])\n",
        "naturalist_dataset=ImageFolder(root=data_folder,transform=transform)\n",
        "train_data_size=int(0.8*(len(naturalist_dataset)))\n",
        "valid_data_size=int(len(naturalist_dataset)-train_data_size)\n",
        "train_dataset,valid_dataset=torch.utils.data.random_split(naturalist_dataset,[train_data_size,valid_data_size])\n",
        "train_loader=data.DataLoader(train_dataset,batch_size=64,shuffle=True)\n",
        "valid_loader=data.DataLoader(valid_dataset,batch_size=64,shuffle=False)\n",
        "\n",
        "\n",
        "\n",
        "# print(\"No of classes: \",len(naturalist_dataset.classes))\n",
        "# print(\"No of training images: \",len(train_dataset))\n",
        "# print(\"No of validation images: \",len(valid_dataset))\n",
        "# sample_image,sample_label=train_dataset[0]\n",
        "# print(sample_image.shape)\n",
        "# naturalist_dataset\n",
        "\n",
        "\n",
        "#define a CNN model\n",
        "class convnetwork(nn.Module):\n",
        "  def __init__(self,in_channels,num_classes,conv_filters,conv_filter_sizes,conv_strides,\n",
        "              pool_filter_sizes,pool_strides,hidden_units,activation_func=nn.ReLU):\n",
        "    super(convnetwork,self).__init__()\n",
        "    #create an array to store the layers\n",
        "    self.conv_layers=nn.ModuleList()\n",
        "    self.pool_layers=nn.ModuleList()\n",
        "    self.activations=nn.ModuleList()\n",
        "    for i in range(len(conv_filters)):\n",
        "      conv_layer=nn.Conv2d(in_channels,conv_filters[i],conv_filter_sizes[i],conv_strides[i],1)\n",
        "      activation_layer=activation_func()\n",
        "      pool_layer=nn.MaxPool2d(pool_filter_sizes[i],pool_strides[i])\n",
        "\n",
        "      #append these layers to the list that we created lists\n",
        "      self.conv_layers.append(conv_layer)\n",
        "      self.activations.append(activation_layer)\n",
        "      self.pool_layers.append(pool_layer)\n",
        "\n",
        "      in_channels=conv_filters[i];\n",
        "    self.fc=nn.Linear(12544,hidden_units)\n",
        "    self.output_layer=nn.Linear(hidden_units,num_classes)\n",
        "\n",
        "    #now do the forward propagation on the layers in the network\n",
        "  def forward(self,x):\n",
        "    for i in range(len(self.conv_layers)):\n",
        "      x=self.conv_layers[i](x)\n",
        "      x=self.activations[i](x)\n",
        "      x=self.pool_layers[i](x)\n",
        "\n",
        "    x=x.view(x.size(0),-1)\n",
        "    x=self.fc(x)\n",
        "    x=self.output_layer(x)\n",
        "    return x\n",
        "\n",
        "  #we need the configuration for the class so we are giving those\n",
        "model = convnetwork(\n",
        "    in_channels=3,\n",
        "    num_classes=10,\n",
        "    conv_filters=[16,32,64,128,256],\n",
        "    conv_filter_sizes=[3,3,3,3,3],\n",
        "    conv_strides=[1,1,1,1,1],\n",
        "    pool_filter_sizes=[2,2,2,2,2],\n",
        "    pool_strides=[2,2,2,2,2],\n",
        "    hidden_units=256,\n",
        "    activation_func=nn.ReLU\n",
        ")\n",
        "\n",
        "random_input=torch.randn(1,3,224,224)\n",
        "output=model(random_input)\n",
        "print(output.shape)"
      ]
    }
  ],
  "metadata": {
    "colab": {
      "provenance": [],
      "authorship_tag": "ABX9TyP/fXvXI/mNC8YCIOsmPK0V",
      "include_colab_link": true
    },
    "kernelspec": {
      "display_name": "Python 3",
      "name": "python3"
    },
    "language_info": {
      "name": "python"
    }
  },
  "nbformat": 4,
  "nbformat_minor": 0
}